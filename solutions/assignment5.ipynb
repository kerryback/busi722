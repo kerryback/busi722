{
 "cells": [
  {
   "cell_type": "markdown",
   "metadata": {},
   "source": [
    "1.  *Using data from the SQL database since 2010, sort into deciles based on marketcap and compute equally weighted portfolio returns.  What were the mean returns of the decile portfolios?*"
   ]
  },
  {
   "cell_type": "code",
   "execution_count": 4,
   "metadata": {},
   "outputs": [],
   "source": [
    "import pandas as pd \n",
    "from sqlalchemy import create_engine\n",
    "\n",
    "server = 'fs.rice.edu'\n",
    "database = 'stocks'\n",
    "username = 'stocks'\n",
    "password = '6LAZH1'\n",
    "driver = 'SQL+Server'\n",
    "string = f\"mssql+pyodbc://{username}:{password}@{server}/{database}\" \n",
    "try: \n",
    "    conn = create_engine(string + \"?driver='SQL+Server'\").connect()\n",
    "except:\n",
    "    try:\n",
    "        conn = create_engine(string + \"?driver='ODBC+Driver+18+for+SQL+Server'\").connect()\n",
    "    except:\n",
    "        import pymssql\n",
    "        string = f\"mssql+pymssql://{username}:{password}@{server}/{database}\"   \n",
    "        conn = create_engine(string).connect() "
   ]
  },
  {
   "cell_type": "code",
   "execution_count": 5,
   "metadata": {},
   "outputs": [],
   "source": [
    "sep_weekly = pd.read_sql(\n",
    "    \"\"\" \n",
    "    select date, ticker, closeadj, closeunadj, lastupdated from sep_weekly \n",
    "    where date >= '2010-01-01'\n",
    "    order by ticker, date, lastupdated    \n",
    "    \"\"\",\n",
    "    conn,\n",
    ")\n",
    "sep_weekly = sep_weekly.groupby([\"ticker\", \"date\"]).last()\n",
    "sep_weekly = sep_weekly.drop(columns=[\"lastupdated\"])\n",
    "\n",
    "ret = sep_weekly.groupby(\"ticker\", group_keys=False).closeadj.pct_change()\n",
    "ret.name = \"ret\"\n",
    "\n",
    "price = sep_weekly.closeunadj\n",
    "price.name = \"price\""
   ]
  },
  {
   "cell_type": "code",
   "execution_count": 6,
   "metadata": {},
   "outputs": [],
   "source": [
    "weekly = pd.read_sql(\n",
    "    \"\"\" \n",
    "    select date, ticker, marketcap, lastupdated from weekly \n",
    "    where date>='2010-01-01'\n",
    "    order by ticker, date, lastupdated    \n",
    "    \"\"\",\n",
    "    conn,\n",
    ")\n",
    "weekly = weekly.groupby([\"ticker\", \"date\"]).last()\n",
    "weekly = weekly.drop(columns=[\"lastupdated\"])\n",
    "\n",
    "marketcap = weekly.marketcap \n",
    "marketcap.name = \"marketcap\""
   ]
  },
  {
   "cell_type": "code",
   "execution_count": 11,
   "metadata": {},
   "outputs": [
    {
     "name": "stdout",
     "output_type": "stream",
     "text": [
      "Annualized percentage mean returns are\n",
      "decile\n",
      "1      7.22\n",
      "2     11.28\n",
      "3     11.82\n",
      "4     11.13\n",
      "5     13.33\n",
      "6     13.27\n",
      "7     12.64\n",
      "8     12.21\n",
      "9     12.91\n",
      "10    13.35\n",
      "dtype: float64\n"
     ]
    }
   ],
   "source": [
    "df = pd.concat((price, ret, marketcap), axis=1)\n",
    "df[\"ret\"] = df.groupby(\"ticker\", group_keys=False).ret.shift(-1)\n",
    "df = df[df.price>=5].dropna()\n",
    "df[\"decile\"] = df.groupby(\"date\", group_keys=False).marketcap.apply(\n",
    "    lambda x: pd.qcut(x, 10, labels=range(1, 11))\n",
    ")\n",
    "rets = df.groupby(\n",
    "    [\"date\", \"decile\"], \n",
    "    observed=True,\n",
    "    group_keys=True\n",
    ").ret.mean().unstack()\n",
    "print(\"Annualized percentage mean returns are\")\n",
    "print((100 * 52 * rets.mean()).round(2))"
   ]
  },
  {
   "cell_type": "markdown",
   "metadata": {},
   "source": [
    "2.  *Using data from the SQL database since 2010, sort into quintiles based on momentum and into quintiles based on marketcap and compute equally weighted portfolio returns for the 25 groups.  What were the mean returns?*"
   ]
  },
  {
   "cell_type": "code",
   "execution_count": 12,
   "metadata": {},
   "outputs": [],
   "source": [
    "ret_annual = sep_weekly.groupby(\"ticker\", group_keys=False).closeadj.pct_change(52)\n",
    "ret_monthly = sep_weekly.groupby(\"ticker\", group_keys=False).closeadj.pct_change(4)\n",
    "mom = (1 + ret_annual) / (1 + ret_monthly) - 1\n",
    "mom.name = \"mom\""
   ]
  },
  {
   "cell_type": "code",
   "execution_count": 16,
   "metadata": {},
   "outputs": [
    {
     "name": "stdout",
     "output_type": "stream",
     "text": [
      "Annualized percentage mean returns are\n",
      "mktcap5      1      2      3      4      5\n",
      "mom5                                      \n",
      "1        -1.57   7.90   9.25   6.83   9.50\n",
      "2         9.85   9.15  12.12  10.62  12.31\n",
      "3        12.61  13.73  11.21  12.96  13.11\n",
      "4        12.75   9.78  12.28  12.95  12.81\n",
      "5        14.97  11.97  17.35  14.50  14.05\n"
     ]
    }
   ],
   "source": [
    "df = pd.concat((price, ret, marketcap, mom), axis=1)\n",
    "df[\"ret\"] = df.groupby(\"ticker\", group_keys=False).ret.shift(-1)\n",
    "df = df[df.price>=5].dropna()\n",
    "\n",
    "df[\"mom5\"] = df.groupby(\"date\", group_keys=False).mom.apply(\n",
    "    lambda x: pd.qcut(x, 5, labels=range(1, 6))\n",
    ")\n",
    "df[\"mktcap5\"] = df.groupby(\"date\", group_keys=False).marketcap.apply(\n",
    "    lambda x: pd.qcut(x, 5, labels=range(1, 6))\n",
    ")\n",
    "\n",
    "rets = df.groupby(\n",
    "    [\"date\", \"mom5\", \"mktcap5\"], \n",
    "    observed=True,\n",
    "    group_keys=True\n",
    ").ret.mean().unstack(level=(\"mom5\", \"mktcap5\"))\n",
    "print(\"Annualized percentage mean returns are\")\n",
    "print((100 * 52 * rets.mean()).round(2).unstack())"
   ]
  },
  {
   "cell_type": "markdown",
   "metadata": {},
   "source": [
    "3.  *Compute volatility for each stock as the standard deviation of the past 52 weekly returns.  Remember to group by ticker when doing so.  Run a backtest of a random forest with max_depth=3, using target2 and including volatility as a feature with mom, pb, marketcap, roe, and assetgr.  Train every 3 years and use 3 years of data each time you train.  Compute portfolio returns for the 100 best stocks (highest predicted value of the target) and the 100 worst stocks (lowest predicted value of the target) each week.  Plot the cumulative compound returns over time.*"
   ]
  },
  {
   "cell_type": "code",
   "execution_count": 24,
   "metadata": {},
   "outputs": [],
   "source": [
    "volatility = ret.groupby(\"ticker\", group_keys=False).rolling(52).std()\n",
    "volatility.index = volatility.index.droplevel(0)\n",
    "volatility.name = \"volatility\""
   ]
  },
  {
   "cell_type": "code",
   "execution_count": 26,
   "metadata": {},
   "outputs": [],
   "source": [
    "weekly = pd.read_sql(\n",
    "    \"\"\" \n",
    "    select date, ticker, pb, lastupdated from weekly \n",
    "    where date>='2010-01-01'\n",
    "    order by ticker, date, lastupdated    \n",
    "    \"\"\",\n",
    "    conn,\n",
    ")\n",
    "weekly = weekly.groupby([\"ticker\", \"date\"]).last()\n",
    "weekly = weekly.drop(columns=[\"lastupdated\"])\n",
    "\n",
    "pb = weekly.pb \n",
    "pb.name = \"pb\""
   ]
  },
  {
   "cell_type": "code",
   "execution_count": 27,
   "metadata": {},
   "outputs": [],
   "source": [
    "sf1 = pd.read_sql(\n",
    "    \"\"\" \n",
    "    select datekey as date, ticker, assets, netinc, equity, lastupdated from sf1\n",
    "    where datekey>='2010-01-01' and dimension='ARY' and assets>0 and equity>0\n",
    "    order by ticker, datekey, lastupdated    \n",
    "    \"\"\",\n",
    "    conn,\n",
    ")\n",
    "sf1 = sf1.groupby([\"ticker\", \"date\"]).last()\n",
    "sf1 = sf1.drop(columns=[\"lastupdated\"])\n",
    "\n",
    "# change dates to Fridays\n",
    "from datetime import timedelta \n",
    "sf1 = sf1.reset_index()\n",
    "sf1.date =sf1.date.map(\n",
    "    lambda x: x + timedelta(4 - x.weekday())\n",
    ")\n",
    "sf1 = sf1.set_index([\"ticker\", \"date\"])\n",
    "sf1 = sf1[~sf1.index.duplicated()]\n",
    "\n",
    "assets = sf1.assets\n",
    "assets.name = \"assets\" \n",
    "netinc = sf1.netinc \n",
    "netinc.name = \"netinc\" \n",
    "equity = sf1.equity\n",
    "equity.name = \"equity\"\n",
    "\n",
    "equity = equity.groupby(\"ticker\", group_keys=False).shift() \n",
    "roe = netinc / equity \n",
    "roe.name = \"roe\"\n",
    "\n",
    "assetgr = assets.groupby(\"ticker\", group_keys=False).pct_change()\n",
    "assetgr.name = \"assetgr\""
   ]
  },
  {
   "cell_type": "code",
   "execution_count": 28,
   "metadata": {},
   "outputs": [],
   "source": [
    "df = pd.concat(\n",
    "    (\n",
    "        ret, \n",
    "        mom, \n",
    "        price, \n",
    "        pb, \n",
    "        marketcap, \n",
    "        roe, \n",
    "        assetgr,\n",
    "        volatility\n",
    "        ), \n",
    "        axis=1\n",
    "    )\n",
    "df[\"ret\"] = df.groupby(\"ticker\", group_keys=False).ret.shift(-1)\n",
    "df[\"roe\"] = df.groupby(\"ticker\", group_keys=False).roe.ffill()\n",
    "df[\"assetgr\"] = df.groupby(\"ticker\", group_keys=False).assetgr.ffill()\n",
    "df = df[df.price >= 5]\n",
    "df = df.dropna()\n",
    "\n",
    "df = df.reset_index()\n",
    "df.date = df.date.astype(str)\n",
    "df = df[df.date >= \"2012-01-01\"]\n",
    "\n",
    "df[\"target2\"] = df.groupby(\"date\", group_keys=False).ret.apply(\n",
    "    lambda x: 100*x.rank(pct=True)\n",
    ")\n",
    "\n",
    "features = [\n",
    "    \"mom\",\n",
    "    \"pb\",\n",
    "    \"marketcap\",\n",
    "    \"roe\",\n",
    "    \"assetgr\",\n",
    "    \"volatility\"\n",
    "]"
   ]
  },
  {
   "cell_type": "code",
   "execution_count": 30,
   "metadata": {},
   "outputs": [
    {
     "name": "stdout",
     "output_type": "stream",
     "text": [
      "2015\n",
      "2018\n",
      "2021\n"
     ]
    }
   ],
   "source": [
    "from sklearn.ensemble import RandomForestRegressor\n",
    "\n",
    "train_years = 3 # num years of past data to use for training\n",
    "train_freq = 3  # num years between training \n",
    "target = \"target2\"\n",
    "model = RandomForestRegressor(max_depth=3)\n",
    "\n",
    "years = range(2012+train_years, 2024, train_freq)\n",
    "df2 = None \n",
    "for i, year in enumerate(years):\n",
    "    print(year)\n",
    "    start_train = f\"{year-train_years}-01-01\"\n",
    "    start_predict = f\"{year}-01-01\"\n",
    "    if year == years[-1]:\n",
    "        stop_predict = \"2100-01-01\"\n",
    "    else:\n",
    "        stop_predict = f\"{years[i+1]}-01-01\"\n",
    "    past = df[(df.date >= start_train) & (df.date < start_predict)]\n",
    "    future = df[(df.date>=start_predict) & (df.date<stop_predict)].copy()\n",
    "    model.fit(X=past[features], y=past[target])\n",
    "    future[\"predict\"] = model.predict(X=future[features])\n",
    "    df2 = pd.concat((df2, future))"
   ]
  },
  {
   "cell_type": "code",
   "execution_count": 31,
   "metadata": {},
   "outputs": [],
   "source": [
    "num_stocks = 100\n",
    "\n",
    "grouped = df2.groupby(\"date\", group_keys=False).predict\n",
    "starting_from_best = grouped.rank(ascending=False, method=\"first\")\n",
    "best = df2[starting_from_best <= num_stocks]\n",
    "best_rets = best.groupby(\"date\", group_keys=True).ret.mean()\n",
    "best_rets.index = pd.to_datetime(best_rets.index)\n",
    "\n",
    "starting_from_worst = grouped.rank(ascending=True, method=\"first\")\n",
    "worst = df2[starting_from_worst <= num_stocks]\n",
    "worst_rets = worst.groupby(\"date\", group_keys=True).ret.mean()\n",
    "worst_rets.index = pd.to_datetime(worst_rets.index)"
   ]
  },
  {
   "cell_type": "code",
   "execution_count": 32,
   "metadata": {},
   "outputs": [
    {
     "data": {
      "image/png": "[encoded data removed]",
      "text/plain": [
       "<Figure size 640x480 with 1 Axes>"
      ]
     },
     "metadata": {},
     "output_type": "display_data"
    }
   ],
   "source": [
    "import matplotlib.pyplot as plt \n",
    "import seaborn as sns \n",
    "sns.set_style(\"whitegrid\")\n",
    "\n",
    "(1+best_rets).cumprod().plot(label=\"Best\")\n",
    "(1+worst_rets).cumprod().plot(label=\"Worst\")\n",
    "plt.legend()\n",
    "plt.show()"
   ]
  }
 ],
 "metadata": {
  "kernelspec": {
   "display_name": "Python 3",
   "language": "python",
   "name": "python3"
  },
  "language_info": {
   "codemirror_mode": {
    "name": "ipython",
    "version": 3
   },
   "file_extension": ".py",
   "mimetype": "text/x-python",
   "name": "python",
   "nbconvert_exporter": "python",
   "pygments_lexer": "ipython3",
   "version": "3.10.11"
  }
 },
 "nbformat": 4,
 "nbformat_minor": 2
}
