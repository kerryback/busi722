{
 "cells": [
  {
   "cell_type": "markdown",
   "metadata": {
    "slideshow": {
     "slide_type": "slide"
    }
   },
   "source": [
    "# Options and their Uses\n",
    "\n",
    "### BUSI 722: Data-Driven Finance II\n",
    "### Kerry Back, Rice University"
   ]
  },
  {
   "cell_type": "markdown",
   "metadata": {
    "slideshow": {
     "slide_type": "slide"
    }
   },
   "source": [
    "### Options and Open Interest\n",
    "\n",
    "- A financial option is a right to buy or sell  a financial security.\n",
    "    \n",
    "- The right trades separately from the (underlying) security and usually even on a different exchange.\n",
    "    \n",
    "- The rights are not (usually) issued by the companies who issue the underlying securities.  \n",
    "  - Instead, the rights are created when someone buys one from someone else.  \n",
    "  - Open interest is the number that exist at any time."
   ]
  },
  {
   "cell_type": "markdown",
   "metadata": {
    "slideshow": {
     "slide_type": "slide"
    }
   },
   "source": [
    "### Example\n",
    "\n",
    "- When a contract is first opened for trading, open interest is zero.\n",
    "- Suppose Andy buys a contract from Chloe, and Brooke buys a contract from David.\n",
    "  - Longs = Andy and Brooke\n",
    "  - Shorts = Chloe and David\n",
    "  - Open interest = 2"
   ]
  },
  {
   "cell_type": "markdown",
   "metadata": {
    "slideshow": {
     "slide_type": "slide"
    }
   },
   "source": [
    "- Suppose Andy then sells a contract to David.\n",
    "  - Andy: long + short = no position\n",
    "  - David: short + long = no position\n",
    "  - Longs = Brooke\n",
    "  - Shorts = Chloe\n",
    "  - Open interest = 1"
   ]
  },
  {
   "cell_type": "markdown",
   "metadata": {
    "slideshow": {
     "slide_type": "slide"
    }
   },
   "source": [
    "### Clearinghouse\n",
    "\n",
    "- The long party has an option.  The short party has an obligation.\n",
    "- After a trade is made, the option clearinghouse steps in the middle and becomes the counterparty to both sides."
   ]
  },
  {
   "cell_type": "markdown",
   "metadata": {
    "slideshow": {
     "slide_type": "slide"
    }
   },
   "source": [
    "### Hedging, speculation, and income\n",
    "\n",
    "- You pay upfront to acquire an option.  \n",
    "  - The amount you pay is called the option premium.  \n",
    "  - It is not part of the contract but instead is determined in the market (like a stock price).\n",
    "- You buy options to hedge or to speculate.  You sell options for income.\n",
    "- Sellers of options need to have sufficient equity in their accounts (margin).  A buyer needs enough cash to pay the premium but no more (like buying a stock)."
   ]
  },
  {
   "cell_type": "markdown",
   "metadata": {
    "slideshow": {
     "slide_type": "slide"
    }
   },
   "source": [
    "###  Calls, puts, and strikes\n",
    "\n",
    "- A call option gives the holder the right to buy an asset at a pre-specified price.\n",
    "\n",
    "- A put option gives the holder the right to sell an asset at a pre-specified price.\n",
    "\n",
    "- The asset is called the underlying asset or just the underlying.\n",
    "\n",
    "- The pre-specified price is called the exercise price or strike price.  "
   ]
  },
  {
   "cell_type": "markdown",
   "metadata": {
    "slideshow": {
     "slide_type": "slide"
    }
   },
   "source": [
    "### American and European\n",
    "\n",
    "- An option is valid for a specified period of time, the end of which is called its expiration date or maturity date.\n",
    "\n",
    "- Most financial options can be exercised at any time the owner wishes, prior to maturity.  Such options are called American.\n",
    "    \n",
    "- There are some options that can only be exercised on the maturity date.  They are called European.  Both types are traded on both continents."
   ]
  },
  {
   "cell_type": "markdown",
   "metadata": {
    "slideshow": {
     "slide_type": "slide"
    }
   },
   "source": [
    "### Moneyness\n",
    "\n",
    "- Borrowing language from horse racing, we say a call is\n",
    "  - in the money if the underlying price is above the strike,\n",
    "  - at the money if the underlying price equals the strike\n",
    "  - out of the money if the underlying price is below the strike\n",
    "- The reverse for puts\n",
    " \n",
    "- Also, \"deep in the money\" and \"deep out of the money\""
   ]
  },
  {
   "cell_type": "markdown",
   "metadata": {
    "slideshow": {
     "slide_type": "slide"
    }
   },
   "source": [
    "### Value of a call at maturity\n",
    "\n",
    "- At maturity, the value of a call is\n",
    "\n",
    "$$\\begin{cases} 0 & \\text{if underlying < strike}\\\\\n",
    " \\text{underlying} - \\text{strike} & \\text{if underlying > strike}\n",
    " \\end{cases}\n",
    " $$\n",
    "\n",
    "- Equivalently, the value of a call is \n",
    "\n",
    "$$\\max(\\text{underlying price}-\\text{strike}, 0)$$"
   ]
  },
  {
   "cell_type": "markdown",
   "metadata": {
    "slideshow": {
     "slide_type": "slide"
    }
   },
   "source": [
    "### Value of a put at maturity\n",
    "\n",
    "- At maturity, the value of a put is\n",
    "\n",
    "$$\\begin{cases} \\text{strike} - \\text{underlying} & \\text{if underlying < strike}\\\\\n",
    " 0 & \\text{if underlying > strike}\n",
    " \\end{cases}\n",
    " $$\n",
    "\n",
    "- Equivalently, the value of a put is \n",
    "\n",
    "$$\\max(\\text{strike}-\\text{underlying price}, 0)$$"
   ]
  },
  {
   "cell_type": "markdown",
   "metadata": {
    "slideshow": {
     "slide_type": "slide"
    }
   },
   "source": [
    "### Option Data from Yahoo\n",
    "\n",
    "- You can get current trading prices of stock options from finance.yahoo.com.\n",
    "- You can click around and find it or use the yfinance library.\n",
    "- We'll look at CVX options."
   ]
  },
  {
   "cell_type": "code",
   "execution_count": 11,
   "metadata": {
    "slideshow": {
     "slide_type": "slide"
    }
   },
   "outputs": [
    {
     "data": {
      "text/plain": [
       "Open            1.430000e+02\n",
       "High            1.431900e+02\n",
       "Low             1.396200e+02\n",
       "Close           1.415200e+02\n",
       "Volume          6.746918e+06\n",
       "Dividends       0.000000e+00\n",
       "Stock Splits    0.000000e+00\n",
       "Name: 2024-01-18 00:00:00-05:00, dtype: float64"
      ]
     },
     "execution_count": 11,
     "metadata": {},
     "output_type": "execute_result"
    }
   ],
   "source": [
    "import yfinance as yf\n",
    "cvx = yf.Ticker(\"cvx\")\n",
    "cvx.history().iloc[-1]"
   ]
  },
  {
   "cell_type": "markdown",
   "metadata": {
    "slideshow": {
     "slide_type": "slide"
    }
   },
   "source": [
    "- cvx.options is the set of traded maturities\n",
    "- cvx.option_chain(\"some date\") is an object containing call and put data\n",
    "- cvx.option_chain(\"some date\").calls is a dataframe of call info\n",
    "- cvx.option_chain(\"some date\").puts is a dataframe of put info"
   ]
  },
  {
   "cell_type": "code",
   "execution_count": 12,
   "metadata": {
    "slideshow": {
     "slide_type": "slide"
    }
   },
   "outputs": [
    {
     "data": {
      "text/html": [
       "<div>\n",
       "<style scoped>\n",
       "    .dataframe tbody tr th:only-of-type {\n",
       "        vertical-align: middle;\n",
       "    }\n",
       "\n",
       "    .dataframe tbody tr th {\n",
       "        vertical-align: top;\n",
       "    }\n",
       "\n",
       "    .dataframe thead th {\n",
       "        text-align: right;\n",
       "    }\n",
       "</style>\n",
       "<table border=\"1\" class=\"dataframe\">\n",
       "  <thead>\n",
       "    <tr style=\"text-align: right;\">\n",
       "      <th></th>\n",
       "      <th>contractSymbol</th>\n",
       "      <th>lastTradeDate</th>\n",
       "      <th>strike</th>\n",
       "      <th>lastPrice</th>\n",
       "      <th>bid</th>\n",
       "      <th>ask</th>\n",
       "      <th>change</th>\n",
       "      <th>percentChange</th>\n",
       "      <th>volume</th>\n",
       "      <th>openInterest</th>\n",
       "      <th>impliedVolatility</th>\n",
       "      <th>inTheMoney</th>\n",
       "      <th>contractSize</th>\n",
       "      <th>currency</th>\n",
       "    </tr>\n",
       "  </thead>\n",
       "  <tbody>\n",
       "    <tr>\n",
       "      <th>11</th>\n",
       "      <td>CVX240216C00135000</td>\n",
       "      <td>2024-01-18 17:28:20+00:00</td>\n",
       "      <td>135.0</td>\n",
       "      <td>8.32</td>\n",
       "      <td>8.15</td>\n",
       "      <td>8.30</td>\n",
       "      <td>-1.31</td>\n",
       "      <td>-13.603328</td>\n",
       "      <td>20</td>\n",
       "      <td>262</td>\n",
       "      <td>0.270149</td>\n",
       "      <td>True</td>\n",
       "      <td>REGULAR</td>\n",
       "      <td>USD</td>\n",
       "    </tr>\n",
       "    <tr>\n",
       "      <th>12</th>\n",
       "      <td>CVX240216C00140000</td>\n",
       "      <td>2024-01-18 18:37:41+00:00</td>\n",
       "      <td>140.0</td>\n",
       "      <td>4.80</td>\n",
       "      <td>4.65</td>\n",
       "      <td>4.80</td>\n",
       "      <td>-1.25</td>\n",
       "      <td>-20.661156</td>\n",
       "      <td>376</td>\n",
       "      <td>421</td>\n",
       "      <td>0.248054</td>\n",
       "      <td>True</td>\n",
       "      <td>REGULAR</td>\n",
       "      <td>USD</td>\n",
       "    </tr>\n",
       "    <tr>\n",
       "      <th>13</th>\n",
       "      <td>CVX240216C00145000</td>\n",
       "      <td>2024-01-18 18:50:07+00:00</td>\n",
       "      <td>145.0</td>\n",
       "      <td>2.31</td>\n",
       "      <td>2.29</td>\n",
       "      <td>2.35</td>\n",
       "      <td>-0.99</td>\n",
       "      <td>-30.000000</td>\n",
       "      <td>1678</td>\n",
       "      <td>2418</td>\n",
       "      <td>0.234505</td>\n",
       "      <td>False</td>\n",
       "      <td>REGULAR</td>\n",
       "      <td>USD</td>\n",
       "    </tr>\n",
       "  </tbody>\n",
       "</table>\n",
       "</div>"
      ],
      "text/plain": [
       "        contractSymbol             lastTradeDate  strike  lastPrice   bid  \\\n",
       "11  CVX240216C00135000 2024-01-18 17:28:20+00:00   135.0       8.32  8.15   \n",
       "12  CVX240216C00140000 2024-01-18 18:37:41+00:00   140.0       4.80  4.65   \n",
       "13  CVX240216C00145000 2024-01-18 18:50:07+00:00   145.0       2.31  2.29   \n",
       "\n",
       "     ask  change  percentChange  volume  openInterest  impliedVolatility  \\\n",
       "11  8.30   -1.31     -13.603328      20           262           0.270149   \n",
       "12  4.80   -1.25     -20.661156     376           421           0.248054   \n",
       "13  2.35   -0.99     -30.000000    1678          2418           0.234505   \n",
       "\n",
       "    inTheMoney contractSize currency  \n",
       "11        True      REGULAR      USD  \n",
       "12        True      REGULAR      USD  \n",
       "13       False      REGULAR      USD  "
      ]
     },
     "execution_count": 12,
     "metadata": {},
     "output_type": "execute_result"
    }
   ],
   "source": [
    "date = \"2024-02-16\"\n"
   ]
  },
  {
   "cell_type": "code",
   "execution_count": 16,
   "metadata": {
    "slideshow": {
     "slide_type": "slide"
    }
   },
   "outputs": [
    {
     "data": {
      "text/html": [
       "<div>\n",
       "<style scoped>\n",
       "    .dataframe tbody tr th:only-of-type {\n",
       "        vertical-align: middle;\n",
       "    }\n",
       "\n",
       "    .dataframe tbody tr th {\n",
       "        vertical-align: top;\n",
       "    }\n",
       "\n",
       "    .dataframe thead th {\n",
       "        text-align: right;\n",
       "    }\n",
       "</style>\n",
       "<table border=\"1\" class=\"dataframe\">\n",
       "  <thead>\n",
       "    <tr style=\"text-align: right;\">\n",
       "      <th></th>\n",
       "      <th>contractSymbol</th>\n",
       "      <th>lastTradeDate</th>\n",
       "      <th>strike</th>\n",
       "      <th>lastPrice</th>\n",
       "      <th>bid</th>\n",
       "      <th>ask</th>\n",
       "      <th>change</th>\n",
       "      <th>percentChange</th>\n",
       "      <th>volume</th>\n",
       "      <th>openInterest</th>\n",
       "      <th>impliedVolatility</th>\n",
       "      <th>inTheMoney</th>\n",
       "      <th>contractSize</th>\n",
       "      <th>currency</th>\n",
       "    </tr>\n",
       "  </thead>\n",
       "  <tbody>\n",
       "    <tr>\n",
       "      <th>9</th>\n",
       "      <td>CVX240216P00135000</td>\n",
       "      <td>2024-01-18 18:56:14+00:00</td>\n",
       "      <td>135.0</td>\n",
       "      <td>1.93</td>\n",
       "      <td>1.91</td>\n",
       "      <td>1.95</td>\n",
       "      <td>0.45</td>\n",
       "      <td>30.405400</td>\n",
       "      <td>370.0</td>\n",
       "      <td>9849</td>\n",
       "      <td>0.283699</td>\n",
       "      <td>False</td>\n",
       "      <td>REGULAR</td>\n",
       "      <td>USD</td>\n",
       "    </tr>\n",
       "    <tr>\n",
       "      <th>11</th>\n",
       "      <td>CVX240216P00145000</td>\n",
       "      <td>2024-01-18 18:45:30+00:00</td>\n",
       "      <td>145.0</td>\n",
       "      <td>6.56</td>\n",
       "      <td>6.50</td>\n",
       "      <td>6.65</td>\n",
       "      <td>1.16</td>\n",
       "      <td>21.481478</td>\n",
       "      <td>78.0</td>\n",
       "      <td>8229</td>\n",
       "      <td>0.288581</td>\n",
       "      <td>True</td>\n",
       "      <td>REGULAR</td>\n",
       "      <td>USD</td>\n",
       "    </tr>\n",
       "  </tbody>\n",
       "</table>\n",
       "</div>"
      ],
      "text/plain": [
       "        contractSymbol             lastTradeDate  strike  lastPrice   bid  \\\n",
       "9   CVX240216P00135000 2024-01-18 18:56:14+00:00   135.0       1.93  1.91   \n",
       "11  CVX240216P00145000 2024-01-18 18:45:30+00:00   145.0       6.56  6.50   \n",
       "\n",
       "     ask  change  percentChange  volume  openInterest  impliedVolatility  \\\n",
       "9   1.95    0.45      30.405400   370.0          9849           0.283699   \n",
       "11  6.65    1.16      21.481478    78.0          8229           0.288581   \n",
       "\n",
       "    inTheMoney contractSize currency  \n",
       "9        False      REGULAR      USD  \n",
       "11        True      REGULAR      USD  "
      ]
     },
     "execution_count": 16,
     "metadata": {},
     "output_type": "execute_result"
    }
   ],
   "source": [
    "\n",
    "puts"
   ]
  },
  {
   "cell_type": "code",
   "execution_count": 15,
   "metadata": {},
   "outputs": [
    {
     "data": {
      "text/html": [
       "<div>\n",
       "<style scoped>\n",
       "    .dataframe tbody tr th:only-of-type {\n",
       "        vertical-align: middle;\n",
       "    }\n",
       "\n",
       "    .dataframe tbody tr th {\n",
       "        vertical-align: top;\n",
       "    }\n",
       "\n",
       "    .dataframe thead th {\n",
       "        text-align: right;\n",
       "    }\n",
       "</style>\n",
       "<table border=\"1\" class=\"dataframe\">\n",
       "  <thead>\n",
       "    <tr style=\"text-align: right;\">\n",
       "      <th></th>\n",
       "      <th>contractSymbol</th>\n",
       "      <th>lastTradeDate</th>\n",
       "      <th>strike</th>\n",
       "      <th>lastPrice</th>\n",
       "      <th>bid</th>\n",
       "      <th>ask</th>\n",
       "      <th>change</th>\n",
       "      <th>percentChange</th>\n",
       "      <th>volume</th>\n",
       "      <th>openInterest</th>\n",
       "      <th>impliedVolatility</th>\n",
       "      <th>inTheMoney</th>\n",
       "      <th>contractSize</th>\n",
       "      <th>currency</th>\n",
       "    </tr>\n",
       "  </thead>\n",
       "  <tbody>\n",
       "    <tr>\n",
       "      <th>11</th>\n",
       "      <td>CVX240216C00135000</td>\n",
       "      <td>2024-01-18 17:28:20+00:00</td>\n",
       "      <td>135.0</td>\n",
       "      <td>8.32</td>\n",
       "      <td>8.15</td>\n",
       "      <td>8.30</td>\n",
       "      <td>-1.31</td>\n",
       "      <td>-13.603328</td>\n",
       "      <td>20</td>\n",
       "      <td>262</td>\n",
       "      <td>0.270149</td>\n",
       "      <td>True</td>\n",
       "      <td>REGULAR</td>\n",
       "      <td>USD</td>\n",
       "    </tr>\n",
       "    <tr>\n",
       "      <th>13</th>\n",
       "      <td>CVX240216C00145000</td>\n",
       "      <td>2024-01-18 18:50:07+00:00</td>\n",
       "      <td>145.0</td>\n",
       "      <td>2.31</td>\n",
       "      <td>2.29</td>\n",
       "      <td>2.35</td>\n",
       "      <td>-0.99</td>\n",
       "      <td>-30.000000</td>\n",
       "      <td>1678</td>\n",
       "      <td>2418</td>\n",
       "      <td>0.234505</td>\n",
       "      <td>False</td>\n",
       "      <td>REGULAR</td>\n",
       "      <td>USD</td>\n",
       "    </tr>\n",
       "  </tbody>\n",
       "</table>\n",
       "</div>"
      ],
      "text/plain": [
       "        contractSymbol             lastTradeDate  strike  lastPrice   bid  \\\n",
       "11  CVX240216C00135000 2024-01-18 17:28:20+00:00   135.0       8.32  8.15   \n",
       "13  CVX240216C00145000 2024-01-18 18:50:07+00:00   145.0       2.31  2.29   \n",
       "\n",
       "     ask  change  percentChange  volume  openInterest  impliedVolatility  \\\n",
       "11  8.30   -1.31     -13.603328      20           262           0.270149   \n",
       "13  2.35   -0.99     -30.000000    1678          2418           0.234505   \n",
       "\n",
       "    inTheMoney contractSize currency  \n",
       "11        True      REGULAR      USD  \n",
       "13       False      REGULAR      USD  "
      ]
     },
     "execution_count": 15,
     "metadata": {},
     "output_type": "execute_result"
    }
   ],
   "source": [
    "calls = calls[calls.strike.isin([135.0, 145.0])]\n",
    "calls"
   ]
  },
  {
   "cell_type": "code",
   "execution_count": null,
   "metadata": {},
   "outputs": [],
   "source": []
  },
  {
   "cell_type": "markdown",
   "metadata": {},
   "source": []
  },
  {
   "cell_type": "code",
   "execution_count": 23,
   "metadata": {},
   "outputs": [
    {
     "name": "stdout",
     "output_type": "stream",
     "text": [
      "\n",
      " Open            1.430000e+02\n",
      "High            1.431900e+02\n",
      "Low             1.396200e+02\n",
      "Close           1.415500e+02\n",
      "Volume          6.843792e+06\n",
      "Dividends       0.000000e+00\n",
      "Stock Splits    0.000000e+00\n",
      "Name: 2024-01-18 00:00:00-05:00, dtype: float64\n"
     ]
    }
   ],
   "source": [
    "puts = cvx.option_chain(date).puts\n",
    "puts = puts[puts.strike.isin([135.0, 145.0])]\n",
    "puts = puts[[\"strike\", \"bid\", \"ask\"]]\n",
    "puts.columns = [\"strike\", \"put bid\", \"put ask\"]\n",
    "puts = puts.set_index(\"strike\")\n",
    "\n",
    "calls = cvx.option_chain(date).calls\n",
    "calls = calls[calls.strike.isin([135.0, 145.0])]\n",
    "calls = calls[[\"strike\", \"bid\", \"ask\"]]\n",
    "calls.columns = [\"strike\", \"call bid\", \"call ask\"]\n",
    "calls = calls.set_index(\"strike\")\n",
    "\n",
    "import pandas as pd\n",
    "df = pd.concat((calls, puts), axis=1)\n",
    "print(df)\n",
    "print(\"\\n\", cvx.history().iloc[-1])"
   ]
  },
  {
   "cell_type": "markdown",
   "metadata": {
    "slideshow": {
     "slide_type": "slide"
    }
   },
   "source": [
    "### Buying Calls to Bet on a Stock\n",
    "\n",
    "- Investing in call options is similar to buying shares - you win when the stock goes up - but the % gains and losses are amplified\n",
    "- It is similar to buying stocks with very high leverage\n",
    "- The amount of \"leverage\" is greater for out of the money call\n",
    "- Example: stock trading at 100.  Might buy calls with a strike of 110 or 120.\n",
    "- Don't have to hold to maturity.  If the stock goes up, the price of the call will go up, and  you can sell and take the profit."
   ]
  },
  {
   "cell_type": "markdown",
   "metadata": {
    "slideshow": {
     "slide_type": "slide"
    }
   },
   "source": [
    "### Buying Puts to Bet Against a Stock\n",
    "\n",
    "- Investing in puts is similar to shorting a stock - you win when the stock goes down - but the % gains and losses are amplified.\n",
    "- The amplification is greater for out of the money puts.\n",
    "- Example: stock trading at 100.  Might buy puts with a strike of 90 or 80.\n",
    "- Again, don't have to hold to maturity.  "
   ]
  },
  {
   "cell_type": "markdown",
   "metadata": {
    "slideshow": {
     "slide_type": "slide"
    }
   },
   "source": [
    "### Limited Liability\n",
    "\n",
    "- Buying options is different in one way from buying stocks on margin or short selling - your maximum loss is capped with options.\n",
    "- You can lose everything that you invest but not more than that.\n",
    "- It is possible, though rare, to lose more than you've invested when buying a stock on margin or short selling.\n",
    "- On the other hand, sellers of options have unlimited liability."
   ]
  },
  {
   "cell_type": "markdown",
   "metadata": {
    "slideshow": {
     "slide_type": "slide"
    }
   },
   "source": [
    "### Buying Puts for Protection\n",
    "\n",
    "- If you own a stock, you might buy a put for insurance.\n",
    "- You normally buy out-of-the-money puts for protection.\n",
    "- Example: you own a stock trading at 100 and buy a put with a strike of 80.\n",
    "- Your downside on the stock is now limited at 80, because you have an option to sell it at 80.\n",
    "- Usually, you wouldn't exercise the put.  If the stock falls, you make a profit on the put that offsets some of your loss on the stock.\n"
   ]
  },
  {
   "cell_type": "markdown",
   "metadata": {
    "slideshow": {
     "slide_type": "slide"
    }
   },
   "source": [
    "### Selling Calls for Income\n",
    "\n",
    "- If you own a stock, you might sell a call option on it for income.  This is called selling a covered call.\n",
    "- You normally sell out-of-the-money calls.\n",
    "- Example: you own a stock trading at 100 and sell a call with a strike of 120.\n",
    "- If the stock doesn't go up beyond 120, you'll be happy you sold the call."
   ]
  },
  {
   "cell_type": "markdown",
   "metadata": {
    "slideshow": {
     "slide_type": "slide"
    }
   },
   "source": [
    "### Collars\n",
    "\n",
    "- It is common to buy a put for insurance and to sell a call to pay for the put.\n",
    "- You are selling off some of your upside to protect your downside.\n",
    "- Example: you own a stock trading at 100 and buy a put with a strike of 80 and sell a call with a strike of 120.\n",
    "- The portfolio value is collared between 80 and 120."
   ]
  }
 ],
 "metadata": {
  "kernelspec": {
   "display_name": "Python 3",
   "language": "python",
   "name": "python3"
  },
  "language_info": {
   "codemirror_mode": {
    "name": "ipython",
    "version": 3
   },
   "file_extension": ".py",
   "mimetype": "text/x-python",
   "name": "python",
   "nbconvert_exporter": "python",
   "pygments_lexer": "ipython3",
   "version": "3.10.11"
  }
 },
 "nbformat": 4,
 "nbformat_minor": 2
}
