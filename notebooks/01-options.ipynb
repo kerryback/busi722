{
 "cells": [
  {
   "cell_type": "markdown",
   "metadata": {
    "slideshow": {
     "slide_type": "slide"
    }
   },
   "source": [
    "# Options and their Uses\n",
    "\n",
    "### BUSI 722: Data-Driven Finance II\n",
    "### Kerry Back, Rice University"
   ]
  },
  {
   "cell_type": "markdown",
   "metadata": {"slideshow": {"slide_type": "slide"}},
   "source": [
    "### Options and Open Interest\n",
    "\n",
    "- A financial option is a right to buy or sell  a financial security.\n",
    "    \n",
    "- The right trades separately from the (underlying) security and usually even on a different exchange.\n",
    "    \n",
    "- The rights are not (usually) issued by the companies who issue the underlying securities.  \n",
    "  - Instead, the rights are created when someone buys one from someone else.  \n",
    "  - Open interest is the number that exist at any time."
   ]
  },
  {
   "cell_type": "markdown",
   "metadata": {"slideshow": {"slide_type": "slide"}},
   "source": [
    "### Example\n",
    "\n",
    "- When a contract is first opened for trading, open interest is zero.\n",
    "- Suppose Andy buys a contract from Chloe, and Brooke buys a contract from David.\n",
    "  - Longs = Andy and Brooke\n",
    "  - Shorts = Chloe and David\n",
    "  - Open interest = 2"
   ]
  },
  {
   "cell_type": "markdown",
   "metadata": {"slideshow": {"slide_type": "slide"}},
   "source": [
    "- Suppose Andy then sells a contract to David.\n",
    "  - Andy: long + short = no position\n",
    "  - David: short + long = no position\n",
    "  - Longs = Brooke\n",
    "  - Shorts = Chloe\n",
    "  - Open interest = 1"
   ]
  },
  {
   "cell_type": "markdown",
   "metadata": {"slideshow": {"slide_type": "slide"}},
   "source": [
    "### Clearinghouse\n",
    "\n",
    "- The long party has an option.  The short party has an obligation.\n",
    "- After a trade is made, the option clearinghouse steps in the middle and becomes the counterparty to both sides."
   ]
  },
  {
   "cell_type": "markdown",
   "metadata": {"slideshow": {"slide_type": "slide"}},
   "source": [
    "### Hedging, speculation, and income\n",
    "\n",
    "- You pay upfront to acquire an option.  \n",
    "  - The amount you pay is called the option premium.  \n",
    "  - It is not part of the contract but instead is determined in the market (like a stock price).\n",
    "- You buy options to hedge or to speculate.  You sell options for income.\n",
    "- Sellers of options need to have sufficient equity in their accounts (margin).  A buyer needs enough cash to pay the premium but no more (like buying a stock)."
   ]
  },
  {
   "cell_type": "markdown",
   "metadata": {"slideshow": {"slide_type": "slide"}},
   "source": [
    "###  Calls, puts, and strikes\n",
    "\n",
    "- A call option gives the holder the right to buy an asset at a pre-specified price.\n",
    "\n",
    "- A put option gives the holder the right to sell an asset at a pre-specified price.\n",
    "\n",
    "- The asset is called the underlying asset or just the underlying.\n",
    "\n",
    "- The pre-specified price is called the exercise price or strike price.  "
   ]
  },
  {
   "cell_type": "markdown",
   "metadata": {"slideshow": {"slide_type": "slide"}},
   "source": [
    "### American and European\n",
    "\n",
    "- An option is valid for a specified period of time, the end of which is called its expiration date or maturity date.\n",
    "\n",
    "- Most financial options can be exercised at any time the owner wishes, prior to maturity.  Such options are called American.\n",
    "    \n",
    "- There are some options that can only be exercised on the maturity date.  They are called European.  Both types are traded on both continents."
   ]
  },
  {
   "cell_type": "markdown",
   "metadata": {"slideshow": {"slide_type": "slide"}},
   "source": [
    "### Moneyness\n",
    "\n",
    "- Borrowing language from horse racing, we say a call is\n",
    "  - in the money if the underlying price is above the strike,\n",
    "  - at the money if the underlying price equals the strike\n",
    "  - out of the money if the underlying price is below the strike\n",
    "- The reverse for puts\n",
    " \n",
    "- Also, \"deep in the money\" and \"deep out of the money\""
   ]
  },
  {
   "cell_type": "markdown",
   "metadata": {"slideshow": {"slide_type": "slide"}},
   "source": [
    "### Value of a call at maturity\n",
    "\n",
    "- At maturity, the value of a call is\n",
    "\n",
    "$$\\begin{cases} 0 & \\text{if underlying < strike}\\\\\n",
    " \\text{underlying} - \\text{strike} & \\text{if underlying > strike}\n",
    " \\end{cases}\n",
    " $$\n",
    "\n",
    "- Equivalently, the value of a call is \n",
    "\n",
    "$$\\max(\\text{underlying price}-\\text{strike}, 0)$$"
   ]
  },
  {
   "cell_type": "code",
   "execution_count": 8,
   "metadata": {"slideshow": {"slide_type": "slide"}},
   "outputs": [
    {
     "data": {
      "application/vnd.plotly.v1+json": {
       "config": {
        "plotlyServerURL": "https://plot.ly"
       },
       "data": [
        {
         "hovertemplate": "Underlying = $%{x:.2f}<br>Call = $%{y:.2f}<extra></extra>",
         "legendgroup": "",
         "line": {
          "color": "#636efa",
          "dash": "solid"
         },
         "marker": {
          "symbol": "circle"
         },
         "mode": "lines",
         "name": "",
         "orientation": "v",
         "showlegend": false,
         "type": "scatter",
         "x": [
          0,
          1.0101010101010102,
          2.0202020202020203,
          3.0303030303030303,
          4.040404040404041,
          5.050505050505051,
          6.0606060606060606,
          7.070707070707071,
          8.080808080808081,
          9.090909090909092,
          10.101010101010102,
          11.111111111111112,
          12.121212121212121,
          13.131313131313131,
          14.141414141414142,
          15.151515151515152,
          16.161616161616163,
          17.171717171717173,
          18.181818181818183,
          19.191919191919194,
          20.202020202020204,
          21.212121212121215,
          22.222222222222225,
          23.232323232323235,
          24.242424242424242,
          25.252525252525253,
          26.262626262626263,
          27.272727272727273,
          28.282828282828284,
          29.292929292929294,
          30.303030303030305,
          31.313131313131315,
          32.323232323232325,
          33.333333333333336,
          34.343434343434346,
          35.35353535353536,
          36.36363636363637,
          37.37373737373738,
          38.38383838383839,
          39.3939393939394,
          40.40404040404041,
          41.41414141414142,
          42.42424242424243,
          43.43434343434344,
          44.44444444444445,
          45.45454545454546,
          46.46464646464647,
          47.47474747474748,
          48.484848484848484,
          49.494949494949495,
          50.505050505050505,
          51.515151515151516,
          52.525252525252526,
          53.535353535353536,
          54.54545454545455,
          55.55555555555556,
          56.56565656565657,
          57.57575757575758,
          58.58585858585859,
          59.5959595959596,
          60.60606060606061,
          61.61616161616162,
          62.62626262626263,
          63.63636363636364,
          64.64646464646465,
          65.65656565656566,
          66.66666666666667,
          67.67676767676768,
          68.68686868686869,
          69.6969696969697,
          70.70707070707071,
          71.71717171717172,
          72.72727272727273,
          73.73737373737374,
          74.74747474747475,
          75.75757575757576,
          76.76767676767678,
          77.77777777777779,
          78.7878787878788,
          79.7979797979798,
          80.80808080808082,
          81.81818181818183,
          82.82828282828284,
          83.83838383838385,
          84.84848484848486,
          85.85858585858587,
          86.86868686868688,
          87.87878787878789,
          88.8888888888889,
          89.89898989898991,
          90.90909090909092,
          91.91919191919193,
          92.92929292929294,
          93.93939393939395,
          94.94949494949496,
          95.95959595959597,
          96.96969696969697,
          97.97979797979798,
          98.98989898989899,
          100
         ],
         "xaxis": "x",
         "y": [
          0,
          0,
          0,
          0,
          0,
          0,
          0,
          0,
          0,
          0,
          0,
          0,
          0,
          0,
          0,
          0,
          0,
          0,
          0,
          0,
          0,
          0,
          0,
          0,
          0,
          0,
          0,
          0,
          0,
          0,
          0,
          0,
          0,
          0,
          0,
          0,
          0,
          0,
          0,
          0,
          0,
          0,
          0,
          0,
          0,
          0,
          0,
          0,
          0,
          0,
          0.5050505050505052,
          1.5151515151515156,
          2.525252525252526,
          3.5353535353535364,
          4.545454545454547,
          5.555555555555557,
          6.5656565656565675,
          7.575757575757578,
          8.585858585858588,
          9.595959595959599,
          10.606060606060609,
          11.61616161616162,
          12.62626262626263,
          13.63636363636364,
          14.64646464646465,
          15.656565656565661,
          16.66666666666667,
          17.676767676767682,
          18.686868686868692,
          19.696969696969703,
          20.707070707070713,
          21.717171717171723,
          22.727272727272734,
          23.737373737373744,
          24.747474747474755,
          25.757575757575765,
          26.767676767676775,
          27.777777777777786,
          28.787878787878796,
          29.797979797979806,
          30.808080808080817,
          31.818181818181827,
          32.82828282828284,
          33.83838383838385,
          34.84848484848486,
          35.85858585858587,
          36.86868686868688,
          37.87878787878789,
          38.8888888888889,
          39.89898989898991,
          40.90909090909092,
          41.91919191919193,
          42.92929292929294,
          43.93939393939395,
          44.94949494949496,
          45.95959595959597,
          46.96969696969697,
          47.97979797979798,
          48.98989898989899,
          50
         ],
         "yaxis": "y"
        }
       ],
       "layout": {
        "legend": {
         "tracegroupgap": 0
        },
        "margin": {
         "t": 60
        },
        "template": {
         "data": {
          "bar": [
           {
            "error_x": {
             "color": "#2a3f5f"
            },
            "error_y": {
             "color": "#2a3f5f"
            },
            "marker": {
             "line": {
              "color": "white",
              "width": 0.5
             },
             "pattern": {
              "fillmode": "overlay",
              "size": 10,
              "solidity": 0.2
             }
            },
            "type": "bar"
           }
          ],
          "barpolar": [
           {
            "marker": {
             "line": {
              "color": "white",
              "width": 0.5
             },
             "pattern": {
              "fillmode": "overlay",
              "size": 10,
              "solidity": 0.2
             }
            },
            "type": "barpolar"
           }
          ],
          "carpet": [
           {
            "aaxis": {
             "endlinecolor": "#2a3f5f",
             "gridcolor": "#C8D4E3",
             "linecolor": "#C8D4E3",
             "minorgridcolor": "#C8D4E3",
             "startlinecolor": "#2a3f5f"
            },
            "baxis": {
             "endlinecolor": "#2a3f5f",
             "gridcolor": "#C8D4E3",
             "linecolor": "#C8D4E3",
             "minorgridcolor": "#C8D4E3",
             "startlinecolor": "#2a3f5f"
            },
            "type": "carpet"
           }
          ],
          "choropleth": [
           {
            "colorbar": {
             "outlinewidth": 0,
             "ticks": ""
            },
            "type": "choropleth"
           }
          ],
          "contour": [
           {
            "colorbar": {
             "outlinewidth": 0,
             "ticks": ""
            },
            "colorscale": [
             [
              0,
              "#0d0887"
             ],
             [
              0.1111111111111111,
              "#46039f"
             ],
             [
              0.2222222222222222,
              "#7201a8"
             ],
             [
              0.3333333333333333,
              "#9c179e"
             ],
             [
              0.4444444444444444,
              "#bd3786"
             ],
             [
              0.5555555555555556,
              "#d8576b"
             ],
             [
              0.6666666666666666,
              "#ed7953"
             ],
             [
              0.7777777777777778,
              "#fb9f3a"
             ],
             [
              0.8888888888888888,
              "#fdca26"
             ],
             [
              1,
              "#f0f921"
             ]
            ],
            "type": "contour"
           }
          ],
          "contourcarpet": [
           {
            "colorbar": {
             "outlinewidth": 0,
             "ticks": ""
            },
            "type": "contourcarpet"
           }
          ],
          "heatmap": [
           {
            "colorbar": {
             "outlinewidth": 0,
             "ticks": ""
            },
            "colorscale": [
             [
              0,
              "#0d0887"
             ],
             [
              0.1111111111111111,
              "#46039f"
             ],
             [
              0.2222222222222222,
              "#7201a8"
             ],
             [
              0.3333333333333333,
              "#9c179e"
             ],
             [
              0.4444444444444444,
              "#bd3786"
             ],
             [
              0.5555555555555556,
              "#d8576b"
             ],
             [
              0.6666666666666666,
              "#ed7953"
             ],
             [
              0.7777777777777778,
              "#fb9f3a"
             ],
             [
              0.8888888888888888,
              "#fdca26"
             ],
             [
              1,
              "#f0f921"
             ]
            ],
            "type": "heatmap"
           }
          ],
          "heatmapgl": [
           {
            "colorbar": {
             "outlinewidth": 0,
             "ticks": ""
            },
            "colorscale": [
             [
              0,
              "#0d0887"
             ],
             [
              0.1111111111111111,
              "#46039f"
             ],
             [
              0.2222222222222222,
              "#7201a8"
             ],
             [
              0.3333333333333333,
              "#9c179e"
             ],
             [
              0.4444444444444444,
              "#bd3786"
             ],
             [
              0.5555555555555556,
              "#d8576b"
             ],
             [
              0.6666666666666666,
              "#ed7953"
             ],
             [
              0.7777777777777778,
              "#fb9f3a"
             ],
             [
              0.8888888888888888,
              "#fdca26"
             ],
             [
              1,
              "#f0f921"
             ]
            ],
            "type": "heatmapgl"
           }
          ],
          "histogram": [
           {
            "marker": {
             "pattern": {
              "fillmode": "overlay",
              "size": 10,
              "solidity": 0.2
             }
            },
            "type": "histogram"
           }
          ],
          "histogram2d": [
           {
            "colorbar": {
             "outlinewidth": 0,
             "ticks": ""
            },
            "colorscale": [
             [
              0,
              "#0d0887"
             ],
             [
              0.1111111111111111,
              "#46039f"
             ],
             [
              0.2222222222222222,
              "#7201a8"
             ],
             [
              0.3333333333333333,
              "#9c179e"
             ],
             [
              0.4444444444444444,
              "#bd3786"
             ],
             [
              0.5555555555555556,
              "#d8576b"
             ],
             [
              0.6666666666666666,
              "#ed7953"
             ],
             [
              0.7777777777777778,
              "#fb9f3a"
             ],
             [
              0.8888888888888888,
              "#fdca26"
             ],
             [
              1,
              "#f0f921"
             ]
            ],
            "type": "histogram2d"
           }
          ],
          "histogram2dcontour": [
           {
            "colorbar": {
             "outlinewidth": 0,
             "ticks": ""
            },
            "colorscale": [
             [
              0,
              "#0d0887"
             ],
             [
              0.1111111111111111,
              "#46039f"
             ],
             [
              0.2222222222222222,
              "#7201a8"
             ],
             [
              0.3333333333333333,
              "#9c179e"
             ],
             [
              0.4444444444444444,
              "#bd3786"
             ],
             [
              0.5555555555555556,
              "#d8576b"
             ],
             [
              0.6666666666666666,
              "#ed7953"
             ],
             [
              0.7777777777777778,
              "#fb9f3a"
             ],
             [
              0.8888888888888888,
              "#fdca26"
             ],
             [
              1,
              "#f0f921"
             ]
            ],
            "type": "histogram2dcontour"
           }
          ],
          "mesh3d": [
           {
            "colorbar": {
             "outlinewidth": 0,
             "ticks": ""
            },
            "type": "mesh3d"
           }
          ],
          "parcoords": [
           {
            "line": {
             "colorbar": {
              "outlinewidth": 0,
              "ticks": ""
             }
            },
            "type": "parcoords"
           }
          ],
          "pie": [
           {
            "automargin": true,
            "type": "pie"
           }
          ],
          "scatter": [
           {
            "fillpattern": {
             "fillmode": "overlay",
             "size": 10,
             "solidity": 0.2
            },
            "type": "scatter"
           }
          ],
          "scatter3d": [
           {
            "line": {
             "colorbar": {
              "outlinewidth": 0,
              "ticks": ""
             }
            },
            "marker": {
             "colorbar": {
              "outlinewidth": 0,
              "ticks": ""
             }
            },
            "type": "scatter3d"
           }
          ],
          "scattercarpet": [
           {
            "marker": {
             "colorbar": {
              "outlinewidth": 0,
              "ticks": ""
             }
            },
            "type": "scattercarpet"
           }
          ],
          "scattergeo": [
           {
            "marker": {
             "colorbar": {
              "outlinewidth": 0,
              "ticks": ""
             }
            },
            "type": "scattergeo"
           }
          ],
          "scattergl": [
           {
            "marker": {
             "colorbar": {
              "outlinewidth": 0,
              "ticks": ""
             }
            },
            "type": "scattergl"
           }
          ],
          "scattermapbox": [
           {
            "marker": {
             "colorbar": {
              "outlinewidth": 0,
              "ticks": ""
             }
            },
            "type": "scattermapbox"
           }
          ],
          "scatterpolar": [
           {
            "marker": {
             "colorbar": {
              "outlinewidth": 0,
              "ticks": ""
             }
            },
            "type": "scatterpolar"
           }
          ],
          "scatterpolargl": [
           {
            "marker": {
             "colorbar": {
              "outlinewidth": 0,
              "ticks": ""
             }
            },
            "type": "scatterpolargl"
           }
          ],
          "scatterternary": [
           {
            "marker": {
             "colorbar": {
              "outlinewidth": 0,
              "ticks": ""
             }
            },
            "type": "scatterternary"
           }
          ],
          "surface": [
           {
            "colorbar": {
             "outlinewidth": 0,
             "ticks": ""
            },
            "colorscale": [
             [
              0,
              "#0d0887"
             ],
             [
              0.1111111111111111,
              "#46039f"
             ],
             [
              0.2222222222222222,
              "#7201a8"
             ],
             [
              0.3333333333333333,
              "#9c179e"
             ],
             [
              0.4444444444444444,
              "#bd3786"
             ],
             [
              0.5555555555555556,
              "#d8576b"
             ],
             [
              0.6666666666666666,
              "#ed7953"
             ],
             [
              0.7777777777777778,
              "#fb9f3a"
             ],
             [
              0.8888888888888888,
              "#fdca26"
             ],
             [
              1,
              "#f0f921"
             ]
            ],
            "type": "surface"
           }
          ],
          "table": [
           {
            "cells": {
             "fill": {
              "color": "#EBF0F8"
             },
             "line": {
              "color": "white"
             }
            },
            "header": {
             "fill": {
              "color": "#C8D4E3"
             },
             "line": {
              "color": "white"
             }
            },
            "type": "table"
           }
          ]
         },
         "layout": {
          "annotationdefaults": {
           "arrowcolor": "#2a3f5f",
           "arrowhead": 0,
           "arrowwidth": 1
          },
          "autotypenumbers": "strict",
          "coloraxis": {
           "colorbar": {
            "outlinewidth": 0,
            "ticks": ""
           }
          },
          "colorscale": {
           "diverging": [
            [
             0,
             "#8e0152"
            ],
            [
             0.1,
             "#c51b7d"
            ],
            [
             0.2,
             "#de77ae"
            ],
            [
             0.3,
             "#f1b6da"
            ],
            [
             0.4,
             "#fde0ef"
            ],
            [
             0.5,
             "#f7f7f7"
            ],
            [
             0.6,
             "#e6f5d0"
            ],
            [
             0.7,
             "#b8e186"
            ],
            [
             0.8,
             "#7fbc41"
            ],
            [
             0.9,
             "#4d9221"
            ],
            [
             1,
             "#276419"
            ]
           ],
           "sequential": [
            [
             0,
             "#0d0887"
            ],
            [
             0.1111111111111111,
             "#46039f"
            ],
            [
             0.2222222222222222,
             "#7201a8"
            ],
            [
             0.3333333333333333,
             "#9c179e"
            ],
            [
             0.4444444444444444,
             "#bd3786"
            ],
            [
             0.5555555555555556,
             "#d8576b"
            ],
            [
             0.6666666666666666,
             "#ed7953"
            ],
            [
             0.7777777777777778,
             "#fb9f3a"
            ],
            [
             0.8888888888888888,
             "#fdca26"
            ],
            [
             1,
             "#f0f921"
            ]
           ],
           "sequentialminus": [
            [
             0,
             "#0d0887"
            ],
            [
             0.1111111111111111,
             "#46039f"
            ],
            [
             0.2222222222222222,
             "#7201a8"
            ],
            [
             0.3333333333333333,
             "#9c179e"
            ],
            [
             0.4444444444444444,
             "#bd3786"
            ],
            [
             0.5555555555555556,
             "#d8576b"
            ],
            [
             0.6666666666666666,
             "#ed7953"
            ],
            [
             0.7777777777777778,
             "#fb9f3a"
            ],
            [
             0.8888888888888888,
             "#fdca26"
            ],
            [
             1,
             "#f0f921"
            ]
           ]
          },
          "colorway": [
           "#636efa",
           "#EF553B",
           "#00cc96",
           "#ab63fa",
           "#FFA15A",
           "#19d3f3",
           "#FF6692",
           "#B6E880",
           "#FF97FF",
           "#FECB52"
          ],
          "font": {
           "color": "#2a3f5f"
          },
          "geo": {
           "bgcolor": "white",
           "lakecolor": "white",
           "landcolor": "white",
           "showlakes": true,
           "showland": true,
           "subunitcolor": "#C8D4E3"
          },
          "hoverlabel": {
           "align": "left"
          },
          "hovermode": "closest",
          "mapbox": {
           "style": "light"
          },
          "paper_bgcolor": "white",
          "plot_bgcolor": "white",
          "polar": {
           "angularaxis": {
            "gridcolor": "#EBF0F8",
            "linecolor": "#EBF0F8",
            "ticks": ""
           },
           "bgcolor": "white",
           "radialaxis": {
            "gridcolor": "#EBF0F8",
            "linecolor": "#EBF0F8",
            "ticks": ""
           }
          },
          "scene": {
           "xaxis": {
            "backgroundcolor": "white",
            "gridcolor": "#DFE8F3",
            "gridwidth": 2,
            "linecolor": "#EBF0F8",
            "showbackground": true,
            "ticks": "",
            "zerolinecolor": "#EBF0F8"
           },
           "yaxis": {
            "backgroundcolor": "white",
            "gridcolor": "#DFE8F3",
            "gridwidth": 2,
            "linecolor": "#EBF0F8",
            "showbackground": true,
            "ticks": "",
            "zerolinecolor": "#EBF0F8"
           },
           "zaxis": {
            "backgroundcolor": "white",
            "gridcolor": "#DFE8F3",
            "gridwidth": 2,
            "linecolor": "#EBF0F8",
            "showbackground": true,
            "ticks": "",
            "zerolinecolor": "#EBF0F8"
           }
          },
          "shapedefaults": {
           "line": {
            "color": "#2a3f5f"
           }
          },
          "ternary": {
           "aaxis": {
            "gridcolor": "#DFE8F3",
            "linecolor": "#A2B1C6",
            "ticks": ""
           },
           "baxis": {
            "gridcolor": "#DFE8F3",
            "linecolor": "#A2B1C6",
            "ticks": ""
           },
           "bgcolor": "white",
           "caxis": {
            "gridcolor": "#DFE8F3",
            "linecolor": "#A2B1C6",
            "ticks": ""
           }
          },
          "title": {
           "x": 0.05
          },
          "xaxis": {
           "automargin": true,
           "gridcolor": "#EBF0F8",
           "linecolor": "#EBF0F8",
           "ticks": "",
           "title": {
            "standoff": 15
           },
           "zerolinecolor": "#EBF0F8",
           "zerolinewidth": 2
          },
          "yaxis": {
           "automargin": true,
           "gridcolor": "#EBF0F8",
           "linecolor": "#EBF0F8",
           "ticks": "",
           "title": {
            "standoff": 15
           },
           "zerolinecolor": "#EBF0F8",
           "zerolinewidth": 2
          }
         }
        },
        "xaxis": {
         "anchor": "y",
         "domain": [
          0,
          1
         ],
         "title": {
          "font": {
           "size": 20
          },
          "text": "Underlying Price"
         }
        },
        "yaxis": {
         "anchor": "x",
         "domain": [
          0,
          1
         ],
         "title": {
          "font": {
           "size": 20
          },
          "text": "Call Option Value"
         }
        }
       }
      }
     },
     "metadata": {"slideshow": {"slide_type": "slide"}},
     "output_type": "display_data"
    }
   ],
   "source": [
    "import numpy as np\n",
    "import plotly.express as px\n",
    "\n",
    "strike = 50\n",
    "underlying = np.linspace(0, 100, 100)\n",
    "call = np.maximum(underlying-strike, 0)\n",
    "\n",
    "fig = px.line(x=underlying, y=call)\n",
    "fig.update_traces(\n",
    "    hovertemplate=\"Underlying = $%{x:.2f}<br>Call = $%{y:.2f}<extra></extra>\"\n",
    ")\n",
    "fig.update_layout(\n",
    "    xaxis_title=\"Underlying Price\",\n",
    "    yaxis_title=\"Call Option Value\",\n",
    "    xaxis_title_font = {\"size\":20},\n",
    "    yaxis_title_font =  {\"size\":20},\n",
    "    template=\"plotly_white\"\n",
    ")\n",
    "fig.show()"
   ]
  },
  {
   "cell_type": "markdown",
   "metadata": {"slideshow": {"slide_type": "slide"}},
   "source": [
    "### Value of a put at maturity\n",
    "\n",
    "- At maturity, the value of a put is\n",
    "\n",
    "$$\\begin{cases} \\text{strike} - \\text{underlying} & \\text{if underlying < strike}\\\\\n",
    " 0 & \\text{if underlying > strike}\n",
    " \\end{cases}\n",
    " $$\n",
    "\n",
    "- Equivalently, the value of a put is \n",
    "\n",
    "$$\\max(\\text{strike}-\\text{underlying price}, 0)$$"
   ]
  },
  {
   "cell_type": "code",
   "execution_count": 9,
   "metadata": {"slideshow": {"slide_type": "slide"}},
   "outputs": [
    {
     "data": {
      "application/vnd.plotly.v1+json": {
       "config": {
        "plotlyServerURL": "https://plot.ly"
       },
       "data": [
        {
         "hovertemplate": "Underlying = $%{x:.2f}<br>Put = $%{y:.2f}<extra></extra>",
         "legendgroup": "",
         "line": {
          "color": "#636efa",
          "dash": "solid"
         },
         "marker": {
          "symbol": "circle"
         },
         "mode": "lines",
         "name": "",
         "orientation": "v",
         "showlegend": false,
         "type": "scatter",
         "x": [
          0,
          1.0101010101010102,
          2.0202020202020203,
          3.0303030303030303,
          4.040404040404041,
          5.050505050505051,
          6.0606060606060606,
          7.070707070707071,
          8.080808080808081,
          9.090909090909092,
          10.101010101010102,
          11.111111111111112,
          12.121212121212121,
          13.131313131313131,
          14.141414141414142,
          15.151515151515152,
          16.161616161616163,
          17.171717171717173,
          18.181818181818183,
          19.191919191919194,
          20.202020202020204,
          21.212121212121215,
          22.222222222222225,
          23.232323232323235,
          24.242424242424242,
          25.252525252525253,
          26.262626262626263,
          27.272727272727273,
          28.282828282828284,
          29.292929292929294,
          30.303030303030305,
          31.313131313131315,
          32.323232323232325,
          33.333333333333336,
          34.343434343434346,
          35.35353535353536,
          36.36363636363637,
          37.37373737373738,
          38.38383838383839,
          39.3939393939394,
          40.40404040404041,
          41.41414141414142,
          42.42424242424243,
          43.43434343434344,
          44.44444444444445,
          45.45454545454546,
          46.46464646464647,
          47.47474747474748,
          48.484848484848484,
          49.494949494949495,
          50.505050505050505,
          51.515151515151516,
          52.525252525252526,
          53.535353535353536,
          54.54545454545455,
          55.55555555555556,
          56.56565656565657,
          57.57575757575758,
          58.58585858585859,
          59.5959595959596,
          60.60606060606061,
          61.61616161616162,
          62.62626262626263,
          63.63636363636364,
          64.64646464646465,
          65.65656565656566,
          66.66666666666667,
          67.67676767676768,
          68.68686868686869,
          69.6969696969697,
          70.70707070707071,
          71.71717171717172,
          72.72727272727273,
          73.73737373737374,
          74.74747474747475,
          75.75757575757576,
          76.76767676767678,
          77.77777777777779,
          78.7878787878788,
          79.7979797979798,
          80.80808080808082,
          81.81818181818183,
          82.82828282828284,
          83.83838383838385,
          84.84848484848486,
          85.85858585858587,
          86.86868686868688,
          87.87878787878789,
          88.8888888888889,
          89.89898989898991,
          90.90909090909092,
          91.91919191919193,
          92.92929292929294,
          93.93939393939395,
          94.94949494949496,
          95.95959595959597,
          96.96969696969697,
          97.97979797979798,
          98.98989898989899,
          100
         ],
         "xaxis": "x",
         "y": [
          50,
          48.98989898989899,
          47.97979797979798,
          46.96969696969697,
          45.95959595959596,
          44.94949494949495,
          43.93939393939394,
          42.92929292929293,
          41.91919191919192,
          40.90909090909091,
          39.898989898989896,
          38.888888888888886,
          37.878787878787875,
          36.868686868686865,
          35.858585858585855,
          34.848484848484844,
          33.838383838383834,
          32.82828282828282,
          31.818181818181817,
          30.808080808080806,
          29.797979797979796,
          28.787878787878785,
          27.777777777777775,
          26.767676767676765,
          25.757575757575758,
          24.747474747474747,
          23.737373737373737,
          22.727272727272727,
          21.717171717171716,
          20.707070707070706,
          19.696969696969695,
          18.686868686868685,
          17.676767676767675,
          16.666666666666664,
          15.656565656565654,
          14.646464646464644,
          13.636363636363633,
          12.626262626262623,
          11.616161616161612,
          10.606060606060602,
          9.595959595959592,
          8.585858585858581,
          7.575757575757571,
          6.56565656565656,
          5.55555555555555,
          4.54545454545454,
          3.5353535353535293,
          2.525252525252519,
          1.5151515151515156,
          0.5050505050505052,
          0,
          0,
          0,
          0,
          0,
          0,
          0,
          0,
          0,
          0,
          0,
          0,
          0,
          0,
          0,
          0,
          0,
          0,
          0,
          0,
          0,
          0,
          0,
          0,
          0,
          0,
          0,
          0,
          0,
          0,
          0,
          0,
          0,
          0,
          0,
          0,
          0,
          0,
          0,
          0,
          0,
          0,
          0,
          0,
          0,
          0,
          0,
          0,
          0,
          0
         ],
         "yaxis": "y"
        }
       ],
       "layout": {
        "legend": {
         "tracegroupgap": 0
        },
        "margin": {
         "t": 60
        },
        "template": {
         "data": {
          "bar": [
           {
            "error_x": {
             "color": "#2a3f5f"
            },
            "error_y": {
             "color": "#2a3f5f"
            },
            "marker": {
             "line": {
              "color": "white",
              "width": 0.5
             },
             "pattern": {
              "fillmode": "overlay",
              "size": 10,
              "solidity": 0.2
             }
            },
            "type": "bar"
           }
          ],
          "barpolar": [
           {
            "marker": {
             "line": {
              "color": "white",
              "width": 0.5
             },
             "pattern": {
              "fillmode": "overlay",
              "size": 10,
              "solidity": 0.2
             }
            },
            "type": "barpolar"
           }
          ],
          "carpet": [
           {
            "aaxis": {
             "endlinecolor": "#2a3f5f",
             "gridcolor": "#C8D4E3",
             "linecolor": "#C8D4E3",
             "minorgridcolor": "#C8D4E3",
             "startlinecolor": "#2a3f5f"
            },
            "baxis": {
             "endlinecolor": "#2a3f5f",
             "gridcolor": "#C8D4E3",
             "linecolor": "#C8D4E3",
             "minorgridcolor": "#C8D4E3",
             "startlinecolor": "#2a3f5f"
            },
            "type": "carpet"
           }
          ],
          "choropleth": [
           {
            "colorbar": {
             "outlinewidth": 0,
             "ticks": ""
            },
            "type": "choropleth"
           }
          ],
          "contour": [
           {
            "colorbar": {
             "outlinewidth": 0,
             "ticks": ""
            },
            "colorscale": [
             [
              0,
              "#0d0887"
             ],
             [
              0.1111111111111111,
              "#46039f"
             ],
             [
              0.2222222222222222,
              "#7201a8"
             ],
             [
              0.3333333333333333,
              "#9c179e"
             ],
             [
              0.4444444444444444,
              "#bd3786"
             ],
             [
              0.5555555555555556,
              "#d8576b"
             ],
             [
              0.6666666666666666,
              "#ed7953"
             ],
             [
              0.7777777777777778,
              "#fb9f3a"
             ],
             [
              0.8888888888888888,
              "#fdca26"
             ],
             [
              1,
              "#f0f921"
             ]
            ],
            "type": "contour"
           }
          ],
          "contourcarpet": [
           {
            "colorbar": {
             "outlinewidth": 0,
             "ticks": ""
            },
            "type": "contourcarpet"
           }
          ],
          "heatmap": [
           {
            "colorbar": {
             "outlinewidth": 0,
             "ticks": ""
            },
            "colorscale": [
             [
              0,
              "#0d0887"
             ],
             [
              0.1111111111111111,
              "#46039f"
             ],
             [
              0.2222222222222222,
              "#7201a8"
             ],
             [
              0.3333333333333333,
              "#9c179e"
             ],
             [
              0.4444444444444444,
              "#bd3786"
             ],
             [
              0.5555555555555556,
              "#d8576b"
             ],
             [
              0.6666666666666666,
              "#ed7953"
             ],
             [
              0.7777777777777778,
              "#fb9f3a"
             ],
             [
              0.8888888888888888,
              "#fdca26"
             ],
             [
              1,
              "#f0f921"
             ]
            ],
            "type": "heatmap"
           }
          ],
          "heatmapgl": [
           {
            "colorbar": {
             "outlinewidth": 0,
             "ticks": ""
            },
            "colorscale": [
             [
              0,
              "#0d0887"
             ],
             [
              0.1111111111111111,
              "#46039f"
             ],
             [
              0.2222222222222222,
              "#7201a8"
             ],
             [
              0.3333333333333333,
              "#9c179e"
             ],
             [
              0.4444444444444444,
              "#bd3786"
             ],
             [
              0.5555555555555556,
              "#d8576b"
             ],
             [
              0.6666666666666666,
              "#ed7953"
             ],
             [
              0.7777777777777778,
              "#fb9f3a"
             ],
             [
              0.8888888888888888,
              "#fdca26"
             ],
             [
              1,
              "#f0f921"
             ]
            ],
            "type": "heatmapgl"
           }
          ],
          "histogram": [
           {
            "marker": {
             "pattern": {
              "fillmode": "overlay",
              "size": 10,
              "solidity": 0.2
             }
            },
            "type": "histogram"
           }
          ],
          "histogram2d": [
           {
            "colorbar": {
             "outlinewidth": 0,
             "ticks": ""
            },
            "colorscale": [
             [
              0,
              "#0d0887"
             ],
             [
              0.1111111111111111,
              "#46039f"
             ],
             [
              0.2222222222222222,
              "#7201a8"
             ],
             [
              0.3333333333333333,
              "#9c179e"
             ],
             [
              0.4444444444444444,
              "#bd3786"
             ],
             [
              0.5555555555555556,
              "#d8576b"
             ],
             [
              0.6666666666666666,
              "#ed7953"
             ],
             [
              0.7777777777777778,
              "#fb9f3a"
             ],
             [
              0.8888888888888888,
              "#fdca26"
             ],
             [
              1,
              "#f0f921"
             ]
            ],
            "type": "histogram2d"
           }
          ],
          "histogram2dcontour": [
           {
            "colorbar": {
             "outlinewidth": 0,
             "ticks": ""
            },
            "colorscale": [
             [
              0,
              "#0d0887"
             ],
             [
              0.1111111111111111,
              "#46039f"
             ],
             [
              0.2222222222222222,
              "#7201a8"
             ],
             [
              0.3333333333333333,
              "#9c179e"
             ],
             [
              0.4444444444444444,
              "#bd3786"
             ],
             [
              0.5555555555555556,
              "#d8576b"
             ],
             [
              0.6666666666666666,
              "#ed7953"
             ],
             [
              0.7777777777777778,
              "#fb9f3a"
             ],
             [
              0.8888888888888888,
              "#fdca26"
             ],
             [
              1,
              "#f0f921"
             ]
            ],
            "type": "histogram2dcontour"
           }
          ],
          "mesh3d": [
           {
            "colorbar": {
             "outlinewidth": 0,
             "ticks": ""
            },
            "type": "mesh3d"
           }
          ],
          "parcoords": [
           {
            "line": {
             "colorbar": {
              "outlinewidth": 0,
              "ticks": ""
             }
            },
            "type": "parcoords"
           }
          ],
          "pie": [
           {
            "automargin": true,
            "type": "pie"
           }
          ],
          "scatter": [
           {
            "fillpattern": {
             "fillmode": "overlay",
             "size": 10,
             "solidity": 0.2
            },
            "type": "scatter"
           }
          ],
          "scatter3d": [
           {
            "line": {
             "colorbar": {
              "outlinewidth": 0,
              "ticks": ""
             }
            },
            "marker": {
             "colorbar": {
              "outlinewidth": 0,
              "ticks": ""
             }
            },
            "type": "scatter3d"
           }
          ],
          "scattercarpet": [
           {
            "marker": {
             "colorbar": {
              "outlinewidth": 0,
              "ticks": ""
             }
            },
            "type": "scattercarpet"
           }
          ],
          "scattergeo": [
           {
            "marker": {
             "colorbar": {
              "outlinewidth": 0,
              "ticks": ""
             }
            },
            "type": "scattergeo"
           }
          ],
          "scattergl": [
           {
            "marker": {
             "colorbar": {
              "outlinewidth": 0,
              "ticks": ""
             }
            },
            "type": "scattergl"
           }
          ],
          "scattermapbox": [
           {
            "marker": {
             "colorbar": {
              "outlinewidth": 0,
              "ticks": ""
             }
            },
            "type": "scattermapbox"
           }
          ],
          "scatterpolar": [
           {
            "marker": {
             "colorbar": {
              "outlinewidth": 0,
              "ticks": ""
             }
            },
            "type": "scatterpolar"
           }
          ],
          "scatterpolargl": [
           {
            "marker": {
             "colorbar": {
              "outlinewidth": 0,
              "ticks": ""
             }
            },
            "type": "scatterpolargl"
           }
          ],
          "scatterternary": [
           {
            "marker": {
             "colorbar": {
              "outlinewidth": 0,
              "ticks": ""
             }
            },
            "type": "scatterternary"
           }
          ],
          "surface": [
           {
            "colorbar": {
             "outlinewidth": 0,
             "ticks": ""
            },
            "colorscale": [
             [
              0,
              "#0d0887"
             ],
             [
              0.1111111111111111,
              "#46039f"
             ],
             [
              0.2222222222222222,
              "#7201a8"
             ],
             [
              0.3333333333333333,
              "#9c179e"
             ],
             [
              0.4444444444444444,
              "#bd3786"
             ],
             [
              0.5555555555555556,
              "#d8576b"
             ],
             [
              0.6666666666666666,
              "#ed7953"
             ],
             [
              0.7777777777777778,
              "#fb9f3a"
             ],
             [
              0.8888888888888888,
              "#fdca26"
             ],
             [
              1,
              "#f0f921"
             ]
            ],
            "type": "surface"
           }
          ],
          "table": [
           {
            "cells": {
             "fill": {
              "color": "#EBF0F8"
             },
             "line": {
              "color": "white"
             }
            },
            "header": {
             "fill": {
              "color": "#C8D4E3"
             },
             "line": {
              "color": "white"
             }
            },
            "type": "table"
           }
          ]
         },
         "layout": {
          "annotationdefaults": {
           "arrowcolor": "#2a3f5f",
           "arrowhead": 0,
           "arrowwidth": 1
          },
          "autotypenumbers": "strict",
          "coloraxis": {
           "colorbar": {
            "outlinewidth": 0,
            "ticks": ""
           }
          },
          "colorscale": {
           "diverging": [
            [
             0,
             "#8e0152"
            ],
            [
             0.1,
             "#c51b7d"
            ],
            [
             0.2,
             "#de77ae"
            ],
            [
             0.3,
             "#f1b6da"
            ],
            [
             0.4,
             "#fde0ef"
            ],
            [
             0.5,
             "#f7f7f7"
            ],
            [
             0.6,
             "#e6f5d0"
            ],
            [
             0.7,
             "#b8e186"
            ],
            [
             0.8,
             "#7fbc41"
            ],
            [
             0.9,
             "#4d9221"
            ],
            [
             1,
             "#276419"
            ]
           ],
           "sequential": [
            [
             0,
             "#0d0887"
            ],
            [
             0.1111111111111111,
             "#46039f"
            ],
            [
             0.2222222222222222,
             "#7201a8"
            ],
            [
             0.3333333333333333,
             "#9c179e"
            ],
            [
             0.4444444444444444,
             "#bd3786"
            ],
            [
             0.5555555555555556,
             "#d8576b"
            ],
            [
             0.6666666666666666,
             "#ed7953"
            ],
            [
             0.7777777777777778,
             "#fb9f3a"
            ],
            [
             0.8888888888888888,
             "#fdca26"
            ],
            [
             1,
             "#f0f921"
            ]
           ],
           "sequentialminus": [
            [
             0,
             "#0d0887"
            ],
            [
             0.1111111111111111,
             "#46039f"
            ],
            [
             0.2222222222222222,
             "#7201a8"
            ],
            [
             0.3333333333333333,
             "#9c179e"
            ],
            [
             0.4444444444444444,
             "#bd3786"
            ],
            [
             0.5555555555555556,
             "#d8576b"
            ],
            [
             0.6666666666666666,
             "#ed7953"
            ],
            [
             0.7777777777777778,
             "#fb9f3a"
            ],
            [
             0.8888888888888888,
             "#fdca26"
            ],
            [
             1,
             "#f0f921"
            ]
           ]
          },
          "colorway": [
           "#636efa",
           "#EF553B",
           "#00cc96",
           "#ab63fa",
           "#FFA15A",
           "#19d3f3",
           "#FF6692",
           "#B6E880",
           "#FF97FF",
           "#FECB52"
          ],
          "font": {
           "color": "#2a3f5f"
          },
          "geo": {
           "bgcolor": "white",
           "lakecolor": "white",
           "landcolor": "white",
           "showlakes": true,
           "showland": true,
           "subunitcolor": "#C8D4E3"
          },
          "hoverlabel": {
           "align": "left"
          },
          "hovermode": "closest",
          "mapbox": {
           "style": "light"
          },
          "paper_bgcolor": "white",
          "plot_bgcolor": "white",
          "polar": {
           "angularaxis": {
            "gridcolor": "#EBF0F8",
            "linecolor": "#EBF0F8",
            "ticks": ""
           },
           "bgcolor": "white",
           "radialaxis": {
            "gridcolor": "#EBF0F8",
            "linecolor": "#EBF0F8",
            "ticks": ""
           }
          },
          "scene": {
           "xaxis": {
            "backgroundcolor": "white",
            "gridcolor": "#DFE8F3",
            "gridwidth": 2,
            "linecolor": "#EBF0F8",
            "showbackground": true,
            "ticks": "",
            "zerolinecolor": "#EBF0F8"
           },
           "yaxis": {
            "backgroundcolor": "white",
            "gridcolor": "#DFE8F3",
            "gridwidth": 2,
            "linecolor": "#EBF0F8",
            "showbackground": true,
            "ticks": "",
            "zerolinecolor": "#EBF0F8"
           },
           "zaxis": {
            "backgroundcolor": "white",
            "gridcolor": "#DFE8F3",
            "gridwidth": 2,
            "linecolor": "#EBF0F8",
            "showbackground": true,
            "ticks": "",
            "zerolinecolor": "#EBF0F8"
           }
          },
          "shapedefaults": {
           "line": {
            "color": "#2a3f5f"
           }
          },
          "ternary": {
           "aaxis": {
            "gridcolor": "#DFE8F3",
            "linecolor": "#A2B1C6",
            "ticks": ""
           },
           "baxis": {
            "gridcolor": "#DFE8F3",
            "linecolor": "#A2B1C6",
            "ticks": ""
           },
           "bgcolor": "white",
           "caxis": {
            "gridcolor": "#DFE8F3",
            "linecolor": "#A2B1C6",
            "ticks": ""
           }
          },
          "title": {
           "x": 0.05
          },
          "xaxis": {
           "automargin": true,
           "gridcolor": "#EBF0F8",
           "linecolor": "#EBF0F8",
           "ticks": "",
           "title": {
            "standoff": 15
           },
           "zerolinecolor": "#EBF0F8",
           "zerolinewidth": 2
          },
          "yaxis": {
           "automargin": true,
           "gridcolor": "#EBF0F8",
           "linecolor": "#EBF0F8",
           "ticks": "",
           "title": {
            "standoff": 15
           },
           "zerolinecolor": "#EBF0F8",
           "zerolinewidth": 2
          }
         }
        },
        "xaxis": {
         "anchor": "y",
         "domain": [
          0,
          1
         ],
         "title": {
          "font": {
           "size": 20
          },
          "text": "Underlying Price"
         }
        },
        "yaxis": {
         "anchor": "x",
         "domain": [
          0,
          1
         ],
         "title": {
          "font": {
           "size": 20
          },
          "text": "Put Option Value"
         }
        }
       }
      }
     },
     "metadata": {"slideshow": {"slide_type": "slide"}},
     "output_type": "display_data"
    }
   ],
   "source": [
    "strike = 50\n",
    "underlying = np.linspace(0, 100, 100)\n",
    "put = np.maximum(strike-underlying, 0)\n",
    "\n",
    "fig = px.line(x=underlying, y=put)\n",
    "fig.update_traces(\n",
    "    hovertemplate=\"Underlying = $%{x:.2f}<br>Put = $%{y:.2f}<extra></extra>\"\n",
    ")\n",
    "fig.update_layout(\n",
    "    xaxis_title=\"Underlying Price\",\n",
    "    yaxis_title=\"Put Option Value\",\n",
    "    xaxis_title_font = {\"size\":20},\n",
    "    yaxis_title_font =  {\"size\":20},\n",
    "    template=\"plotly_white\"\n",
    ")\n",
    "fig.show()"
   ]
  },
  {
   "cell_type": "markdown",
   "metadata": {"slideshow": {"slide_type": "slide"}},
   "source": [
    "### Option Data from Yahoo\n",
    "\n",
    "- You can get current trading prices of stock options from finance.yahoo.com.\n",
    "- You can click around and find it or use the yfinance library.\n",
    "- We'll look at CVX options."
   ]
  },
  {
   "cell_type": "code",
   "execution_count": 10,
   "metadata": {"slideshow": {"slide_type": "slide"}},
   "outputs": [],
   "source": [
    "import yfinance as yf\n",
    "cvx = yf.Ticker(\"cvx\")"
   ]
  },
  {
   "cell_type": "markdown",
   "metadata": {"slideshow": {"slide_type": "slide"}},
   "source": [
    "- cvx.options is the set of traded maturities\n",
    "- cvx.option_chain(\"some date\") is an object containing call and put data\n",
    "- cvx.option_chain(\"some date\").calls is a dataframe of call info\n",
    "- cvx.option_chain(\"some date\").puts is a dataframe of put info"
   ]
  },
  {
   "cell_type": "code",
   "execution_count": 11,
   "metadata": {"slideshow": {"slide_type": "slide"}},
   "outputs": [
    {
     "data": {
      "text/html": [
       "<div>\n",
       "<style scoped>\n",
       "    .dataframe tbody tr th:only-of-type {\n",
       "        vertical-align: middle;\n",
       "    }\n",
       "\n",
       "    .dataframe tbody tr th {\n",
       "        vertical-align: top;\n",
       "    }\n",
       "\n",
       "    .dataframe thead th {\n",
       "        text-align: right;\n",
       "    }\n",
       "</style>\n",
       "<table border=\"1\" class=\"dataframe\">\n",
       "  <thead>\n",
       "    <tr style=\"text-align: right;\">\n",
       "      <th></th>\n",
       "      <th>contractSymbol</th>\n",
       "      <th>lastTradeDate</th>\n",
       "      <th>strike</th>\n",
       "      <th>lastPrice</th>\n",
       "      <th>bid</th>\n",
       "      <th>ask</th>\n",
       "      <th>change</th>\n",
       "      <th>percentChange</th>\n",
       "      <th>volume</th>\n",
       "      <th>openInterest</th>\n",
       "      <th>impliedVolatility</th>\n",
       "      <th>inTheMoney</th>\n",
       "      <th>contractSize</th>\n",
       "      <th>currency</th>\n",
       "    </tr>\n",
       "  </thead>\n",
       "  <tbody>\n",
       "    <tr>\n",
       "      <th>0</th>\n",
       "      <td>CVX240315C00075000</td>\n",
       "      <td>2024-01-05 20:13:49+00:00</td>\n",
       "      <td>75.0</td>\n",
       "      <td>75.70</td>\n",
       "      <td>74.95</td>\n",
       "      <td>76.70</td>\n",
       "      <td>5.019997</td>\n",
       "      <td>7.102428</td>\n",
       "      <td>1.0</td>\n",
       "      <td>1</td>\n",
       "      <td>0.841798</td>\n",
       "      <td>True</td>\n",
       "      <td>REGULAR</td>\n",
       "      <td>USD</td>\n",
       "    </tr>\n",
       "    <tr>\n",
       "      <th>1</th>\n",
       "      <td>CVX240315C00080000</td>\n",
       "      <td>2023-11-22 15:29:20+00:00</td>\n",
       "      <td>80.0</td>\n",
       "      <td>63.85</td>\n",
       "      <td>71.95</td>\n",
       "      <td>72.65</td>\n",
       "      <td>0.000000</td>\n",
       "      <td>0.000000</td>\n",
       "      <td>24.0</td>\n",
       "      <td>24</td>\n",
       "      <td>1.053716</td>\n",
       "      <td>True</td>\n",
       "      <td>REGULAR</td>\n",
       "      <td>USD</td>\n",
       "    </tr>\n",
       "    <tr>\n",
       "      <th>2</th>\n",
       "      <td>CVX240315C00085000</td>\n",
       "      <td>2023-11-21 20:59:02+00:00</td>\n",
       "      <td>85.0</td>\n",
       "      <td>60.35</td>\n",
       "      <td>65.95</td>\n",
       "      <td>67.10</td>\n",
       "      <td>0.000000</td>\n",
       "      <td>0.000000</td>\n",
       "      <td>NaN</td>\n",
       "      <td>2</td>\n",
       "      <td>0.855226</td>\n",
       "      <td>True</td>\n",
       "      <td>REGULAR</td>\n",
       "      <td>USD</td>\n",
       "    </tr>\n",
       "    <tr>\n",
       "      <th>3</th>\n",
       "      <td>CVX240315C00090000</td>\n",
       "      <td>2023-12-26 18:31:02+00:00</td>\n",
       "      <td>90.0</td>\n",
       "      <td>63.65</td>\n",
       "      <td>60.10</td>\n",
       "      <td>61.55</td>\n",
       "      <td>0.000000</td>\n",
       "      <td>0.000000</td>\n",
       "      <td>2.0</td>\n",
       "      <td>40</td>\n",
       "      <td>0.644047</td>\n",
       "      <td>True</td>\n",
       "      <td>REGULAR</td>\n",
       "      <td>USD</td>\n",
       "    </tr>\n",
       "    <tr>\n",
       "      <th>4</th>\n",
       "      <td>CVX240315C00095000</td>\n",
       "      <td>2023-12-26 18:31:02+00:00</td>\n",
       "      <td>95.0</td>\n",
       "      <td>58.70</td>\n",
       "      <td>55.25</td>\n",
       "      <td>56.60</td>\n",
       "      <td>0.000000</td>\n",
       "      <td>0.000000</td>\n",
       "      <td>NaN</td>\n",
       "      <td>2</td>\n",
       "      <td>0.607914</td>\n",
       "      <td>True</td>\n",
       "      <td>REGULAR</td>\n",
       "      <td>USD</td>\n",
       "    </tr>\n",
       "    <tr>\n",
       "      <th>5</th>\n",
       "      <td>CVX240315C00100000</td>\n",
       "      <td>2023-12-26 17:50:05+00:00</td>\n",
       "      <td>100.0</td>\n",
       "      <td>53.80</td>\n",
       "      <td>50.25</td>\n",
       "      <td>52.30</td>\n",
       "      <td>0.000000</td>\n",
       "      <td>0.000000</td>\n",
       "      <td>1.0</td>\n",
       "      <td>36</td>\n",
       "      <td>0.611088</td>\n",
       "      <td>True</td>\n",
       "      <td>REGULAR</td>\n",
       "      <td>USD</td>\n",
       "    </tr>\n",
       "    <tr>\n",
       "      <th>6</th>\n",
       "      <td>CVX240315C00105000</td>\n",
       "      <td>2023-08-01 19:00:05+00:00</td>\n",
       "      <td>105.0</td>\n",
       "      <td>57.50</td>\n",
       "      <td>57.15</td>\n",
       "      <td>58.20</td>\n",
       "      <td>0.000000</td>\n",
       "      <td>0.000000</td>\n",
       "      <td>NaN</td>\n",
       "      <td>8</td>\n",
       "      <td>1.370609</td>\n",
       "      <td>True</td>\n",
       "      <td>REGULAR</td>\n",
       "      <td>USD</td>\n",
       "    </tr>\n",
       "    <tr>\n",
       "      <th>7</th>\n",
       "      <td>CVX240315C00110000</td>\n",
       "      <td>2023-12-22 15:15:35+00:00</td>\n",
       "      <td>110.0</td>\n",
       "      <td>42.75</td>\n",
       "      <td>40.35</td>\n",
       "      <td>41.60</td>\n",
       "      <td>0.000000</td>\n",
       "      <td>0.000000</td>\n",
       "      <td>2.0</td>\n",
       "      <td>15</td>\n",
       "      <td>0.531255</td>\n",
       "      <td>True</td>\n",
       "      <td>REGULAR</td>\n",
       "      <td>USD</td>\n",
       "    </tr>\n",
       "    <tr>\n",
       "      <th>8</th>\n",
       "      <td>CVX240315C00115000</td>\n",
       "      <td>2023-12-07 15:49:28+00:00</td>\n",
       "      <td>115.0</td>\n",
       "      <td>29.91</td>\n",
       "      <td>35.35</td>\n",
       "      <td>37.05</td>\n",
       "      <td>0.000000</td>\n",
       "      <td>0.000000</td>\n",
       "      <td>4.0</td>\n",
       "      <td>16</td>\n",
       "      <td>0.514897</td>\n",
       "      <td>True</td>\n",
       "      <td>REGULAR</td>\n",
       "      <td>USD</td>\n",
       "    </tr>\n",
       "    <tr>\n",
       "      <th>9</th>\n",
       "      <td>CVX240315C00120000</td>\n",
       "      <td>2024-01-03 20:21:15+00:00</td>\n",
       "      <td>120.0</td>\n",
       "      <td>34.00</td>\n",
       "      <td>30.55</td>\n",
       "      <td>31.90</td>\n",
       "      <td>0.000000</td>\n",
       "      <td>0.000000</td>\n",
       "      <td>2.0</td>\n",
       "      <td>119</td>\n",
       "      <td>0.440191</td>\n",
       "      <td>True</td>\n",
       "      <td>REGULAR</td>\n",
       "      <td>USD</td>\n",
       "    </tr>\n",
       "    <tr>\n",
       "      <th>10</th>\n",
       "      <td>CVX240315C00125000</td>\n",
       "      <td>2023-12-13 15:22:41+00:00</td>\n",
       "      <td>125.0</td>\n",
       "      <td>19.31</td>\n",
       "      <td>25.25</td>\n",
       "      <td>27.70</td>\n",
       "      <td>0.000000</td>\n",
       "      <td>0.000000</td>\n",
       "      <td>1.0</td>\n",
       "      <td>85</td>\n",
       "      <td>0.438482</td>\n",
       "      <td>True</td>\n",
       "      <td>REGULAR</td>\n",
       "      <td>USD</td>\n",
       "    </tr>\n",
       "    <tr>\n",
       "      <th>11</th>\n",
       "      <td>CVX240315C00130000</td>\n",
       "      <td>2024-01-04 17:12:59+00:00</td>\n",
       "      <td>130.0</td>\n",
       "      <td>22.61</td>\n",
       "      <td>21.40</td>\n",
       "      <td>22.00</td>\n",
       "      <td>0.000000</td>\n",
       "      <td>0.000000</td>\n",
       "      <td>7.0</td>\n",
       "      <td>199</td>\n",
       "      <td>0.328620</td>\n",
       "      <td>True</td>\n",
       "      <td>REGULAR</td>\n",
       "      <td>USD</td>\n",
       "    </tr>\n",
       "    <tr>\n",
       "      <th>12</th>\n",
       "      <td>CVX240315C00135000</td>\n",
       "      <td>2024-01-05 15:23:13+00:00</td>\n",
       "      <td>135.0</td>\n",
       "      <td>18.05</td>\n",
       "      <td>17.10</td>\n",
       "      <td>17.35</td>\n",
       "      <td>-0.400002</td>\n",
       "      <td>-2.168030</td>\n",
       "      <td>2.0</td>\n",
       "      <td>199</td>\n",
       "      <td>0.289924</td>\n",
       "      <td>True</td>\n",
       "      <td>REGULAR</td>\n",
       "      <td>USD</td>\n",
       "    </tr>\n",
       "    <tr>\n",
       "      <th>13</th>\n",
       "      <td>CVX240315C00140000</td>\n",
       "      <td>2024-01-05 15:19:40+00:00</td>\n",
       "      <td>140.0</td>\n",
       "      <td>13.80</td>\n",
       "      <td>12.95</td>\n",
       "      <td>13.20</td>\n",
       "      <td>0.200000</td>\n",
       "      <td>1.470587</td>\n",
       "      <td>33.0</td>\n",
       "      <td>489</td>\n",
       "      <td>0.268806</td>\n",
       "      <td>True</td>\n",
       "      <td>REGULAR</td>\n",
       "      <td>USD</td>\n",
       "    </tr>\n",
       "    <tr>\n",
       "      <th>14</th>\n",
       "      <td>CVX240315C00145000</td>\n",
       "      <td>2024-01-05 18:58:37+00:00</td>\n",
       "      <td>145.0</td>\n",
       "      <td>9.71</td>\n",
       "      <td>9.35</td>\n",
       "      <td>9.50</td>\n",
       "      <td>-0.410000</td>\n",
       "      <td>-4.051382</td>\n",
       "      <td>11.0</td>\n",
       "      <td>2687</td>\n",
       "      <td>0.251594</td>\n",
       "      <td>True</td>\n",
       "      <td>REGULAR</td>\n",
       "      <td>USD</td>\n",
       "    </tr>\n",
       "    <tr>\n",
       "      <th>15</th>\n",
       "      <td>CVX240315C00150000</td>\n",
       "      <td>2024-01-05 20:48:18+00:00</td>\n",
       "      <td>150.0</td>\n",
       "      <td>6.31</td>\n",
       "      <td>6.30</td>\n",
       "      <td>6.40</td>\n",
       "      <td>-0.340000</td>\n",
       "      <td>-5.112784</td>\n",
       "      <td>222.0</td>\n",
       "      <td>1784</td>\n",
       "      <td>0.237923</td>\n",
       "      <td>True</td>\n",
       "      <td>REGULAR</td>\n",
       "      <td>USD</td>\n",
       "    </tr>\n",
       "    <tr>\n",
       "      <th>16</th>\n",
       "      <td>CVX240315C00155000</td>\n",
       "      <td>2024-01-05 20:48:18+00:00</td>\n",
       "      <td>155.0</td>\n",
       "      <td>3.95</td>\n",
       "      <td>3.95</td>\n",
       "      <td>4.05</td>\n",
       "      <td>-0.400000</td>\n",
       "      <td>-9.195399</td>\n",
       "      <td>138.0</td>\n",
       "      <td>3496</td>\n",
       "      <td>0.229439</td>\n",
       "      <td>False</td>\n",
       "      <td>REGULAR</td>\n",
       "      <td>USD</td>\n",
       "    </tr>\n",
       "    <tr>\n",
       "      <th>17</th>\n",
       "      <td>CVX240315C00160000</td>\n",
       "      <td>2024-01-05 20:59:23+00:00</td>\n",
       "      <td>160.0</td>\n",
       "      <td>2.39</td>\n",
       "      <td>2.37</td>\n",
       "      <td>2.43</td>\n",
       "      <td>-0.240000</td>\n",
       "      <td>-9.125476</td>\n",
       "      <td>160.0</td>\n",
       "      <td>6179</td>\n",
       "      <td>0.225166</td>\n",
       "      <td>False</td>\n",
       "      <td>REGULAR</td>\n",
       "      <td>USD</td>\n",
       "    </tr>\n",
       "    <tr>\n",
       "      <th>18</th>\n",
       "      <td>CVX240315C00165000</td>\n",
       "      <td>2024-01-05 20:45:04+00:00</td>\n",
       "      <td>165.0</td>\n",
       "      <td>1.35</td>\n",
       "      <td>1.32</td>\n",
       "      <td>1.38</td>\n",
       "      <td>-0.150000</td>\n",
       "      <td>-9.999999</td>\n",
       "      <td>168.0</td>\n",
       "      <td>6916</td>\n",
       "      <td>0.222786</td>\n",
       "      <td>False</td>\n",
       "      <td>REGULAR</td>\n",
       "      <td>USD</td>\n",
       "    </tr>\n",
       "    <tr>\n",
       "      <th>19</th>\n",
       "      <td>CVX240315C00170000</td>\n",
       "      <td>2024-01-05 20:59:54+00:00</td>\n",
       "      <td>170.0</td>\n",
       "      <td>0.72</td>\n",
       "      <td>0.72</td>\n",
       "      <td>0.78</td>\n",
       "      <td>-0.110000</td>\n",
       "      <td>-13.253006</td>\n",
       "      <td>441.0</td>\n",
       "      <td>2295</td>\n",
       "      <td>0.224373</td>\n",
       "      <td>False</td>\n",
       "      <td>REGULAR</td>\n",
       "      <td>USD</td>\n",
       "    </tr>\n",
       "    <tr>\n",
       "      <th>20</th>\n",
       "      <td>CVX240315C00175000</td>\n",
       "      <td>2024-01-05 18:48:43+00:00</td>\n",
       "      <td>175.0</td>\n",
       "      <td>0.39</td>\n",
       "      <td>0.38</td>\n",
       "      <td>0.43</td>\n",
       "      <td>-0.090000</td>\n",
       "      <td>-18.750002</td>\n",
       "      <td>8.0</td>\n",
       "      <td>2638</td>\n",
       "      <td>0.226570</td>\n",
       "      <td>False</td>\n",
       "      <td>REGULAR</td>\n",
       "      <td>USD</td>\n",
       "    </tr>\n",
       "    <tr>\n",
       "      <th>21</th>\n",
       "      <td>CVX240315C00180000</td>\n",
       "      <td>2024-01-04 16:35:29+00:00</td>\n",
       "      <td>180.0</td>\n",
       "      <td>0.25</td>\n",
       "      <td>0.20</td>\n",
       "      <td>0.25</td>\n",
       "      <td>-0.010000</td>\n",
       "      <td>-3.846150</td>\n",
       "      <td>1.0</td>\n",
       "      <td>1560</td>\n",
       "      <td>0.232430</td>\n",
       "      <td>False</td>\n",
       "      <td>REGULAR</td>\n",
       "      <td>USD</td>\n",
       "    </tr>\n",
       "    <tr>\n",
       "      <th>22</th>\n",
       "      <td>CVX240315C00185000</td>\n",
       "      <td>2024-01-04 14:42:51+00:00</td>\n",
       "      <td>185.0</td>\n",
       "      <td>0.21</td>\n",
       "      <td>0.12</td>\n",
       "      <td>0.15</td>\n",
       "      <td>0.000000</td>\n",
       "      <td>0.000000</td>\n",
       "      <td>1.0</td>\n",
       "      <td>1061</td>\n",
       "      <td>0.238777</td>\n",
       "      <td>False</td>\n",
       "      <td>REGULAR</td>\n",
       "      <td>USD</td>\n",
       "    </tr>\n",
       "    <tr>\n",
       "      <th>23</th>\n",
       "      <td>CVX240315C00190000</td>\n",
       "      <td>2024-01-05 20:40:15+00:00</td>\n",
       "      <td>190.0</td>\n",
       "      <td>0.08</td>\n",
       "      <td>0.05</td>\n",
       "      <td>0.10</td>\n",
       "      <td>-0.030000</td>\n",
       "      <td>-27.272728</td>\n",
       "      <td>16.0</td>\n",
       "      <td>855</td>\n",
       "      <td>0.249031</td>\n",
       "      <td>False</td>\n",
       "      <td>REGULAR</td>\n",
       "      <td>USD</td>\n",
       "    </tr>\n",
       "    <tr>\n",
       "      <th>24</th>\n",
       "      <td>CVX240315C00195000</td>\n",
       "      <td>2024-01-05 14:31:45+00:00</td>\n",
       "      <td>195.0</td>\n",
       "      <td>0.05</td>\n",
       "      <td>0.04</td>\n",
       "      <td>0.07</td>\n",
       "      <td>-0.010000</td>\n",
       "      <td>-16.666664</td>\n",
       "      <td>1.0</td>\n",
       "      <td>780</td>\n",
       "      <td>0.259773</td>\n",
       "      <td>False</td>\n",
       "      <td>REGULAR</td>\n",
       "      <td>USD</td>\n",
       "    </tr>\n",
       "    <tr>\n",
       "      <th>25</th>\n",
       "      <td>CVX240315C00200000</td>\n",
       "      <td>2023-12-26 17:20:21+00:00</td>\n",
       "      <td>200.0</td>\n",
       "      <td>0.05</td>\n",
       "      <td>0.00</td>\n",
       "      <td>0.11</td>\n",
       "      <td>-0.020000</td>\n",
       "      <td>-28.571426</td>\n",
       "      <td>10.0</td>\n",
       "      <td>634</td>\n",
       "      <td>0.297859</td>\n",
       "      <td>False</td>\n",
       "      <td>REGULAR</td>\n",
       "      <td>USD</td>\n",
       "    </tr>\n",
       "    <tr>\n",
       "      <th>26</th>\n",
       "      <td>CVX240315C00210000</td>\n",
       "      <td>2024-01-03 19:18:15+00:00</td>\n",
       "      <td>210.0</td>\n",
       "      <td>0.09</td>\n",
       "      <td>0.00</td>\n",
       "      <td>0.09</td>\n",
       "      <td>0.000000</td>\n",
       "      <td>0.000000</td>\n",
       "      <td>1.0</td>\n",
       "      <td>313</td>\n",
       "      <td>0.332038</td>\n",
       "      <td>False</td>\n",
       "      <td>REGULAR</td>\n",
       "      <td>USD</td>\n",
       "    </tr>\n",
       "    <tr>\n",
       "      <th>27</th>\n",
       "      <td>CVX240315C00220000</td>\n",
       "      <td>2023-11-14 15:07:21+00:00</td>\n",
       "      <td>220.0</td>\n",
       "      <td>0.03</td>\n",
       "      <td>0.00</td>\n",
       "      <td>0.08</td>\n",
       "      <td>0.000000</td>\n",
       "      <td>0.000000</td>\n",
       "      <td>10.0</td>\n",
       "      <td>6</td>\n",
       "      <td>0.365241</td>\n",
       "      <td>False</td>\n",
       "      <td>REGULAR</td>\n",
       "      <td>USD</td>\n",
       "    </tr>\n",
       "    <tr>\n",
       "      <th>28</th>\n",
       "      <td>CVX240315C00230000</td>\n",
       "      <td>2023-12-07 15:26:41+00:00</td>\n",
       "      <td>230.0</td>\n",
       "      <td>0.01</td>\n",
       "      <td>0.00</td>\n",
       "      <td>0.08</td>\n",
       "      <td>0.000000</td>\n",
       "      <td>0.000000</td>\n",
       "      <td>30.0</td>\n",
       "      <td>470</td>\n",
       "      <td>0.401373</td>\n",
       "      <td>False</td>\n",
       "      <td>REGULAR</td>\n",
       "      <td>USD</td>\n",
       "    </tr>\n",
       "    <tr>\n",
       "      <th>29</th>\n",
       "      <td>CVX240315C00240000</td>\n",
       "      <td>2023-12-12 19:44:58+00:00</td>\n",
       "      <td>240.0</td>\n",
       "      <td>0.01</td>\n",
       "      <td>0.00</td>\n",
       "      <td>0.08</td>\n",
       "      <td>0.000000</td>\n",
       "      <td>0.000000</td>\n",
       "      <td>31.0</td>\n",
       "      <td>457</td>\n",
       "      <td>0.435553</td>\n",
       "      <td>False</td>\n",
       "      <td>REGULAR</td>\n",
       "      <td>USD</td>\n",
       "    </tr>\n",
       "  </tbody>\n",
       "</table>\n",
       "</div>"
      ],
      "text/plain": [
       "        contractSymbol             lastTradeDate  strike  lastPrice    bid  \\\n",
       "0   CVX240315C00075000 2024-01-05 20:13:49+00:00    75.0      75.70  74.95   \n",
       "1   CVX240315C00080000 2023-11-22 15:29:20+00:00    80.0      63.85  71.95   \n",
       "2   CVX240315C00085000 2023-11-21 20:59:02+00:00    85.0      60.35  65.95   \n",
       "3   CVX240315C00090000 2023-12-26 18:31:02+00:00    90.0      63.65  60.10   \n",
       "4   CVX240315C00095000 2023-12-26 18:31:02+00:00    95.0      58.70  55.25   \n",
       "5   CVX240315C00100000 2023-12-26 17:50:05+00:00   100.0      53.80  50.25   \n",
       "6   CVX240315C00105000 2023-08-01 19:00:05+00:00   105.0      57.50  57.15   \n",
       "7   CVX240315C00110000 2023-12-22 15:15:35+00:00   110.0      42.75  40.35   \n",
       "8   CVX240315C00115000 2023-12-07 15:49:28+00:00   115.0      29.91  35.35   \n",
       "9   CVX240315C00120000 2024-01-03 20:21:15+00:00   120.0      34.00  30.55   \n",
       "10  CVX240315C00125000 2023-12-13 15:22:41+00:00   125.0      19.31  25.25   \n",
       "11  CVX240315C00130000 2024-01-04 17:12:59+00:00   130.0      22.61  21.40   \n",
       "12  CVX240315C00135000 2024-01-05 15:23:13+00:00   135.0      18.05  17.10   \n",
       "13  CVX240315C00140000 2024-01-05 15:19:40+00:00   140.0      13.80  12.95   \n",
       "14  CVX240315C00145000 2024-01-05 18:58:37+00:00   145.0       9.71   9.35   \n",
       "15  CVX240315C00150000 2024-01-05 20:48:18+00:00   150.0       6.31   6.30   \n",
       "16  CVX240315C00155000 2024-01-05 20:48:18+00:00   155.0       3.95   3.95   \n",
       "17  CVX240315C00160000 2024-01-05 20:59:23+00:00   160.0       2.39   2.37   \n",
       "18  CVX240315C00165000 2024-01-05 20:45:04+00:00   165.0       1.35   1.32   \n",
       "19  CVX240315C00170000 2024-01-05 20:59:54+00:00   170.0       0.72   0.72   \n",
       "20  CVX240315C00175000 2024-01-05 18:48:43+00:00   175.0       0.39   0.38   \n",
       "21  CVX240315C00180000 2024-01-04 16:35:29+00:00   180.0       0.25   0.20   \n",
       "22  CVX240315C00185000 2024-01-04 14:42:51+00:00   185.0       0.21   0.12   \n",
       "23  CVX240315C00190000 2024-01-05 20:40:15+00:00   190.0       0.08   0.05   \n",
       "24  CVX240315C00195000 2024-01-05 14:31:45+00:00   195.0       0.05   0.04   \n",
       "25  CVX240315C00200000 2023-12-26 17:20:21+00:00   200.0       0.05   0.00   \n",
       "26  CVX240315C00210000 2024-01-03 19:18:15+00:00   210.0       0.09   0.00   \n",
       "27  CVX240315C00220000 2023-11-14 15:07:21+00:00   220.0       0.03   0.00   \n",
       "28  CVX240315C00230000 2023-12-07 15:26:41+00:00   230.0       0.01   0.00   \n",
       "29  CVX240315C00240000 2023-12-12 19:44:58+00:00   240.0       0.01   0.00   \n",
       "\n",
       "      ask    change  percentChange  volume  openInterest  impliedVolatility  \\\n",
       "0   76.70  5.019997       7.102428     1.0             1           0.841798   \n",
       "1   72.65  0.000000       0.000000    24.0            24           1.053716   \n",
       "2   67.10  0.000000       0.000000     NaN             2           0.855226   \n",
       "3   61.55  0.000000       0.000000     2.0            40           0.644047   \n",
       "4   56.60  0.000000       0.000000     NaN             2           0.607914   \n",
       "5   52.30  0.000000       0.000000     1.0            36           0.611088   \n",
       "6   58.20  0.000000       0.000000     NaN             8           1.370609   \n",
       "7   41.60  0.000000       0.000000     2.0            15           0.531255   \n",
       "8   37.05  0.000000       0.000000     4.0            16           0.514897   \n",
       "9   31.90  0.000000       0.000000     2.0           119           0.440191   \n",
       "10  27.70  0.000000       0.000000     1.0            85           0.438482   \n",
       "11  22.00  0.000000       0.000000     7.0           199           0.328620   \n",
       "12  17.35 -0.400002      -2.168030     2.0           199           0.289924   \n",
       "13  13.20  0.200000       1.470587    33.0           489           0.268806   \n",
       "14   9.50 -0.410000      -4.051382    11.0          2687           0.251594   \n",
       "15   6.40 -0.340000      -5.112784   222.0          1784           0.237923   \n",
       "16   4.05 -0.400000      -9.195399   138.0          3496           0.229439   \n",
       "17   2.43 -0.240000      -9.125476   160.0          6179           0.225166   \n",
       "18   1.38 -0.150000      -9.999999   168.0          6916           0.222786   \n",
       "19   0.78 -0.110000     -13.253006   441.0          2295           0.224373   \n",
       "20   0.43 -0.090000     -18.750002     8.0          2638           0.226570   \n",
       "21   0.25 -0.010000      -3.846150     1.0          1560           0.232430   \n",
       "22   0.15  0.000000       0.000000     1.0          1061           0.238777   \n",
       "23   0.10 -0.030000     -27.272728    16.0           855           0.249031   \n",
       "24   0.07 -0.010000     -16.666664     1.0           780           0.259773   \n",
       "25   0.11 -0.020000     -28.571426    10.0           634           0.297859   \n",
       "26   0.09  0.000000       0.000000     1.0           313           0.332038   \n",
       "27   0.08  0.000000       0.000000    10.0             6           0.365241   \n",
       "28   0.08  0.000000       0.000000    30.0           470           0.401373   \n",
       "29   0.08  0.000000       0.000000    31.0           457           0.435553   \n",
       "\n",
       "    inTheMoney contractSize currency  \n",
       "0         True      REGULAR      USD  \n",
       "1         True      REGULAR      USD  \n",
       "2         True      REGULAR      USD  \n",
       "3         True      REGULAR      USD  \n",
       "4         True      REGULAR      USD  \n",
       "5         True      REGULAR      USD  \n",
       "6         True      REGULAR      USD  \n",
       "7         True      REGULAR      USD  \n",
       "8         True      REGULAR      USD  \n",
       "9         True      REGULAR      USD  \n",
       "10        True      REGULAR      USD  \n",
       "11        True      REGULAR      USD  \n",
       "12        True      REGULAR      USD  \n",
       "13        True      REGULAR      USD  \n",
       "14        True      REGULAR      USD  \n",
       "15        True      REGULAR      USD  \n",
       "16       False      REGULAR      USD  \n",
       "17       False      REGULAR      USD  \n",
       "18       False      REGULAR      USD  \n",
       "19       False      REGULAR      USD  \n",
       "20       False      REGULAR      USD  \n",
       "21       False      REGULAR      USD  \n",
       "22       False      REGULAR      USD  \n",
       "23       False      REGULAR      USD  \n",
       "24       False      REGULAR      USD  \n",
       "25       False      REGULAR      USD  \n",
       "26       False      REGULAR      USD  \n",
       "27       False      REGULAR      USD  \n",
       "28       False      REGULAR      USD  \n",
       "29       False      REGULAR      USD  "
      ]
     },
     "execution_count": 11,
     "metadata": {"slideshow": {"slide_type": "slide"}},
     "output_type": "execute_result"
    }
   ],
   "source": [
    "date = cvx.options[6]\n",
    "cvx.option_chain(date).calls"
   ]
  },
  {
   "cell_type": "code",
   "execution_count": 12,
   "metadata": {"slideshow": {"slide_type": "slide"}},
   "outputs": [
    {
     "data": {
      "text/html": [
       "<div>\n",
       "<style scoped>\n",
       "    .dataframe tbody tr th:only-of-type {\n",
       "        vertical-align: middle;\n",
       "    }\n",
       "\n",
       "    .dataframe tbody tr th {\n",
       "        vertical-align: top;\n",
       "    }\n",
       "\n",
       "    .dataframe thead th {\n",
       "        text-align: right;\n",
       "    }\n",
       "</style>\n",
       "<table border=\"1\" class=\"dataframe\">\n",
       "  <thead>\n",
       "    <tr style=\"text-align: right;\">\n",
       "      <th></th>\n",
       "      <th>contractSymbol</th>\n",
       "      <th>lastTradeDate</th>\n",
       "      <th>strike</th>\n",
       "      <th>lastPrice</th>\n",
       "      <th>bid</th>\n",
       "      <th>ask</th>\n",
       "      <th>change</th>\n",
       "      <th>percentChange</th>\n",
       "      <th>volume</th>\n",
       "      <th>openInterest</th>\n",
       "      <th>impliedVolatility</th>\n",
       "      <th>inTheMoney</th>\n",
       "      <th>contractSize</th>\n",
       "      <th>currency</th>\n",
       "    </tr>\n",
       "  </thead>\n",
       "  <tbody>\n",
       "    <tr>\n",
       "      <th>0</th>\n",
       "      <td>CVX240315P00075000</td>\n",
       "      <td>2023-12-06 15:46:27+00:00</td>\n",
       "      <td>75.0</td>\n",
       "      <td>0.04</td>\n",
       "      <td>0.00</td>\n",
       "      <td>0.08</td>\n",
       "      <td>0.000000</td>\n",
       "      <td>0.000000</td>\n",
       "      <td>5.0</td>\n",
       "      <td>610</td>\n",
       "      <td>0.613285</td>\n",
       "      <td>False</td>\n",
       "      <td>REGULAR</td>\n",
       "      <td>USD</td>\n",
       "    </tr>\n",
       "    <tr>\n",
       "      <th>1</th>\n",
       "      <td>CVX240315P00080000</td>\n",
       "      <td>2023-12-11 20:18:41+00:00</td>\n",
       "      <td>80.0</td>\n",
       "      <td>0.02</td>\n",
       "      <td>0.00</td>\n",
       "      <td>0.08</td>\n",
       "      <td>0.000000</td>\n",
       "      <td>0.000000</td>\n",
       "      <td>8.0</td>\n",
       "      <td>362</td>\n",
       "      <td>0.560551</td>\n",
       "      <td>False</td>\n",
       "      <td>REGULAR</td>\n",
       "      <td>USD</td>\n",
       "    </tr>\n",
       "    <tr>\n",
       "      <th>2</th>\n",
       "      <td>CVX240315P00085000</td>\n",
       "      <td>2023-12-11 20:18:01+00:00</td>\n",
       "      <td>85.0</td>\n",
       "      <td>0.05</td>\n",
       "      <td>0.00</td>\n",
       "      <td>0.08</td>\n",
       "      <td>0.000000</td>\n",
       "      <td>0.000000</td>\n",
       "      <td>7.0</td>\n",
       "      <td>36</td>\n",
       "      <td>0.511724</td>\n",
       "      <td>False</td>\n",
       "      <td>REGULAR</td>\n",
       "      <td>USD</td>\n",
       "    </tr>\n",
       "    <tr>\n",
       "      <th>3</th>\n",
       "      <td>CVX240315P00090000</td>\n",
       "      <td>2023-11-29 15:07:37+00:00</td>\n",
       "      <td>90.0</td>\n",
       "      <td>0.06</td>\n",
       "      <td>0.00</td>\n",
       "      <td>0.09</td>\n",
       "      <td>0.000000</td>\n",
       "      <td>0.000000</td>\n",
       "      <td>1.0</td>\n",
       "      <td>93</td>\n",
       "      <td>0.509771</td>\n",
       "      <td>False</td>\n",
       "      <td>REGULAR</td>\n",
       "      <td>USD</td>\n",
       "    </tr>\n",
       "    <tr>\n",
       "      <th>4</th>\n",
       "      <td>CVX240315P00095000</td>\n",
       "      <td>2023-11-17 20:52:56+00:00</td>\n",
       "      <td>95.0</td>\n",
       "      <td>0.15</td>\n",
       "      <td>0.02</td>\n",
       "      <td>0.11</td>\n",
       "      <td>0.000000</td>\n",
       "      <td>0.000000</td>\n",
       "      <td>2.0</td>\n",
       "      <td>70</td>\n",
       "      <td>0.473638</td>\n",
       "      <td>False</td>\n",
       "      <td>REGULAR</td>\n",
       "      <td>USD</td>\n",
       "    </tr>\n",
       "    <tr>\n",
       "      <th>5</th>\n",
       "      <td>CVX240315P00100000</td>\n",
       "      <td>2024-01-04 20:13:42+00:00</td>\n",
       "      <td>100.0</td>\n",
       "      <td>0.05</td>\n",
       "      <td>0.02</td>\n",
       "      <td>0.11</td>\n",
       "      <td>0.020000</td>\n",
       "      <td>66.666670</td>\n",
       "      <td>5.0</td>\n",
       "      <td>49</td>\n",
       "      <td>0.425787</td>\n",
       "      <td>False</td>\n",
       "      <td>REGULAR</td>\n",
       "      <td>USD</td>\n",
       "    </tr>\n",
       "    <tr>\n",
       "      <th>6</th>\n",
       "      <td>CVX240315P00105000</td>\n",
       "      <td>2023-12-26 15:01:51+00:00</td>\n",
       "      <td>105.0</td>\n",
       "      <td>0.08</td>\n",
       "      <td>0.03</td>\n",
       "      <td>0.14</td>\n",
       "      <td>0.000000</td>\n",
       "      <td>0.000000</td>\n",
       "      <td>10.0</td>\n",
       "      <td>188</td>\n",
       "      <td>0.394049</td>\n",
       "      <td>False</td>\n",
       "      <td>REGULAR</td>\n",
       "      <td>USD</td>\n",
       "    </tr>\n",
       "    <tr>\n",
       "      <th>7</th>\n",
       "      <td>CVX240315P00110000</td>\n",
       "      <td>2024-01-03 20:32:23+00:00</td>\n",
       "      <td>110.0</td>\n",
       "      <td>0.11</td>\n",
       "      <td>0.10</td>\n",
       "      <td>0.14</td>\n",
       "      <td>0.000000</td>\n",
       "      <td>0.000000</td>\n",
       "      <td>10.0</td>\n",
       "      <td>325</td>\n",
       "      <td>0.349128</td>\n",
       "      <td>False</td>\n",
       "      <td>REGULAR</td>\n",
       "      <td>USD</td>\n",
       "    </tr>\n",
       "    <tr>\n",
       "      <th>8</th>\n",
       "      <td>CVX240315P00115000</td>\n",
       "      <td>2024-01-04 16:45:21+00:00</td>\n",
       "      <td>115.0</td>\n",
       "      <td>0.18</td>\n",
       "      <td>0.17</td>\n",
       "      <td>0.21</td>\n",
       "      <td>0.000000</td>\n",
       "      <td>0.000000</td>\n",
       "      <td>14.0</td>\n",
       "      <td>1131</td>\n",
       "      <td>0.326179</td>\n",
       "      <td>False</td>\n",
       "      <td>REGULAR</td>\n",
       "      <td>USD</td>\n",
       "    </tr>\n",
       "    <tr>\n",
       "      <th>9</th>\n",
       "      <td>CVX240315P00120000</td>\n",
       "      <td>2024-01-05 16:06:39+00:00</td>\n",
       "      <td>120.0</td>\n",
       "      <td>0.28</td>\n",
       "      <td>0.29</td>\n",
       "      <td>0.33</td>\n",
       "      <td>-0.010000</td>\n",
       "      <td>-3.448272</td>\n",
       "      <td>1.0</td>\n",
       "      <td>1166</td>\n",
       "      <td>0.306159</td>\n",
       "      <td>False</td>\n",
       "      <td>REGULAR</td>\n",
       "      <td>USD</td>\n",
       "    </tr>\n",
       "    <tr>\n",
       "      <th>10</th>\n",
       "      <td>CVX240315P00125000</td>\n",
       "      <td>2024-01-05 20:45:47+00:00</td>\n",
       "      <td>125.0</td>\n",
       "      <td>0.50</td>\n",
       "      <td>0.49</td>\n",
       "      <td>0.54</td>\n",
       "      <td>0.050000</td>\n",
       "      <td>11.111114</td>\n",
       "      <td>7.0</td>\n",
       "      <td>2354</td>\n",
       "      <td>0.289314</td>\n",
       "      <td>False</td>\n",
       "      <td>REGULAR</td>\n",
       "      <td>USD</td>\n",
       "    </tr>\n",
       "    <tr>\n",
       "      <th>11</th>\n",
       "      <td>CVX240315P00130000</td>\n",
       "      <td>2024-01-05 16:06:39+00:00</td>\n",
       "      <td>130.0</td>\n",
       "      <td>0.88</td>\n",
       "      <td>0.85</td>\n",
       "      <td>0.91</td>\n",
       "      <td>0.220000</td>\n",
       "      <td>33.333330</td>\n",
       "      <td>6.0</td>\n",
       "      <td>2348</td>\n",
       "      <td>0.275886</td>\n",
       "      <td>False</td>\n",
       "      <td>REGULAR</td>\n",
       "      <td>USD</td>\n",
       "    </tr>\n",
       "    <tr>\n",
       "      <th>12</th>\n",
       "      <td>CVX240315P00135000</td>\n",
       "      <td>2024-01-05 19:38:09+00:00</td>\n",
       "      <td>135.0</td>\n",
       "      <td>1.48</td>\n",
       "      <td>1.47</td>\n",
       "      <td>1.54</td>\n",
       "      <td>-0.050000</td>\n",
       "      <td>-3.267971</td>\n",
       "      <td>17.0</td>\n",
       "      <td>3836</td>\n",
       "      <td>0.265266</td>\n",
       "      <td>False</td>\n",
       "      <td>REGULAR</td>\n",
       "      <td>USD</td>\n",
       "    </tr>\n",
       "    <tr>\n",
       "      <th>13</th>\n",
       "      <td>CVX240315P00140000</td>\n",
       "      <td>2024-01-05 20:47:28+00:00</td>\n",
       "      <td>140.0</td>\n",
       "      <td>2.49</td>\n",
       "      <td>2.45</td>\n",
       "      <td>2.51</td>\n",
       "      <td>-0.020000</td>\n",
       "      <td>-0.796812</td>\n",
       "      <td>148.0</td>\n",
       "      <td>4685</td>\n",
       "      <td>0.254890</td>\n",
       "      <td>False</td>\n",
       "      <td>REGULAR</td>\n",
       "      <td>USD</td>\n",
       "    </tr>\n",
       "    <tr>\n",
       "      <th>14</th>\n",
       "      <td>CVX240315P00145000</td>\n",
       "      <td>2024-01-05 19:47:28+00:00</td>\n",
       "      <td>145.0</td>\n",
       "      <td>4.00</td>\n",
       "      <td>3.90</td>\n",
       "      <td>4.00</td>\n",
       "      <td>0.150000</td>\n",
       "      <td>3.896107</td>\n",
       "      <td>423.0</td>\n",
       "      <td>5311</td>\n",
       "      <td>0.247566</td>\n",
       "      <td>False</td>\n",
       "      <td>REGULAR</td>\n",
       "      <td>USD</td>\n",
       "    </tr>\n",
       "    <tr>\n",
       "      <th>15</th>\n",
       "      <td>CVX240315P00150000</td>\n",
       "      <td>2024-01-05 20:51:45+00:00</td>\n",
       "      <td>150.0</td>\n",
       "      <td>6.00</td>\n",
       "      <td>5.95</td>\n",
       "      <td>6.05</td>\n",
       "      <td>0.200000</td>\n",
       "      <td>3.448272</td>\n",
       "      <td>263.0</td>\n",
       "      <td>2792</td>\n",
       "      <td>0.239998</td>\n",
       "      <td>False</td>\n",
       "      <td>REGULAR</td>\n",
       "      <td>USD</td>\n",
       "    </tr>\n",
       "    <tr>\n",
       "      <th>16</th>\n",
       "      <td>CVX240315P00155000</td>\n",
       "      <td>2024-01-05 18:08:00+00:00</td>\n",
       "      <td>155.0</td>\n",
       "      <td>8.45</td>\n",
       "      <td>8.65</td>\n",
       "      <td>8.80</td>\n",
       "      <td>0.210000</td>\n",
       "      <td>2.548544</td>\n",
       "      <td>207.0</td>\n",
       "      <td>1256</td>\n",
       "      <td>0.235481</td>\n",
       "      <td>True</td>\n",
       "      <td>REGULAR</td>\n",
       "      <td>USD</td>\n",
       "    </tr>\n",
       "    <tr>\n",
       "      <th>17</th>\n",
       "      <td>CVX240315P00160000</td>\n",
       "      <td>2024-01-04 15:14:14+00:00</td>\n",
       "      <td>160.0</td>\n",
       "      <td>10.65</td>\n",
       "      <td>12.05</td>\n",
       "      <td>12.60</td>\n",
       "      <td>0.000000</td>\n",
       "      <td>0.000000</td>\n",
       "      <td>3.0</td>\n",
       "      <td>2578</td>\n",
       "      <td>0.250679</td>\n",
       "      <td>True</td>\n",
       "      <td>REGULAR</td>\n",
       "      <td>USD</td>\n",
       "    </tr>\n",
       "    <tr>\n",
       "      <th>18</th>\n",
       "      <td>CVX240315P00165000</td>\n",
       "      <td>2024-01-05 17:09:24+00:00</td>\n",
       "      <td>165.0</td>\n",
       "      <td>16.23</td>\n",
       "      <td>16.15</td>\n",
       "      <td>16.45</td>\n",
       "      <td>1.250000</td>\n",
       "      <td>8.344460</td>\n",
       "      <td>6.0</td>\n",
       "      <td>1412</td>\n",
       "      <td>0.248909</td>\n",
       "      <td>True</td>\n",
       "      <td>REGULAR</td>\n",
       "      <td>USD</td>\n",
       "    </tr>\n",
       "    <tr>\n",
       "      <th>19</th>\n",
       "      <td>CVX240315P00170000</td>\n",
       "      <td>2024-01-05 19:55:53+00:00</td>\n",
       "      <td>170.0</td>\n",
       "      <td>21.08</td>\n",
       "      <td>20.05</td>\n",
       "      <td>20.90</td>\n",
       "      <td>1.629999</td>\n",
       "      <td>8.380458</td>\n",
       "      <td>1.0</td>\n",
       "      <td>222</td>\n",
       "      <td>0.261482</td>\n",
       "      <td>True</td>\n",
       "      <td>REGULAR</td>\n",
       "      <td>USD</td>\n",
       "    </tr>\n",
       "    <tr>\n",
       "      <th>20</th>\n",
       "      <td>CVX240315P00175000</td>\n",
       "      <td>2023-12-06 19:53:37+00:00</td>\n",
       "      <td>175.0</td>\n",
       "      <td>31.85</td>\n",
       "      <td>24.50</td>\n",
       "      <td>26.15</td>\n",
       "      <td>0.000000</td>\n",
       "      <td>0.000000</td>\n",
       "      <td>720.0</td>\n",
       "      <td>239</td>\n",
       "      <td>0.318122</td>\n",
       "      <td>True</td>\n",
       "      <td>REGULAR</td>\n",
       "      <td>USD</td>\n",
       "    </tr>\n",
       "    <tr>\n",
       "      <th>21</th>\n",
       "      <td>CVX240315P00180000</td>\n",
       "      <td>2023-11-07 17:42:29+00:00</td>\n",
       "      <td>180.0</td>\n",
       "      <td>37.90</td>\n",
       "      <td>36.00</td>\n",
       "      <td>38.05</td>\n",
       "      <td>0.000000</td>\n",
       "      <td>0.000000</td>\n",
       "      <td>1.0</td>\n",
       "      <td>0</td>\n",
       "      <td>0.653080</td>\n",
       "      <td>True</td>\n",
       "      <td>REGULAR</td>\n",
       "      <td>USD</td>\n",
       "    </tr>\n",
       "    <tr>\n",
       "      <th>22</th>\n",
       "      <td>CVX240315P00185000</td>\n",
       "      <td>2023-09-11 16:42:38+00:00</td>\n",
       "      <td>185.0</td>\n",
       "      <td>21.67</td>\n",
       "      <td>25.35</td>\n",
       "      <td>26.00</td>\n",
       "      <td>0.000000</td>\n",
       "      <td>0.000000</td>\n",
       "      <td>3.0</td>\n",
       "      <td>6</td>\n",
       "      <td>0.000010</td>\n",
       "      <td>True</td>\n",
       "      <td>REGULAR</td>\n",
       "      <td>USD</td>\n",
       "    </tr>\n",
       "    <tr>\n",
       "      <th>23</th>\n",
       "      <td>CVX240315P00190000</td>\n",
       "      <td>2023-09-22 17:34:23+00:00</td>\n",
       "      <td>190.0</td>\n",
       "      <td>24.91</td>\n",
       "      <td>25.45</td>\n",
       "      <td>26.00</td>\n",
       "      <td>0.000000</td>\n",
       "      <td>0.000000</td>\n",
       "      <td>NaN</td>\n",
       "      <td>10</td>\n",
       "      <td>0.000010</td>\n",
       "      <td>True</td>\n",
       "      <td>REGULAR</td>\n",
       "      <td>USD</td>\n",
       "    </tr>\n",
       "    <tr>\n",
       "      <th>24</th>\n",
       "      <td>CVX240315P00200000</td>\n",
       "      <td>2023-09-06 17:47:50+00:00</td>\n",
       "      <td>200.0</td>\n",
       "      <td>33.55</td>\n",
       "      <td>37.70</td>\n",
       "      <td>38.95</td>\n",
       "      <td>0.000000</td>\n",
       "      <td>0.000000</td>\n",
       "      <td>10.0</td>\n",
       "      <td>0</td>\n",
       "      <td>0.000010</td>\n",
       "      <td>True</td>\n",
       "      <td>REGULAR</td>\n",
       "      <td>USD</td>\n",
       "    </tr>\n",
       "    <tr>\n",
       "      <th>25</th>\n",
       "      <td>CVX240315P00230000</td>\n",
       "      <td>2023-10-27 19:27:37+00:00</td>\n",
       "      <td>230.0</td>\n",
       "      <td>86.42</td>\n",
       "      <td>83.65</td>\n",
       "      <td>85.50</td>\n",
       "      <td>0.000000</td>\n",
       "      <td>0.000000</td>\n",
       "      <td>2.0</td>\n",
       "      <td>0</td>\n",
       "      <td>0.894532</td>\n",
       "      <td>True</td>\n",
       "      <td>REGULAR</td>\n",
       "      <td>USD</td>\n",
       "    </tr>\n",
       "  </tbody>\n",
       "</table>\n",
       "</div>"
      ],
      "text/plain": [
       "        contractSymbol             lastTradeDate  strike  lastPrice    bid  \\\n",
       "0   CVX240315P00075000 2023-12-06 15:46:27+00:00    75.0       0.04   0.00   \n",
       "1   CVX240315P00080000 2023-12-11 20:18:41+00:00    80.0       0.02   0.00   \n",
       "2   CVX240315P00085000 2023-12-11 20:18:01+00:00    85.0       0.05   0.00   \n",
       "3   CVX240315P00090000 2023-11-29 15:07:37+00:00    90.0       0.06   0.00   \n",
       "4   CVX240315P00095000 2023-11-17 20:52:56+00:00    95.0       0.15   0.02   \n",
       "5   CVX240315P00100000 2024-01-04 20:13:42+00:00   100.0       0.05   0.02   \n",
       "6   CVX240315P00105000 2023-12-26 15:01:51+00:00   105.0       0.08   0.03   \n",
       "7   CVX240315P00110000 2024-01-03 20:32:23+00:00   110.0       0.11   0.10   \n",
       "8   CVX240315P00115000 2024-01-04 16:45:21+00:00   115.0       0.18   0.17   \n",
       "9   CVX240315P00120000 2024-01-05 16:06:39+00:00   120.0       0.28   0.29   \n",
       "10  CVX240315P00125000 2024-01-05 20:45:47+00:00   125.0       0.50   0.49   \n",
       "11  CVX240315P00130000 2024-01-05 16:06:39+00:00   130.0       0.88   0.85   \n",
       "12  CVX240315P00135000 2024-01-05 19:38:09+00:00   135.0       1.48   1.47   \n",
       "13  CVX240315P00140000 2024-01-05 20:47:28+00:00   140.0       2.49   2.45   \n",
       "14  CVX240315P00145000 2024-01-05 19:47:28+00:00   145.0       4.00   3.90   \n",
       "15  CVX240315P00150000 2024-01-05 20:51:45+00:00   150.0       6.00   5.95   \n",
       "16  CVX240315P00155000 2024-01-05 18:08:00+00:00   155.0       8.45   8.65   \n",
       "17  CVX240315P00160000 2024-01-04 15:14:14+00:00   160.0      10.65  12.05   \n",
       "18  CVX240315P00165000 2024-01-05 17:09:24+00:00   165.0      16.23  16.15   \n",
       "19  CVX240315P00170000 2024-01-05 19:55:53+00:00   170.0      21.08  20.05   \n",
       "20  CVX240315P00175000 2023-12-06 19:53:37+00:00   175.0      31.85  24.50   \n",
       "21  CVX240315P00180000 2023-11-07 17:42:29+00:00   180.0      37.90  36.00   \n",
       "22  CVX240315P00185000 2023-09-11 16:42:38+00:00   185.0      21.67  25.35   \n",
       "23  CVX240315P00190000 2023-09-22 17:34:23+00:00   190.0      24.91  25.45   \n",
       "24  CVX240315P00200000 2023-09-06 17:47:50+00:00   200.0      33.55  37.70   \n",
       "25  CVX240315P00230000 2023-10-27 19:27:37+00:00   230.0      86.42  83.65   \n",
       "\n",
       "      ask    change  percentChange  volume  openInterest  impliedVolatility  \\\n",
       "0    0.08  0.000000       0.000000     5.0           610           0.613285   \n",
       "1    0.08  0.000000       0.000000     8.0           362           0.560551   \n",
       "2    0.08  0.000000       0.000000     7.0            36           0.511724   \n",
       "3    0.09  0.000000       0.000000     1.0            93           0.509771   \n",
       "4    0.11  0.000000       0.000000     2.0            70           0.473638   \n",
       "5    0.11  0.020000      66.666670     5.0            49           0.425787   \n",
       "6    0.14  0.000000       0.000000    10.0           188           0.394049   \n",
       "7    0.14  0.000000       0.000000    10.0           325           0.349128   \n",
       "8    0.21  0.000000       0.000000    14.0          1131           0.326179   \n",
       "9    0.33 -0.010000      -3.448272     1.0          1166           0.306159   \n",
       "10   0.54  0.050000      11.111114     7.0          2354           0.289314   \n",
       "11   0.91  0.220000      33.333330     6.0          2348           0.275886   \n",
       "12   1.54 -0.050000      -3.267971    17.0          3836           0.265266   \n",
       "13   2.51 -0.020000      -0.796812   148.0          4685           0.254890   \n",
       "14   4.00  0.150000       3.896107   423.0          5311           0.247566   \n",
       "15   6.05  0.200000       3.448272   263.0          2792           0.239998   \n",
       "16   8.80  0.210000       2.548544   207.0          1256           0.235481   \n",
       "17  12.60  0.000000       0.000000     3.0          2578           0.250679   \n",
       "18  16.45  1.250000       8.344460     6.0          1412           0.248909   \n",
       "19  20.90  1.629999       8.380458     1.0           222           0.261482   \n",
       "20  26.15  0.000000       0.000000   720.0           239           0.318122   \n",
       "21  38.05  0.000000       0.000000     1.0             0           0.653080   \n",
       "22  26.00  0.000000       0.000000     3.0             6           0.000010   \n",
       "23  26.00  0.000000       0.000000     NaN            10           0.000010   \n",
       "24  38.95  0.000000       0.000000    10.0             0           0.000010   \n",
       "25  85.50  0.000000       0.000000     2.0             0           0.894532   \n",
       "\n",
       "    inTheMoney contractSize currency  \n",
       "0        False      REGULAR      USD  \n",
       "1        False      REGULAR      USD  \n",
       "2        False      REGULAR      USD  \n",
       "3        False      REGULAR      USD  \n",
       "4        False      REGULAR      USD  \n",
       "5        False      REGULAR      USD  \n",
       "6        False      REGULAR      USD  \n",
       "7        False      REGULAR      USD  \n",
       "8        False      REGULAR      USD  \n",
       "9        False      REGULAR      USD  \n",
       "10       False      REGULAR      USD  \n",
       "11       False      REGULAR      USD  \n",
       "12       False      REGULAR      USD  \n",
       "13       False      REGULAR      USD  \n",
       "14       False      REGULAR      USD  \n",
       "15       False      REGULAR      USD  \n",
       "16        True      REGULAR      USD  \n",
       "17        True      REGULAR      USD  \n",
       "18        True      REGULAR      USD  \n",
       "19        True      REGULAR      USD  \n",
       "20        True      REGULAR      USD  \n",
       "21        True      REGULAR      USD  \n",
       "22        True      REGULAR      USD  \n",
       "23        True      REGULAR      USD  \n",
       "24        True      REGULAR      USD  \n",
       "25        True      REGULAR      USD  "
      ]
     },
     "execution_count": 12,
     "metadata": {"slideshow": {"slide_type": "slide"}},
     "output_type": "execute_result"
    }
   ],
   "source": [
    "cvx.option_chain(date).puts"
   ]
  },
  {
   "cell_type": "markdown",
   "metadata": {"slideshow": {"slide_type": "slide"}},
   "source": [
    "### Buying Calls to Bet on a Stock\n",
    "\n",
    "- Investing in call options is similar to buying shares - you win when the stock goes up - but the % gains and losses are amplified\n",
    "- It is similar to buying stocks with very high leverage\n",
    "- The amount of \"leverage\" is greater for out of the money call\n",
    "- Example: stock trading at 100.  Might buy calls with a strike of 110 or 120.\n",
    "- Don't have to hold to maturity.  If the stock goes up, the price of the call will go up, and  you can sell and take the profit."
   ]
  },
  {
   "cell_type": "markdown",
   "metadata": {"slideshow": {"slide_type": "slide"}},
   "source": [
    "### Buying Puts to Bet Against a Stock\n",
    "\n",
    "- Investing in puts is similar to shorting a stock - you win when the stock goes down - but the % gains and losses are amplified.\n",
    "- The amplification is greater for out of the money puts.\n",
    "- Example: stock trading at 100.  Might buy puts with a strike of 90 or 80.\n",
    "- Again, don't have to hold to maturity.  "
   ]
  },
  {
   "cell_type": "markdown",
   "metadata": {"slideshow": {"slide_type": "slide"}},
   "source": [
    "### Limited Liability\n",
    "\n",
    "- Buying options is different in one way from buying stocks on margin or short selling - your maximum loss is capped with options.\n",
    "- You can lose everything that you invest but not more than that.\n",
    "- It is possible, though rare, to lose more than you've invested when buying a stock on margin or short selling.\n",
    "- On the other hand, sellers of options have unlimited liability."
   ]
  },
  {
   "cell_type": "markdown",
   "metadata": {"slideshow": {"slide_type": "slide"}},
   "source": [
    "### Buying Puts for Protection\n",
    "\n",
    "- If you own a stock, you might buy a put for insurance.\n",
    "- You normally buy out-of-the-money puts for protection.\n",
    "- Example: you own a stock trading at 100 and buy a put with a strike of 80.\n",
    "- Your downside on the stock is now limited at 80, because you have an option to sell it at 80.\n",
    "- Usually, you wouldn't exercise the put.  If the stock falls, you make a profit on the put that offsets some of your loss on the stock.\n"
   ]
  },
  {
   "cell_type": "markdown",
   "metadata": {"slideshow": {"slide_type": "slide"}},
   "source": [
    "### Selling Calls for Income\n",
    "\n",
    "- If you own a stock, you might sell a call option on it for income.  This is called selling a covered call.\n",
    "- You normally sell out-of-the-money calls.\n",
    "- Example: you own a stock trading at 100 and sell a call with a strike of 120.\n",
    "- If the stock doesn't go up beyond 120, you'll be happy you sold the call."
   ]
  },
  {
   "cell_type": "markdown",
   "metadata": {"slideshow": {"slide_type": "slide"}},
   "source": [
    "### Collars\n",
    "\n",
    "- It is common to buy a put for insurance and to sell a call to pay for the put.\n",
    "- You are selling off some of your upside to protect your downside.\n",
    "- Example: you own a stock trading at 100 and buy a put with a strike of 80 and sell a call with a strike of 120.\n",
    "- The portfolio value is collared between 80 and 120."
   ]
  }
 ],
 "metadata": {
  "kernelspec": {
   "display_name": "Python 3",
   "language": "python",
   "name": "python3"
  },
  "language_info": {
   "codemirror_mode": {
    "name": "ipython",
    "version": 3
   },
   "file_extension": ".py",
   "mimetype": "text/x-python",
   "name": "python",
   "nbconvert_exporter": "python",
   "pygments_lexer": "ipython3",
   "version": "3.10.11"
  }
 },
 "nbformat": 4,
 "nbformat_minor": 2
}
