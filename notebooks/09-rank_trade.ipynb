{
 "cells": [
  {
   "cell_type": "markdown",
   "metadata": {"slideshow": {"slide_type": "slide"}},
   "source": [
    "# Rank and Trade\n",
    "\n",
    "### BUSI 722: Data-Driven Finance II\n",
    "### Kerry Back, Rice University"
   ]
  },
  {
   "cell_type": "markdown",
   "metadata": {"slideshow": {"slide_type": "slide"}},
   "source": [
    "### Outline\n",
    "\n",
    "1. Build feature dataset with today's features\n",
    "2. Load and apply model to predict\n",
    "3. Trade to 140/40 portfolio with 100% in SPY\n",
    "   (a) Close unwanted positions\n",
    "   (b) Rebalance SPY\n",
    "   (c) Open/rebalance long positions\n",
    "   (d) Open/rebalance short positions\n",
    "4. Save account equity and positions"
   ]
  },
  {
   "cell_type": "code",
   "execution_count": 26,
   "metadata": {
    "slideshow": {
     "slide_type": "slide"
    }
   },
   "outputs": [],
   "source": [
    "import numpy as np\n",
    "import pandas as pd\n",
    "from sqlalchemy import create_engine\n",
    "from joblib import load \n",
    "import yfinance as yf \n",
    "from datetime import datetime\n",
    "import os.path\n",
    "\n",
    "from alpaca.trading.client import TradingClient\n",
    "from alpaca.trading.requests import MarketOrderRequest, GetAssetsRequest, AssetClass\n",
    "from alpaca.trading.enums import OrderSide, TimeInForce"
   ]
  },
  {
   "cell_type": "markdown",
   "metadata": {
    "slideshow": {
     "slide_type": "slide"
    }
   },
   "source": [
    "### Build Feature Dataset\n",
    "\n",
    "- Don't need much history.  Start here in 2022.\n",
    "- And don't need weekly returns (after computing momentum)."
   ]
  },
  {
   "cell_type": "code",
   "execution_count": 2,
   "metadata": {
    "slideshow": {
     "slide_type": "slide"
    }
   },
   "outputs": [],
   "source": [
    "server = 'fs.rice.edu'\n",
    "database = 'stocks'\n",
    "username = 'stocks'\n",
    "password = '6LAZH1'\n",
    "driver = 'SQL+Server'\n",
    "string = f\"mssql+pyodbc://{username}:{password}@{server}/{database}\" \n",
    "try: \n",
    "    conn = create_engine(string + \"?driver='SQL+Server'\").connect()\n",
    "except:\n",
    "    try:\n",
    "        conn = create_engine(string + \"?driver='ODBC+Driver+18+for+SQL+Server'\").connect()\n",
    "    except:\n",
    "        import pymssql\n",
    "        string = f\"mssql+pymssql://{username}:{password}@{server}/{database}\"   \n",
    "        conn = create_engine(string).connect() "
   ]
  },
  {
   "cell_type": "code",
   "execution_count": 3,
   "metadata": {
    "slideshow": {
     "slide_type": "slide"
    }
   },
   "outputs": [],
   "source": [
    "sep_weekly = pd.read_sql(\n",
    "    \"\"\" \n",
    "    select date, ticker, closeadj, closeunadj, volume, lastupdated from sep_weekly \n",
    "    where date >= '2022-01-01'\n",
    "    order by ticker, date, lastupdated    \n",
    "    \"\"\",\n",
    "    conn,\n",
    ")\n",
    "sep_weekly = sep_weekly.groupby([\"ticker\", \"date\"]).last()\n",
    "sep_weekly = sep_weekly.drop(columns=[\"lastupdated\"])\n",
    "\n",
    "ret = sep_weekly.groupby(\"ticker\", group_keys=False).closeadj.pct_change()\n",
    "ret.name = \"ret\"\n",
    "\n",
    "price = sep_weekly.closeunadj\n",
    "price.name = \"price\"\n",
    "\n",
    "volume = sep_weekly.volume \n",
    "volume.name = \"volume\""
   ]
  },
  {
   "cell_type": "code",
   "execution_count": 4,
   "metadata": {
    "slideshow": {
     "slide_type": "slide"
    }
   },
   "outputs": [],
   "source": [
    "ret_annual = sep_weekly.groupby(\"ticker\", group_keys=False).closeadj.pct_change(52)\n",
    "ret_monthly = sep_weekly.groupby(\"ticker\", group_keys=False).closeadj.pct_change(4)\n",
    "mom = (1 + ret_annual) / (1 + ret_monthly) - 1\n",
    "mom.name = \"mom\""
   ]
  },
  {
   "cell_type": "code",
   "execution_count": 5,
   "metadata": {
    "slideshow": {
     "slide_type": "slide"
    }
   },
   "outputs": [],
   "source": [
    "weekly = pd.read_sql(\n",
    "    \"\"\" \n",
    "    select date, ticker, pb, marketcap, lastupdated from weekly \n",
    "    where date>='2022-01-01'\n",
    "    order by ticker, date, lastupdated    \n",
    "    \"\"\",\n",
    "    conn,\n",
    ")\n",
    "weekly = weekly.groupby([\"ticker\", \"date\"]).last()\n",
    "weekly = weekly.drop(columns=[\"lastupdated\"])\n",
    "\n",
    "pb = weekly.pb\n",
    "pb.name = \"pb\" \n",
    "marketcap = weekly.marketcap \n",
    "marketcap.name = \"marketcap\""
   ]
  },
  {
   "cell_type": "code",
   "execution_count": 6,
   "metadata": {
    "slideshow": {
     "slide_type": "slide"
    }
   },
   "outputs": [],
   "source": [
    "sf1 = pd.read_sql(\n",
    "    \"\"\" \n",
    "    select datekey as date, ticker, assets, netinc, equity, lastupdated from sf1\n",
    "    where datekey>='2022-01-01' and dimension='ARY' and assets>0 and equity>0\n",
    "    order by ticker, datekey, lastupdated    \n",
    "    \"\"\",\n",
    "    conn,\n",
    ")\n",
    "sf1 = sf1.groupby([\"ticker\", \"date\"]).last()\n",
    "sf1 = sf1.drop(columns=[\"lastupdated\"])\n",
    "\n",
    "# change dates to Fridays\n",
    "from datetime import timedelta \n",
    "sf1 = sf1.reset_index()\n",
    "sf1.date =sf1.date.map(\n",
    "    lambda x: x + timedelta(4 - x.weekday())\n",
    ")\n",
    "sf1 = sf1.set_index([\"ticker\", \"date\"])\n",
    "sf1 = sf1[~sf1.index.duplicated()]\n",
    "\n",
    "assets = sf1.assets\n",
    "assets.name = \"assets\" \n",
    "netinc = sf1.netinc \n",
    "netinc.name = \"netinc\" \n",
    "equity = sf1.equity\n",
    "equity.name = \"equity\"\n",
    "\n",
    "equity = equity.groupby(\"ticker\", group_keys=False).shift() \n",
    "roe = netinc / equity \n",
    "roe.name = \"roe\"\n",
    "\n",
    "assetgr = assets.groupby(\"ticker\", group_keys=False).pct_change()\n",
    "assetgr.name = \"assetgr\""
   ]
  },
  {
   "cell_type": "code",
   "execution_count": 7,
   "metadata": {
    "slideshow": {
     "slide_type": "slide"
    }
   },
   "outputs": [],
   "source": [
    "df = pd.concat(\n",
    "    (\n",
    "        mom, \n",
    "        volume,\n",
    "        price, \n",
    "        pb, \n",
    "        marketcap, \n",
    "        roe, \n",
    "        assetgr\n",
    "        ), \n",
    "        axis=1\n",
    "    )\n",
    "df[\"roe\"] = df.groupby(\"ticker\", group_keys=False).roe.ffill()\n",
    "df[\"assetgr\"] = df.groupby(\"ticker\", group_keys=False).assetgr.ffill()\n",
    "\n",
    "df = df.reset_index()\n",
    "df.date = df.date.astype(str)\n",
    "df = df[df.date==df.date.max()]\n",
    "df = df[df.price >= 5]\n",
    "df = df.dropna()\n",
    "\n",
    "features = [\n",
    "    \"mom\",\n",
    "    \"volume\",\n",
    "    \"pb\",\n",
    "    \"marketcap\",\n",
    "    \"roe\",\n",
    "    \"assetgr\" \n",
    "]"
   ]
  },
  {
   "cell_type": "code",
   "execution_count": 8,
   "metadata": {
    "slideshow": {
     "slide_type": "slide"
    }
   },
   "outputs": [],
   "source": [
    "industries = pd.read_sql(\n",
    "    \"\"\" \n",
    "    select ticker, famaindustry as industry from tickers   \n",
    "    \"\"\",\n",
    "    conn,\n",
    ")\n",
    "industries[\"industry\"] = industries.industry.fillna(\"Almost Nothing\")\n",
    "df = df.merge(industries, on=\"ticker\", how=\"left\")\n",
    "df = df.dropna()"
   ]
  },
  {
   "cell_type": "code",
   "execution_count": 9,
   "metadata": {
    "slideshow": {
     "slide_type": "slide"
    }
   },
   "outputs": [],
   "source": [
    "for x in features:\n",
    "    df[f\"{x}_industry\"] = df.groupby(\n",
    "        [\"industry\"], \n",
    "        group_keys=False\n",
    "    )[x].apply(\n",
    "        lambda x: x - x.median()\n",
    "    )\n",
    "\n",
    "features += [f\"{x}_industry\" for x in features]"
   ]
  },
  {
   "cell_type": "code",
   "execution_count": 10,
   "metadata": {
    "slideshow": {
     "slide_type": "slide"
    }
   },
   "outputs": [],
   "source": [
    "for f in features:\n",
    "    df[f] = df[f].rank(pct=True)"
   ]
  },
  {
   "cell_type": "markdown",
   "metadata": {
    "slideshow": {
     "slide_type": "slide"
    }
   },
   "source": [
    "### Load Model and Predict"
   ]
  },
  {
   "cell_type": "code",
   "execution_count": 11,
   "metadata": {
    "slideshow": {
     "slide_type": "slide"
    }
   },
   "outputs": [],
   "source": [
    "model = load(\"mymodel.joblib\")\n",
    "df[\"predict\"] = model.predict(df[features])"
   ]
  },
  {
   "cell_type": "markdown",
   "metadata": {
    "slideshow": {
     "slide_type": "slide"
    }
   },
   "source": [
    "### Best and worst stocks\n",
    "\n",
    "- Best stocks must be tradable \n",
    "- Worst stocks must be tradable and shortable"
   ]
  },
  {
   "cell_type": "code",
   "execution_count": 12,
   "metadata": {
    "slideshow": {
     "slide_type": "slide"
    }
   },
   "outputs": [],
   "source": [
    "with open(\"keys.txt\", \"r\") as f:\n",
    "    keys = f.readlines()\n",
    "\n",
    "key, secret_key = [x.strip() for x in keys]\n",
    "trading_client = TradingClient(key, secret_key, paper=True)\n",
    "\n",
    "search_params = GetAssetsRequest(asset_class=AssetClass.US_EQUITY)\n",
    "assets = trading_client.get_all_assets(search_params)\n",
    "tradable = [x.symbol for x in assets if x.tradable]\n",
    "shortable = [x.symbol for x in assets if x.shortable]"
   ]
  },
  {
   "cell_type": "code",
   "execution_count": 13,
   "metadata": {
    "slideshow": {
     "slide_type": "slide"
    }
   },
   "outputs": [],
   "source": [
    "numstocks = 50\n",
    "\n",
    "df = df.sort_values(by=\"predict\", ascending=False)\n",
    "best = df[[\"ticker\", \"predict\"]].copy().reset_index(drop=True)\n",
    "best = best[best.ticker.isin(tradable)].iloc[:numstocks]\n",
    "\n",
    "df = df.sort_values(by=\"predict\", ascending=True)\n",
    "worst = df[[\"ticker\", \"predict\"]].copy().reset_index(drop=True)\n",
    "worst = worst[worst.ticker.isin(shortable)].iloc[:numstocks]"
   ]
  },
  {
   "cell_type": "code",
   "execution_count": 14,
   "metadata": {
    "slideshow": {
     "slide_type": "slide"
    }
   },
   "outputs": [
    {
     "data": {
      "text/html": [
       "<div>\n",
       "<style scoped>\n",
       "    .dataframe tbody tr th:only-of-type {\n",
       "        vertical-align: middle;\n",
       "    }\n",
       "\n",
       "    .dataframe tbody tr th {\n",
       "        vertical-align: top;\n",
       "    }\n",
       "\n",
       "    .dataframe thead th {\n",
       "        text-align: right;\n",
       "    }\n",
       "</style>\n",
       "<table border=\"1\" class=\"dataframe\">\n",
       "  <thead>\n",
       "    <tr style=\"text-align: right;\">\n",
       "      <th></th>\n",
       "      <th>ticker</th>\n",
       "      <th>predict</th>\n",
       "    </tr>\n",
       "  </thead>\n",
       "  <tbody>\n",
       "    <tr>\n",
       "      <th>0</th>\n",
       "      <td>SMCI</td>\n",
       "      <td>51.394069</td>\n",
       "    </tr>\n",
       "    <tr>\n",
       "      <th>1</th>\n",
       "      <td>QSR</td>\n",
       "      <td>51.306917</td>\n",
       "    </tr>\n",
       "    <tr>\n",
       "      <th>2</th>\n",
       "      <td>MPWR</td>\n",
       "      <td>51.278958</td>\n",
       "    </tr>\n",
       "    <tr>\n",
       "      <th>3</th>\n",
       "      <td>FERG</td>\n",
       "      <td>51.278958</td>\n",
       "    </tr>\n",
       "    <tr>\n",
       "      <th>4</th>\n",
       "      <td>ODFL</td>\n",
       "      <td>51.278958</td>\n",
       "    </tr>\n",
       "    <tr>\n",
       "      <th>5</th>\n",
       "      <td>FAST</td>\n",
       "      <td>51.272102</td>\n",
       "    </tr>\n",
       "    <tr>\n",
       "      <th>6</th>\n",
       "      <td>TT</td>\n",
       "      <td>51.268591</td>\n",
       "    </tr>\n",
       "    <tr>\n",
       "      <th>7</th>\n",
       "      <td>SNPS</td>\n",
       "      <td>51.268591</td>\n",
       "    </tr>\n",
       "    <tr>\n",
       "      <th>8</th>\n",
       "      <td>SCCO</td>\n",
       "      <td>51.268591</td>\n",
       "    </tr>\n",
       "    <tr>\n",
       "      <th>9</th>\n",
       "      <td>LULU</td>\n",
       "      <td>51.268591</td>\n",
       "    </tr>\n",
       "    <tr>\n",
       "      <th>10</th>\n",
       "      <td>WST</td>\n",
       "      <td>51.268043</td>\n",
       "    </tr>\n",
       "    <tr>\n",
       "      <th>11</th>\n",
       "      <td>CCI</td>\n",
       "      <td>51.266315</td>\n",
       "    </tr>\n",
       "    <tr>\n",
       "      <th>12</th>\n",
       "      <td>A</td>\n",
       "      <td>51.265236</td>\n",
       "    </tr>\n",
       "    <tr>\n",
       "      <th>13</th>\n",
       "      <td>MCHP</td>\n",
       "      <td>51.265236</td>\n",
       "    </tr>\n",
       "    <tr>\n",
       "      <th>14</th>\n",
       "      <td>VEEV</td>\n",
       "      <td>51.265101</td>\n",
       "    </tr>\n",
       "    <tr>\n",
       "      <th>15</th>\n",
       "      <td>BR</td>\n",
       "      <td>51.264289</td>\n",
       "    </tr>\n",
       "    <tr>\n",
       "      <th>16</th>\n",
       "      <td>EFX</td>\n",
       "      <td>51.263788</td>\n",
       "    </tr>\n",
       "    <tr>\n",
       "      <th>17</th>\n",
       "      <td>ACN</td>\n",
       "      <td>51.261735</td>\n",
       "    </tr>\n",
       "    <tr>\n",
       "      <th>18</th>\n",
       "      <td>MMC</td>\n",
       "      <td>51.261735</td>\n",
       "    </tr>\n",
       "    <tr>\n",
       "      <th>19</th>\n",
       "      <td>COST</td>\n",
       "      <td>51.261735</td>\n",
       "    </tr>\n",
       "    <tr>\n",
       "      <th>20</th>\n",
       "      <td>CPRT</td>\n",
       "      <td>51.261735</td>\n",
       "    </tr>\n",
       "    <tr>\n",
       "      <th>21</th>\n",
       "      <td>NFLX</td>\n",
       "      <td>51.261735</td>\n",
       "    </tr>\n",
       "    <tr>\n",
       "      <th>22</th>\n",
       "      <td>WM</td>\n",
       "      <td>51.261735</td>\n",
       "    </tr>\n",
       "    <tr>\n",
       "      <th>23</th>\n",
       "      <td>CAT</td>\n",
       "      <td>51.261735</td>\n",
       "    </tr>\n",
       "    <tr>\n",
       "      <th>24</th>\n",
       "      <td>UNP</td>\n",
       "      <td>51.261735</td>\n",
       "    </tr>\n",
       "    <tr>\n",
       "      <th>25</th>\n",
       "      <td>APH</td>\n",
       "      <td>51.261735</td>\n",
       "    </tr>\n",
       "    <tr>\n",
       "      <th>26</th>\n",
       "      <td>ROST</td>\n",
       "      <td>51.261735</td>\n",
       "    </tr>\n",
       "    <tr>\n",
       "      <th>27</th>\n",
       "      <td>ANET</td>\n",
       "      <td>51.261735</td>\n",
       "    </tr>\n",
       "    <tr>\n",
       "      <th>28</th>\n",
       "      <td>PG</td>\n",
       "      <td>51.261735</td>\n",
       "    </tr>\n",
       "    <tr>\n",
       "      <th>29</th>\n",
       "      <td>BX</td>\n",
       "      <td>51.261735</td>\n",
       "    </tr>\n",
       "    <tr>\n",
       "      <th>30</th>\n",
       "      <td>BAH</td>\n",
       "      <td>51.260328</td>\n",
       "    </tr>\n",
       "    <tr>\n",
       "      <th>31</th>\n",
       "      <td>AVY</td>\n",
       "      <td>51.260328</td>\n",
       "    </tr>\n",
       "    <tr>\n",
       "      <th>32</th>\n",
       "      <td>NDAQ</td>\n",
       "      <td>51.258245</td>\n",
       "    </tr>\n",
       "    <tr>\n",
       "      <th>33</th>\n",
       "      <td>IQV</td>\n",
       "      <td>51.258001</td>\n",
       "    </tr>\n",
       "    <tr>\n",
       "      <th>34</th>\n",
       "      <td>AMP</td>\n",
       "      <td>51.255487</td>\n",
       "    </tr>\n",
       "    <tr>\n",
       "      <th>35</th>\n",
       "      <td>CTAS</td>\n",
       "      <td>51.255270</td>\n",
       "    </tr>\n",
       "    <tr>\n",
       "      <th>36</th>\n",
       "      <td>CMG</td>\n",
       "      <td>51.255270</td>\n",
       "    </tr>\n",
       "    <tr>\n",
       "      <th>37</th>\n",
       "      <td>AXP</td>\n",
       "      <td>51.254869</td>\n",
       "    </tr>\n",
       "    <tr>\n",
       "      <th>38</th>\n",
       "      <td>UNH</td>\n",
       "      <td>51.254869</td>\n",
       "    </tr>\n",
       "    <tr>\n",
       "      <th>39</th>\n",
       "      <td>EW</td>\n",
       "      <td>51.254869</td>\n",
       "    </tr>\n",
       "    <tr>\n",
       "      <th>40</th>\n",
       "      <td>TSCO</td>\n",
       "      <td>51.254139</td>\n",
       "    </tr>\n",
       "    <tr>\n",
       "      <th>41</th>\n",
       "      <td>VRSK</td>\n",
       "      <td>51.254100</td>\n",
       "    </tr>\n",
       "    <tr>\n",
       "      <th>42</th>\n",
       "      <td>CDNS</td>\n",
       "      <td>51.253883</td>\n",
       "    </tr>\n",
       "    <tr>\n",
       "      <th>43</th>\n",
       "      <td>MOH</td>\n",
       "      <td>51.253462</td>\n",
       "    </tr>\n",
       "    <tr>\n",
       "      <th>44</th>\n",
       "      <td>JBL</td>\n",
       "      <td>51.253462</td>\n",
       "    </tr>\n",
       "    <tr>\n",
       "      <th>45</th>\n",
       "      <td>PH</td>\n",
       "      <td>51.253421</td>\n",
       "    </tr>\n",
       "    <tr>\n",
       "      <th>46</th>\n",
       "      <td>NSC</td>\n",
       "      <td>51.253421</td>\n",
       "    </tr>\n",
       "    <tr>\n",
       "      <th>47</th>\n",
       "      <td>KEYS</td>\n",
       "      <td>51.252873</td>\n",
       "    </tr>\n",
       "    <tr>\n",
       "      <th>48</th>\n",
       "      <td>TJX</td>\n",
       "      <td>51.251585</td>\n",
       "    </tr>\n",
       "    <tr>\n",
       "      <th>49</th>\n",
       "      <td>ADBE</td>\n",
       "      <td>51.251585</td>\n",
       "    </tr>\n",
       "  </tbody>\n",
       "</table>\n",
       "</div>"
      ],
      "text/plain": [
       "   ticker    predict\n",
       "0    SMCI  51.394069\n",
       "1     QSR  51.306917\n",
       "2    MPWR  51.278958\n",
       "3    FERG  51.278958\n",
       "4    ODFL  51.278958\n",
       "5    FAST  51.272102\n",
       "6      TT  51.268591\n",
       "7    SNPS  51.268591\n",
       "8    SCCO  51.268591\n",
       "9    LULU  51.268591\n",
       "10    WST  51.268043\n",
       "11    CCI  51.266315\n",
       "12      A  51.265236\n",
       "13   MCHP  51.265236\n",
       "14   VEEV  51.265101\n",
       "15     BR  51.264289\n",
       "16    EFX  51.263788\n",
       "17    ACN  51.261735\n",
       "18    MMC  51.261735\n",
       "19   COST  51.261735\n",
       "20   CPRT  51.261735\n",
       "21   NFLX  51.261735\n",
       "22     WM  51.261735\n",
       "23    CAT  51.261735\n",
       "24    UNP  51.261735\n",
       "25    APH  51.261735\n",
       "26   ROST  51.261735\n",
       "27   ANET  51.261735\n",
       "28     PG  51.261735\n",
       "29     BX  51.261735\n",
       "30    BAH  51.260328\n",
       "31    AVY  51.260328\n",
       "32   NDAQ  51.258245\n",
       "33    IQV  51.258001\n",
       "34    AMP  51.255487\n",
       "35   CTAS  51.255270\n",
       "36    CMG  51.255270\n",
       "37    AXP  51.254869\n",
       "38    UNH  51.254869\n",
       "39     EW  51.254869\n",
       "40   TSCO  51.254139\n",
       "41   VRSK  51.254100\n",
       "42   CDNS  51.253883\n",
       "43    MOH  51.253462\n",
       "44    JBL  51.253462\n",
       "45     PH  51.253421\n",
       "46    NSC  51.253421\n",
       "47   KEYS  51.252873\n",
       "48    TJX  51.251585\n",
       "49   ADBE  51.251585"
      ]
     },
     "execution_count": 14,
     "metadata": {"slideshow": {"slide_type": "slide"}},
     "output_type": "execute_result"
    }
   ],
   "source": [
    "best"
   ]
  },
  {
   "cell_type": "code",
   "execution_count": 15,
   "metadata": {
    "slideshow": {
     "slide_type": "slide"
    }
   },
   "outputs": [
    {
     "data": {
      "text/html": [
       "<div>\n",
       "<style scoped>\n",
       "    .dataframe tbody tr th:only-of-type {\n",
       "        vertical-align: middle;\n",
       "    }\n",
       "\n",
       "    .dataframe tbody tr th {\n",
       "        vertical-align: top;\n",
       "    }\n",
       "\n",
       "    .dataframe thead th {\n",
       "        text-align: right;\n",
       "    }\n",
       "</style>\n",
       "<table border=\"1\" class=\"dataframe\">\n",
       "  <thead>\n",
       "    <tr style=\"text-align: right;\">\n",
       "      <th></th>\n",
       "      <th>ticker</th>\n",
       "      <th>predict</th>\n",
       "    </tr>\n",
       "  </thead>\n",
       "  <tbody>\n",
       "    <tr>\n",
       "      <th>3</th>\n",
       "      <td>EIGR</td>\n",
       "      <td>39.167009</td>\n",
       "    </tr>\n",
       "    <tr>\n",
       "      <th>8</th>\n",
       "      <td>PRPO</td>\n",
       "      <td>42.381558</td>\n",
       "    </tr>\n",
       "    <tr>\n",
       "      <th>14</th>\n",
       "      <td>BODY</td>\n",
       "      <td>44.111180</td>\n",
       "    </tr>\n",
       "    <tr>\n",
       "      <th>16</th>\n",
       "      <td>KPLT</td>\n",
       "      <td>44.205348</td>\n",
       "    </tr>\n",
       "    <tr>\n",
       "      <th>18</th>\n",
       "      <td>CALC</td>\n",
       "      <td>44.351845</td>\n",
       "    </tr>\n",
       "    <tr>\n",
       "      <th>19</th>\n",
       "      <td>XOS</td>\n",
       "      <td>44.567180</td>\n",
       "    </tr>\n",
       "    <tr>\n",
       "      <th>22</th>\n",
       "      <td>AIRT</td>\n",
       "      <td>44.969343</td>\n",
       "    </tr>\n",
       "    <tr>\n",
       "      <th>23</th>\n",
       "      <td>ONCT</td>\n",
       "      <td>45.006040</td>\n",
       "    </tr>\n",
       "    <tr>\n",
       "      <th>24</th>\n",
       "      <td>ECOR</td>\n",
       "      <td>45.024591</td>\n",
       "    </tr>\n",
       "    <tr>\n",
       "      <th>25</th>\n",
       "      <td>SKLZ</td>\n",
       "      <td>45.068362</td>\n",
       "    </tr>\n",
       "    <tr>\n",
       "      <th>29</th>\n",
       "      <td>AEYE</td>\n",
       "      <td>45.264590</td>\n",
       "    </tr>\n",
       "    <tr>\n",
       "      <th>32</th>\n",
       "      <td>NVNO</td>\n",
       "      <td>45.458468</td>\n",
       "    </tr>\n",
       "    <tr>\n",
       "      <th>33</th>\n",
       "      <td>IPWR</td>\n",
       "      <td>45.482758</td>\n",
       "    </tr>\n",
       "    <tr>\n",
       "      <th>34</th>\n",
       "      <td>LEE</td>\n",
       "      <td>45.507330</td>\n",
       "    </tr>\n",
       "    <tr>\n",
       "      <th>37</th>\n",
       "      <td>CRVO</td>\n",
       "      <td>45.558953</td>\n",
       "    </tr>\n",
       "    <tr>\n",
       "      <th>39</th>\n",
       "      <td>TSE</td>\n",
       "      <td>45.651877</td>\n",
       "    </tr>\n",
       "    <tr>\n",
       "      <th>40</th>\n",
       "      <td>CRIS</td>\n",
       "      <td>45.681653</td>\n",
       "    </tr>\n",
       "    <tr>\n",
       "      <th>45</th>\n",
       "      <td>GANX</td>\n",
       "      <td>45.987356</td>\n",
       "    </tr>\n",
       "    <tr>\n",
       "      <th>46</th>\n",
       "      <td>RVNC</td>\n",
       "      <td>46.003517</td>\n",
       "    </tr>\n",
       "    <tr>\n",
       "      <th>47</th>\n",
       "      <td>NGNE</td>\n",
       "      <td>46.135566</td>\n",
       "    </tr>\n",
       "    <tr>\n",
       "      <th>49</th>\n",
       "      <td>TELA</td>\n",
       "      <td>46.167795</td>\n",
       "    </tr>\n",
       "    <tr>\n",
       "      <th>50</th>\n",
       "      <td>OPAD</td>\n",
       "      <td>46.228000</td>\n",
       "    </tr>\n",
       "    <tr>\n",
       "      <th>52</th>\n",
       "      <td>SYRE</td>\n",
       "      <td>46.358609</td>\n",
       "    </tr>\n",
       "    <tr>\n",
       "      <th>53</th>\n",
       "      <td>ATNM</td>\n",
       "      <td>46.371394</td>\n",
       "    </tr>\n",
       "    <tr>\n",
       "      <th>56</th>\n",
       "      <td>TIL</td>\n",
       "      <td>46.443035</td>\n",
       "    </tr>\n",
       "    <tr>\n",
       "      <th>57</th>\n",
       "      <td>VHC</td>\n",
       "      <td>46.446717</td>\n",
       "    </tr>\n",
       "    <tr>\n",
       "      <th>58</th>\n",
       "      <td>SILK</td>\n",
       "      <td>46.475485</td>\n",
       "    </tr>\n",
       "    <tr>\n",
       "      <th>59</th>\n",
       "      <td>ARQT</td>\n",
       "      <td>46.515012</td>\n",
       "    </tr>\n",
       "    <tr>\n",
       "      <th>61</th>\n",
       "      <td>ROOT</td>\n",
       "      <td>46.533247</td>\n",
       "    </tr>\n",
       "    <tr>\n",
       "      <th>62</th>\n",
       "      <td>TSVT</td>\n",
       "      <td>46.542394</td>\n",
       "    </tr>\n",
       "    <tr>\n",
       "      <th>66</th>\n",
       "      <td>ENTA</td>\n",
       "      <td>46.682079</td>\n",
       "    </tr>\n",
       "    <tr>\n",
       "      <th>68</th>\n",
       "      <td>DLA</td>\n",
       "      <td>46.756579</td>\n",
       "    </tr>\n",
       "    <tr>\n",
       "      <th>69</th>\n",
       "      <td>CULP</td>\n",
       "      <td>46.757973</td>\n",
       "    </tr>\n",
       "    <tr>\n",
       "      <th>70</th>\n",
       "      <td>GOCO</td>\n",
       "      <td>46.763119</td>\n",
       "    </tr>\n",
       "    <tr>\n",
       "      <th>71</th>\n",
       "      <td>PRAX</td>\n",
       "      <td>46.789427</td>\n",
       "    </tr>\n",
       "    <tr>\n",
       "      <th>72</th>\n",
       "      <td>SCOR</td>\n",
       "      <td>46.802425</td>\n",
       "    </tr>\n",
       "    <tr>\n",
       "      <th>73</th>\n",
       "      <td>QUIK</td>\n",
       "      <td>46.824635</td>\n",
       "    </tr>\n",
       "    <tr>\n",
       "      <th>74</th>\n",
       "      <td>SYRS</td>\n",
       "      <td>46.829105</td>\n",
       "    </tr>\n",
       "    <tr>\n",
       "      <th>77</th>\n",
       "      <td>CSBR</td>\n",
       "      <td>46.903732</td>\n",
       "    </tr>\n",
       "    <tr>\n",
       "      <th>80</th>\n",
       "      <td>CELC</td>\n",
       "      <td>47.048236</td>\n",
       "    </tr>\n",
       "    <tr>\n",
       "      <th>81</th>\n",
       "      <td>AIP</td>\n",
       "      <td>47.050116</td>\n",
       "    </tr>\n",
       "    <tr>\n",
       "      <th>83</th>\n",
       "      <td>IMRX</td>\n",
       "      <td>47.097642</td>\n",
       "    </tr>\n",
       "    <tr>\n",
       "      <th>84</th>\n",
       "      <td>AOMR</td>\n",
       "      <td>47.099600</td>\n",
       "    </tr>\n",
       "    <tr>\n",
       "      <th>85</th>\n",
       "      <td>AKYA</td>\n",
       "      <td>47.108796</td>\n",
       "    </tr>\n",
       "    <tr>\n",
       "      <th>86</th>\n",
       "      <td>BIG</td>\n",
       "      <td>47.125909</td>\n",
       "    </tr>\n",
       "    <tr>\n",
       "      <th>88</th>\n",
       "      <td>ABEO</td>\n",
       "      <td>47.136489</td>\n",
       "    </tr>\n",
       "    <tr>\n",
       "      <th>89</th>\n",
       "      <td>CXDO</td>\n",
       "      <td>47.190025</td>\n",
       "    </tr>\n",
       "    <tr>\n",
       "      <th>90</th>\n",
       "      <td>HIPO</td>\n",
       "      <td>47.205715</td>\n",
       "    </tr>\n",
       "    <tr>\n",
       "      <th>91</th>\n",
       "      <td>OUST</td>\n",
       "      <td>47.218883</td>\n",
       "    </tr>\n",
       "    <tr>\n",
       "      <th>92</th>\n",
       "      <td>CLPT</td>\n",
       "      <td>47.223387</td>\n",
       "    </tr>\n",
       "  </tbody>\n",
       "</table>\n",
       "</div>"
      ],
      "text/plain": [
       "   ticker    predict\n",
       "3    EIGR  39.167009\n",
       "8    PRPO  42.381558\n",
       "14   BODY  44.111180\n",
       "16   KPLT  44.205348\n",
       "18   CALC  44.351845\n",
       "19    XOS  44.567180\n",
       "22   AIRT  44.969343\n",
       "23   ONCT  45.006040\n",
       "24   ECOR  45.024591\n",
       "25   SKLZ  45.068362\n",
       "29   AEYE  45.264590\n",
       "32   NVNO  45.458468\n",
       "33   IPWR  45.482758\n",
       "34    LEE  45.507330\n",
       "37   CRVO  45.558953\n",
       "39    TSE  45.651877\n",
       "40   CRIS  45.681653\n",
       "45   GANX  45.987356\n",
       "46   RVNC  46.003517\n",
       "47   NGNE  46.135566\n",
       "49   TELA  46.167795\n",
       "50   OPAD  46.228000\n",
       "52   SYRE  46.358609\n",
       "53   ATNM  46.371394\n",
       "56    TIL  46.443035\n",
       "57    VHC  46.446717\n",
       "58   SILK  46.475485\n",
       "59   ARQT  46.515012\n",
       "61   ROOT  46.533247\n",
       "62   TSVT  46.542394\n",
       "66   ENTA  46.682079\n",
       "68    DLA  46.756579\n",
       "69   CULP  46.757973\n",
       "70   GOCO  46.763119\n",
       "71   PRAX  46.789427\n",
       "72   SCOR  46.802425\n",
       "73   QUIK  46.824635\n",
       "74   SYRS  46.829105\n",
       "77   CSBR  46.903732\n",
       "80   CELC  47.048236\n",
       "81    AIP  47.050116\n",
       "83   IMRX  47.097642\n",
       "84   AOMR  47.099600\n",
       "85   AKYA  47.108796\n",
       "86    BIG  47.125909\n",
       "88   ABEO  47.136489\n",
       "89   CXDO  47.190025\n",
       "90   HIPO  47.205715\n",
       "91   OUST  47.218883\n",
       "92   CLPT  47.223387"
      ]
     },
     "execution_count": 15,
     "metadata": {"slideshow": {"slide_type": "slide"}},
     "output_type": "execute_result"
    }
   ],
   "source": [
    "worst"
   ]
  },
  {
   "cell_type": "markdown",
   "metadata": {
    "slideshow": {
     "slide_type": "slide"
    }
   },
   "source": [
    "### Close unwanted positions"
   ]
  },
  {
   "cell_type": "code",
   "execution_count": 20,
   "metadata": {
    "slideshow": {
     "slide_type": "slide"
    }
   },
   "outputs": [],
   "source": [
    "positions = trading_client.get_all_positions()\n",
    "positions = {x.symbol: float(x.qty) for x in positions}\n",
    "positions_to_close = [\n",
    "    symbol for symbol in positions \n",
    "    if (symbol not in best.ticker.to_list())\n",
    "    and (symbol not in worst.ticker.to_list())\n",
    "]\n",
    "\n",
    "for symbol in positions_to_close:\n",
    "    qty = positions[symbol]\n",
    "    order=MarketOrderRequest(\n",
    "        symbol=symbol,\n",
    "        qty=abs(qty),\n",
    "        side=OrderSide.BUY if qty<0 else OrderSide.SELL,\n",
    "        time_in_force=TimeInForce.DAY\n",
    "    )\n",
    "    _ = trading_client.submit_order(order)"
   ]
  },
  {
   "attachments": {},
   "cell_type": "markdown",
   "metadata": {
    "slideshow": {
     "slide_type": "slide"
    }
   },
   "source": [
    "### Rebalance SPY"
   ]
  },
  {
   "cell_type": "code",
   "execution_count": 21,
   "metadata": {
    "slideshow": {
     "slide_type": "slide"
    }
   },
   "outputs": [],
   "source": [
    "price = yf.download(\"SPY\", start=2024, progress=False)[\"Close\"].iloc[-1].item()\n",
    "\n",
    "account = trading_client.get_account()\n",
    "equity = float(account.equity)\n",
    "qty = int(equity / price)\n",
    "qty -= positions[\"SPY\"] if \"SPY\" in positions else 0\n",
    "\n",
    "if qty != 0:\n",
    "    order = MarketOrderRequest(\n",
    "        symbol=\"SPY\",\n",
    "        qty=abs(qty),\n",
    "        side=OrderSide.BUY if qty>0 else OrderSide.SELL,\n",
    "        time_in_force=TimeInForce.DAY\n",
    "    )\n",
    "    _ = trading_client.submit_order(order)"
   ]
  },
  {
   "cell_type": "markdown",
   "metadata": {
    "slideshow": {
     "slide_type": "slide"
    }
   },
   "source": [
    "### Trade best stocks"
   ]
  },
  {
   "cell_type": "code",
   "execution_count": 22,
   "metadata": {
    "slideshow": {
     "slide_type": "slide"
    }
   },
   "outputs": [
    {
     "name": "stdout",
     "output_type": "stream",
     "text": [
      "[*********************100%%**********************]  50 of 50 completed\n"
     ]
    }
   ],
   "source": [
    "symbols = best.ticker.to_list()\n",
    "prices = yf.download(symbols, start=2024)[\"Close\"].iloc[-1]\n",
    "symbols = [s for s in symbols if not np.isnan(prices[s])]\n",
    "dollars = 0.4 * equity / numstocks\n",
    "for symbol in symbols:\n",
    "    price = prices[symbol]\n",
    "    qty = int(dollars / price)\n",
    "    qty -= positions[symbol] if symbol in positions else 0\n",
    "    if qty != 0:\n",
    "        try:\n",
    "            order = MarketOrderRequest(\n",
    "                symbol=symbol,\n",
    "                qty=abs(qty),\n",
    "                side=OrderSide.BUY if qty>0 else OrderSide.SELL,\n",
    "                time_in_force=TimeInForce.DAY\n",
    "            )\n",
    "            _ = trading_client.submit_order(order)\n",
    "        except Exception as error:\n",
    "            print(\"An error occurred:\", error)"
   ]
  },
  {
   "attachments": {},
   "cell_type": "markdown",
   "metadata": {
    "slideshow": {
     "slide_type": "slide"
    }
   },
   "source": [
    "### Trade worst stocks"
   ]
  },
  {
   "cell_type": "code",
   "execution_count": 24,
   "metadata": {
    "slideshow": {
     "slide_type": "slide"
    }
   },
   "outputs": [
    {
     "name": "stdout",
     "output_type": "stream",
     "text": [
      "[*********************100%%**********************]  50 of 50 completed\n"
     ]
    }
   ],
   "source": [
    "symbols = worst.ticker.to_list()\n",
    "prices = yf.download(symbols, start=2024)[\"Close\"].iloc[-1]\n",
    "symbols = [s for s in symbols if not np.isnan(prices[s])]\n",
    "for symbol in symbols:\n",
    "    price = prices[symbol]\n",
    "    qty = - int(dollars / price)\n",
    "    qty -= positions[symbol] if symbol in positions else 0\n",
    "    if qty != 0:\n",
    "        try:\n",
    "            order = MarketOrderRequest(\n",
    "                symbol=symbol,\n",
    "                qty=abs(qty),\n",
    "                side=OrderSide.BUY if qty>0 else OrderSide.SELL,\n",
    "                time_in_force=TimeInForce.DAY\n",
    "            )\n",
    "            _ = trading_client.submit_order(order)\n",
    "        except Exception as error:\n",
    "            print(\"An error occurred:\", error)"
   ]
  },
  {
   "attachments": {},
   "cell_type": "markdown",
   "metadata": {
    "slideshow": {
     "slide_type": "slide"
    }
   },
   "source": [
    "### Save data"
   ]
  },
  {
   "cell_type": "code",
   "execution_count": 27,
   "metadata": {
    "slideshow": {
     "slide_type": "slide"
    }
   },
   "outputs": [],
   "source": [
    "today = datetime.strftime(datetime.today(), \"%Y-%m-%d\")\n",
    "account = trading_client.get_account()\n",
    "equity = float(account.equity)\n",
    "if os.path.isfile(\"equity.csv\"):\n",
    "    d = pd.read_csv(\"equity.csv\", index_col=\"date\")\n",
    "    d.loc[today] = equity \n",
    "else: \n",
    "    d = pd.Series({today: equity})\n",
    "    d.name = \"equity\" \n",
    "    d.index.name = \"date\"\n",
    "d.to_csv(\"equity.csv\")"
   ]
  },
  {
   "cell_type": "code",
   "execution_count": null,
   "metadata": {
    "slideshow": {
     "slide_type": "slide"
    }
   },
   "outputs": [],
   "source": [
    "positions = trading_client.get_all_positions()\n",
    "d = pd.DataFrame([x.qty for x in positions], index=[x.symbol for x in positions], columns=[\"shares\"])\n",
    "d[\"date\"] = today\n",
    "d.index.name = \"symbol\"\n",
    "d = d.reset_index()\n",
    "if os.path.isfile(\"positions.csv\"):\n",
    "    d0 = pd.read_csv(\"equity.csv\")\n",
    "    d = pd.concat((d0, d))\n",
    "d.to_csv(\"positions.csv\", index=False)"
   ]
  }
 ],
 "metadata": {
  "kernelspec": {
   "display_name": "venv",
   "language": "python",
   "name": "python3"
  },
  "language_info": {
   "codemirror_mode": {
    "name": "ipython",
    "version": 3
   },
   "file_extension": ".py",
   "mimetype": "text/x-python",
   "name": "python",
   "nbconvert_exporter": "python",
   "pygments_lexer": "ipython3",
   "version": "3.10.11"
  },
  "orig_nbformat": 4,
  "vscode": {
   "interpreter": {
    "hash": "24514d992635106b0c080fe619fc409ba929c1b95321a4abd0f8c840fea2ec36"
   }
  }
 },
 "nbformat": 4,
 "nbformat_minor": 2
}
