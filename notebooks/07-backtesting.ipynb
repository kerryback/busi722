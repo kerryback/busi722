{
 "cells": [
  {
   "cell_type": "markdown",
   "metadata": {
    "slideshow": {
     "slide_type": "slide"
    }
   },
   "source": [
    "# Backtesting\n",
    "\n",
    "### BUSI 722: Data-Driven Finance II\n",
    "### Kerry Back, Rice University"
   ]
  },
  {
   "cell_type": "code",
   "execution_count": 4,
   "metadata": {"slideshow": {"slide_type": "slide"}},
   "outputs": [],
   "source": [
    "import numpy as np\n",
    "import pandas as pd\n",
    "from sqlalchemy import create_engine\n",
    "from sklearn.ensemble import RandomForestRegressor\n",
    "import matplotlib.pyplot as plt \n",
    "import seaborn as sns \n",
    "sns.set_style(\"whitegrid\")"
   ]
  },
  {
   "cell_type": "markdown",
   "metadata": {"slideshow": {"slide_type": "slide"}},
   "source": [
    "## Create dataset of returns and features\n",
    "\n",
    "- Do some preprocessing of target variable\n",
    "  - target1 = return in excess of median each week: takes out market returns which are hard to predict\n",
    "  - target2 = percentile of return each week (0=worst, 100=best): takes out market returns and reduces effect of outliers\n",
    "- When evaluating performance (testing), use actual returns."
   ]
  },
  {
   "cell_type": "code",
   "execution_count": 5,
   "metadata": {"slideshow": {"slide_type": "slide"}},
   "outputs": [],
   "source": [
    "server = 'fs.rice.edu'\n",
    "database = 'stocks'\n",
    "username = 'stocks'\n",
    "password = '6LAZH1'\n",
    "driver = 'SQL+Server'\n",
    "string = f\"mssql+pyodbc://{username}:{password}@{server}/{database}\" \n",
    "try: \n",
    "    conn = create_engine(string + \"?driver='SQL+Server'\").connect()\n",
    "except:\n",
    "    try:\n",
    "        conn = create_engine(string + \"?driver='ODBC+Driver+18+for+SQL+Server'\").connect()\n",
    "    except:\n",
    "        import pymssql\n",
    "        string = f\"mssql+pymssql://{username}:{password}@{server}/{database}\"   \n",
    "        conn = create_engine(string).connect() "
   ]
  },
  {
   "cell_type": "code",
   "execution_count": 6,
   "metadata": {"slideshow": {"slide_type": "slide"}},
   "outputs": [],
   "source": [
    "sep_weekly = pd.read_sql(\n",
    "    \"\"\" \n",
    "    select date, ticker, closeadj, closeunadj, volume, lastupdated from sep_weekly \n",
    "    where date >= '2010-01-01'\n",
    "    order by ticker, date, lastupdated    \n",
    "    \"\"\",\n",
    "    conn,\n",
    ")\n",
    "sep_weekly = sep_weekly.groupby([\"ticker\", \"date\"]).last()\n",
    "sep_weekly = sep_weekly.drop(columns=[\"lastupdated\"])\n",
    "\n",
    "ret = sep_weekly.groupby(\"ticker\", group_keys=False).closeadj.pct_change()\n",
    "ret.name = \"ret\"\n",
    "\n",
    "price = sep_weekly.closeunadj\n",
    "price.name = \"price\"\n",
    "\n",
    "volume = sep_weekly.volume \n",
    "volume.name = \"volume\""
   ]
  },
  {
   "cell_type": "code",
   "execution_count": 7,
   "metadata": {"slideshow": {"slide_type": "slide"}},
   "outputs": [],
   "source": [
    "ret_annual = sep_weekly.groupby(\"ticker\", group_keys=False).closeadj.pct_change(52)\n",
    "ret_monthly = sep_weekly.groupby(\"ticker\", group_keys=False).closeadj.pct_change(4)\n",
    "mom = (1 + ret_annual) / (1 + ret_monthly) - 1\n",
    "mom.name = \"mom\""
   ]
  },
  {
   "cell_type": "code",
   "execution_count": 8,
   "metadata": {"slideshow": {"slide_type": "slide"}},
   "outputs": [],
   "source": [
    "weekly = pd.read_sql(\n",
    "    \"\"\" \n",
    "    select date, ticker, pb, marketcap, lastupdated from weekly \n",
    "    where date>='2010-01-01'\n",
    "    order by ticker, date, lastupdated    \n",
    "    \"\"\",\n",
    "    conn,\n",
    ")\n",
    "weekly = weekly.groupby([\"ticker\", \"date\"]).last()\n",
    "weekly = weekly.drop(columns=[\"lastupdated\"])\n",
    "\n",
    "pb = weekly.pb\n",
    "pb.name = \"pb\" \n",
    "marketcap = weekly.marketcap \n",
    "marketcap.name = \"marketcap\""
   ]
  },
  {
   "cell_type": "code",
   "execution_count": 9,
   "metadata": {"slideshow": {"slide_type": "slide"}},
   "outputs": [],
   "source": [
    "sf1 = pd.read_sql(\n",
    "    \"\"\" \n",
    "    select datekey as date, ticker, assets, netinc, equity, lastupdated from sf1\n",
    "    where datekey>='2010-01-01' and dimension='ARY' and assets>0 and equity>0\n",
    "    order by ticker, datekey, lastupdated    \n",
    "    \"\"\",\n",
    "    conn,\n",
    ")\n",
    "sf1 = sf1.groupby([\"ticker\", \"date\"]).last()\n",
    "sf1 = sf1.drop(columns=[\"lastupdated\"])\n",
    "\n",
    "# change dates to Fridays\n",
    "from datetime import timedelta \n",
    "sf1 = sf1.reset_index()\n",
    "sf1.date =sf1.date.map(\n",
    "    lambda x: x + timedelta(4 - x.weekday())\n",
    ")\n",
    "sf1 = sf1.set_index([\"ticker\", \"date\"])\n",
    "sf1 = sf1[~sf1.index.duplicated()]\n",
    "\n",
    "assets = sf1.assets\n",
    "assets.name = \"assets\" \n",
    "netinc = sf1.netinc \n",
    "netinc.name = \"netinc\" \n",
    "equity = sf1.equity\n",
    "equity.name = \"equity\"\n",
    "\n",
    "equity = equity.groupby(\"ticker\", group_keys=False).shift() \n",
    "roe = netinc / equity \n",
    "roe.name = \"roe\"\n",
    "\n",
    "assetgr = assets.groupby(\"ticker\", group_keys=False).pct_change()\n",
    "assetgr.name = \"assetgr\""
   ]
  },
  {
   "cell_type": "code",
   "execution_count": 43,
   "metadata": {"slideshow": {"slide_type": "slide"}},
   "outputs": [],
   "source": [
    "df = pd.concat(\n",
    "    (\n",
    "        ret, \n",
    "        mom, \n",
    "        volume,\n",
    "        price, \n",
    "        pb, \n",
    "        marketcap, \n",
    "        roe, \n",
    "        assetgr\n",
    "        ), \n",
    "        axis=1\n",
    "    )\n",
    "df[\"ret\"] = df.groupby(\"ticker\", group_keys=False).ret.shift(-1)\n",
    "df[\"roe\"] = df.groupby(\"ticker\", group_keys=False).roe.ffill()\n",
    "df[\"assetgr\"] = df.groupby(\"ticker\", group_keys=False).assetgr.ffill()\n",
    "df = df[df.price >= 5]\n",
    "df = df.dropna()\n",
    "\n",
    "df = df.reset_index()\n",
    "df.date = df.date.astype(str)\n",
    "df = df[df.date >= \"2012-01-01\"]\n",
    "\n",
    "df[\"target1\"] = df.groupby(\"date\", group_keys=False).ret.apply(\n",
    "    lambda x: x - x.median()\n",
    ")\n",
    "df[\"target2\"] = df.groupby(\"date\", group_keys=False).ret.apply(\n",
    "    lambda x: 100*x.rank(pct=True)\n",
    ")"
   ]
  },
  {
   "cell_type": "markdown",
   "metadata": {"slideshow": {"slide_type": "slide"}},
   "source": [
    "## Train and predict\n",
    "\n",
    "- Train periodically \n",
    "- Use trained model to predict until next training date\n",
    "- First set backtest parameters and model\n",
    "- Then run loop"
   ]
  },
  {
   "cell_type": "code",
   "execution_count": 44,
   "metadata": {"slideshow": {"slide_type": "slide"}},
   "outputs": [],
   "source": [
    "train_years = 5 # num years of past data to use for training\n",
    "train_freq = 3  # num years between training \n",
    "target = \"target2\"\n",
    "features = [\n",
    "    \"mom\",\n",
    "    \"volume\",\n",
    "    \"pb\",\n",
    "    \"marketcap\",\n",
    "    \"roe\",\n",
    "    \"assetgr\" \n",
    "]\n",
    "model = RandomForestRegressor(max_depth=3)"
   ]
  },
  {
   "cell_type": "code",
   "execution_count": 45,
   "metadata": {"slideshow": {"slide_type": "slide"}},
   "outputs": [
    {
     "name": "stdout",
     "output_type": "stream",
     "text": [
      "2017\n",
      "2020\n",
      "2023\n"
     ]
    },
    {
     "data": {
      "text/html": [
       "<div>\n",
       "<style scoped>\n",
       "    .dataframe tbody tr th:only-of-type {\n",
       "        vertical-align: middle;\n",
       "    }\n",
       "\n",
       "    .dataframe tbody tr th {\n",
       "        vertical-align: top;\n",
       "    }\n",
       "\n",
       "    .dataframe thead th {\n",
       "        text-align: right;\n",
       "    }\n",
       "</style>\n",
       "<table border=\"1\" class=\"dataframe\">\n",
       "  <thead>\n",
       "    <tr style=\"text-align: right;\">\n",
       "      <th></th>\n",
       "      <th>ticker</th>\n",
       "      <th>date</th>\n",
       "      <th>ret</th>\n",
       "      <th>mom</th>\n",
       "      <th>volume</th>\n",
       "      <th>price</th>\n",
       "      <th>pb</th>\n",
       "      <th>marketcap</th>\n",
       "      <th>roe</th>\n",
       "      <th>assetgr</th>\n",
       "      <th>target1</th>\n",
       "      <th>target2</th>\n",
       "      <th>predict</th>\n",
       "    </tr>\n",
       "  </thead>\n",
       "  <tbody>\n",
       "    <tr>\n",
       "      <th>264</th>\n",
       "      <td>A</td>\n",
       "      <td>2017-01-06</td>\n",
       "      <td>0.058225</td>\n",
       "      <td>0.103020</td>\n",
       "      <td>1987059.0</td>\n",
       "      <td>46.54</td>\n",
       "      <td>3.5</td>\n",
       "      <td>14958.1</td>\n",
       "      <td>0.110871</td>\n",
       "      <td>0.043188</td>\n",
       "      <td>0.063320</td>\n",
       "      <td>93.587302</td>\n",
       "      <td>50.563231</td>\n",
       "    </tr>\n",
       "    <tr>\n",
       "      <th>265</th>\n",
       "      <td>A</td>\n",
       "      <td>2017-01-13</td>\n",
       "      <td>-0.032696</td>\n",
       "      <td>0.225752</td>\n",
       "      <td>2921216.8</td>\n",
       "      <td>49.25</td>\n",
       "      <td>3.7</td>\n",
       "      <td>15488.9</td>\n",
       "      <td>0.110871</td>\n",
       "      <td>0.043188</td>\n",
       "      <td>-0.031126</td>\n",
       "      <td>16.597905</td>\n",
       "      <td>50.563231</td>\n",
       "    </tr>\n",
       "    <tr>\n",
       "      <th>266</th>\n",
       "      <td>A</td>\n",
       "      <td>2017-01-20</td>\n",
       "      <td>-0.006091</td>\n",
       "      <td>0.252036</td>\n",
       "      <td>1627698.5</td>\n",
       "      <td>47.64</td>\n",
       "      <td>3.7</td>\n",
       "      <td>15546.9</td>\n",
       "      <td>0.110871</td>\n",
       "      <td>0.043188</td>\n",
       "      <td>-0.006091</td>\n",
       "      <td>38.984127</td>\n",
       "      <td>50.563231</td>\n",
       "    </tr>\n",
       "    <tr>\n",
       "      <th>267</th>\n",
       "      <td>A</td>\n",
       "      <td>2017-01-27</td>\n",
       "      <td>0.034231</td>\n",
       "      <td>0.246427</td>\n",
       "      <td>2250481.0</td>\n",
       "      <td>47.35</td>\n",
       "      <td>3.6</td>\n",
       "      <td>15247.6</td>\n",
       "      <td>0.110871</td>\n",
       "      <td>0.043188</td>\n",
       "      <td>0.034231</td>\n",
       "      <td>85.168682</td>\n",
       "      <td>50.563231</td>\n",
       "    </tr>\n",
       "    <tr>\n",
       "      <th>268</th>\n",
       "      <td>A</td>\n",
       "      <td>2017-02-03</td>\n",
       "      <td>0.006120</td>\n",
       "      <td>0.248196</td>\n",
       "      <td>1921616.6</td>\n",
       "      <td>48.97</td>\n",
       "      <td>3.6</td>\n",
       "      <td>15337.7</td>\n",
       "      <td>0.110871</td>\n",
       "      <td>0.043188</td>\n",
       "      <td>0.000004</td>\n",
       "      <td>50.047755</td>\n",
       "      <td>50.563231</td>\n",
       "    </tr>\n",
       "  </tbody>\n",
       "</table>\n",
       "</div>"
      ],
      "text/plain": [
       "    ticker        date       ret       mom     volume  price   pb  marketcap  \\\n",
       "264      A  2017-01-06  0.058225  0.103020  1987059.0  46.54  3.5    14958.1   \n",
       "265      A  2017-01-13 -0.032696  0.225752  2921216.8  49.25  3.7    15488.9   \n",
       "266      A  2017-01-20 -0.006091  0.252036  1627698.5  47.64  3.7    15546.9   \n",
       "267      A  2017-01-27  0.034231  0.246427  2250481.0  47.35  3.6    15247.6   \n",
       "268      A  2017-02-03  0.006120  0.248196  1921616.6  48.97  3.6    15337.7   \n",
       "\n",
       "          roe   assetgr   target1    target2    predict  \n",
       "264  0.110871  0.043188  0.063320  93.587302  50.563231  \n",
       "265  0.110871  0.043188 -0.031126  16.597905  50.563231  \n",
       "266  0.110871  0.043188 -0.006091  38.984127  50.563231  \n",
       "267  0.110871  0.043188  0.034231  85.168682  50.563231  \n",
       "268  0.110871  0.043188  0.000004  50.047755  50.563231  "
      ]
     },
     "execution_count": 45,
     "metadata": {"slideshow": {"slide_type": "slide"}},
     "output_type": "execute_result"
    }
   ],
   "source": [
    "years = range(2012+train_years, 2024, train_freq)\n",
    "df2 = None \n",
    "for i, year in enumerate(years):\n",
    "    print(year)\n",
    "    start_train = f\"{year-train_years}-01-01\"\n",
    "    start_predict = f\"{year}-01-01\"\n",
    "    if year == years[-1]:\n",
    "        stop_predict = \"2100-01-01\"\n",
    "    else:\n",
    "        stop_predict = f\"{years[i+1]}-01-01\"\n",
    "    past = df[(df.date >= start_train) & (df.date < start_predict)]\n",
    "    future = df[(df.date>=start_predict) & (df.date<stop_predict)].copy()\n",
    "    model.fit(X=past[features], y=past[target])\n",
    "    future[\"predict\"] = model.predict(X=future[features])\n",
    "    df2 = pd.concat((df2, future))\n",
    "\n",
    "df2.head()"
   ]
  },
  {
   "cell_type": "markdown",
   "metadata": {"slideshow": {"slide_type": "slide"}},
   "source": [
    "## Form portfolios from predictions\n",
    "\n",
    "- Equally weighted portfolio of best stocks\n",
    "- Equally weighted portfolio of worst stocks\n",
    "- Equally weighted portfolio of all stocks"
   ]
  },
  {
   "cell_type": "code",
   "execution_count": 46,
   "metadata": {"slideshow": {"slide_type": "slide"}},
   "outputs": [],
   "source": [
    "num_stocks = 50\n",
    "\n",
    "grouped = df2.groupby(\"date\", group_keys=False).predict\n",
    "starting_from_best = grouped.rank(ascending=False, method=\"first\")\n",
    "best = df2[starting_from_best <= num_stocks]\n",
    "best_rets = best.groupby(\"date\", group_keys=True).ret.mean()\n",
    "best_rets.index = pd.to_datetime(best_rets.index)\n",
    "\n",
    "starting_from_worst = grouped.rank(ascending=True, method=\"first\")\n",
    "worst = df2[starting_from_worst <= num_stocks]\n",
    "worst_rets = worst.groupby(\"date\", group_keys=True).ret.mean()\n",
    "worst_rets.index = pd.to_datetime(worst_rets.index)\n",
    "\n",
    "all_rets = df2.groupby(\"date\", group_keys=True).ret.mean()\n",
    "all_rets.index = pd.to_datetime(all_rets.index)"
   ]
  },
  {
   "cell_type": "markdown",
   "metadata": {"slideshow": {"slide_type": "slide"}},
   "source": [
    "## Plot performance\n",
    "\n",
    "- Set logy = True to get a log plot.  \n",
    "- In a log plot, the slope of a curve represents the percent change in the y variable per unit change in the x variable."
   ]
  },
  {
   "cell_type": "code",
   "execution_count": 47,
   "metadata": {"slideshow": {"slide_type": "slide"}},
   "outputs": [
    {
     "data": {
      "image/png": "[encoded data removed]",
      "text/plain": [
       "<Figure size 640x480 with 1 Axes>"
      ]
     },
     "metadata": {"slideshow": {"slide_type": "slide"}},
     "output_type": "display_data"
    }
   ],
   "source": [
    "logy = True \n",
    "\n",
    "(1+best_rets).cumprod().plot(label=\"best\", logy=logy)\n",
    "(1+worst_rets).cumprod().plot(label=\"worst\", logy=logy)\n",
    "(1+all_rets).cumprod().plot(label=\"all\", logy=logy)\n",
    "plt.legend()\n",
    "plt.show()"
   ]
  },
  {
   "cell_type": "code",
   "execution_count": 48,
   "metadata": {"slideshow": {"slide_type": "slide"}},
   "outputs": [
    {
     "data": {
      "text/plain": [
       "array([0.04270878, 0.28977603, 0.02658673, 0.18774955, 0.45211615,\n",
       "       0.00106277])"
      ]
     },
     "execution_count": 48,
     "metadata": {"slideshow": {"slide_type": "slide"}},
     "output_type": "execute_result"
    }
   ],
   "source": [
    "model.feature_importances_"
   ]
  }
 ],
 "metadata": {
  "kernelspec": {
   "display_name": "Python 3",
   "language": "python",
   "name": "python3"
  },
  "language_info": {
   "codemirror_mode": {
    "name": "ipython",
    "version": 3
   },
   "file_extension": ".py",
   "mimetype": "text/x-python",
   "name": "python",
   "nbconvert_exporter": "python",
   "pygments_lexer": "ipython3",
   "version": "3.10.11"
  }
 },
 "nbformat": 4,
 "nbformat_minor": 2
}
