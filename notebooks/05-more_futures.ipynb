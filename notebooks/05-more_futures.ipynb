{
 "cells": [
  {
   "cell_type": "markdown",
   "metadata": {
    "slideshow": {
     "slide_type": "slide"
    }
   },
   "source": [
    "# More Futures\n",
    "\n",
    "### BUSI 722: Data-Driven Finance II\n",
    "### Kerry Back, Rice University"
   ]
  },
  {
   "cell_type": "markdown",
   "metadata": {
    "slideshow": {
     "slide_type": "slide"
    }
   },
   "source": [
    "### Some cash-settled contracts\n",
    "\n",
    "- [S&P 500](https://www.cmegroup.com/markets/equities/sp/e-mini-sandp500.contractSpecs.html)\n",
    "- [Fed Funds](https://www.cmegroup.com/markets/interest-rates/stirs/30-day-federal-fund.contractSpecs.html)\n",
    "- [Crack Spread](https://www.cmegroup.com/markets/energy/refined-products/rbob-crack-spread-swap-futures.contractSpecs.html)"
   ]
  },
  {
   "cell_type": "markdown",
   "metadata": {
    "slideshow": {
     "slide_type": "slide"
    }
   },
   "source": [
    "## Slopes of Forward Curves"
   ]
  },
  {
   "cell_type": "markdown",
   "metadata": {
    "slideshow": {
     "slide_type": "slide"
    }
   },
   "source": [
    "- Forward curve (or futures curve) = futures price as a function of maturity\n",
    "- Sometimes upward sloping (prices are higher at later maturities)\n",
    "- Sometimes downward sloping (prices are lower at later maturities)\n",
    "- Why?\n",
    "- [Histories of forward curves](https://learn-investments.rice-business.org/futures-options/forward-curve)"
   ]
  },
  {
   "cell_type": "markdown",
   "metadata": {
    "slideshow": {
     "slide_type": "slide"
    }
   },
   "source": [
    "### Gold futures\n",
    "\n",
    "- Can create \"synthetic\" gold futures:\n",
    "  - borrow money, buy gold spot and store it\n",
    "  - later pay today's spot price + interest and have gold\n",
    "- Futures price should equal today's spot price + interest\n",
    "  - Anyone can create synthetic futures and sell actual futures if synthetic futures is cheaper\n",
    "  - People storing gold can \"sell\" synthetic futures and buy actual if synthetic is more expensive\n",
    "- [Gold futures prices](https://www.cmegroup.com/markets/metals/precious/gold.quotes.html#venue=globex)"
   ]
  },
  {
   "cell_type": "markdown",
   "metadata": {
    "slideshow": {
     "slide_type": "slide"
    }
   },
   "source": [
    "### Cost of carry and convenience yield\n",
    "\n",
    "- Cost of carry = cost of owning physical = foregone interest + storage costs\n",
    "- Convenience yield = benefit of owning physical = dividends and/or profits from temporary product shortages"
   ]
  },
  {
   "cell_type": "markdown",
   "metadata": {
    "slideshow": {
     "slide_type": "slide"
    }
   },
   "source": [
    "### Contango and backwardation\n",
    "\n",
    "- Contango = upward sloping forward curve (futures > spot)\n",
    "- Cost of carry > convenience yield $\\Rightarrow$ contango (like gold)\n",
    "- Backwardation = downward sloping (spot > futures)\n",
    "- Convenience yield > cost of carry $\\Rightarrow$ backwardation (like peso)"
   ]
  },
  {
   "cell_type": "markdown",
   "metadata": {
    "slideshow": {
     "slide_type": "slide"
    }
   },
   "source": [
    "### Currencies\n",
    "\n",
    "- Cost of carry for currency = U.S. interest rate\n",
    "- Convenience yield for currency = foreign interest rate\n",
    "- Foreign rate > U.S. rate $\\Rightarrow$ backwardation.  See [peso futures](https://www.cmegroup.com/markets/fx/emerging-market/mexican-peso.html#venue=globex).\n",
    "- Foreign rate < U.S. rate $\\Rightarrow$ contango.  See [euro futures](https://www.cmegroup.com/markets/fx/g10/euro-fx.quotes.html#venue=globex)."
   ]
  },
  {
   "cell_type": "markdown",
   "metadata": {
    "slideshow": {
     "slide_type": "slide"
    }
   },
   "source": [
    "### Financials\n",
    "\n",
    "- Cost of carry for financials = U.S. interest rate\n",
    "- Convenience yield = dividends (for stock index futures), coupons (for T-bond futures), ...\n",
    "- Dividends/coupons > interest rates $\\Rightarrow$ backwardation\n",
    "- Dividends/coupons < interest rates $\\Rightarrow$ contango\n",
    "- [S&P 500 futures prices](https://www.cmegroup.com/markets/equities/sp/e-mini-sandp500.quotes.html#venue=globex)"
   ]
  },
  {
   "cell_type": "markdown",
   "metadata": {
    "slideshow": {
     "slide_type": "slide"
    }
   },
   "source": [
    "### Commodities (agriculture, energy)\n",
    "\n",
    "- Commodities can have high cost of carry (storage) and sometimes high convenience yields\n",
    "- Sometimes in contango and sometimes in backwardation\n",
    "- Seasonal commodities can be in neither (cyclical)\n",
    "  - [Natural gas](https://www.cmegroup.com/markets/energy/natural-gas/natural-gas.quotes.html#venue=globex) prices high in winters\n",
    "  - Gasoline prices high in summers\n",
    "  - Agricultural high before harvest and low after harvest"
   ]
  },
  {
   "cell_type": "markdown",
   "metadata": {
    "slideshow": {
     "slide_type": "slide"
    }
   },
   "source": [
    "## Futures roll and expectations hypothesis"
   ]
  },
  {
   "cell_type": "markdown",
   "metadata": {
    "slideshow": {
     "slide_type": "slide"
    }
   },
   "source": [
    "### Futures roll\n",
    "\n",
    "- Think of the forward curve as in terms of time to maturity\n",
    "  - Futures price for 1 month to maturity, 2 months, ...\n",
    "- Suppose you buy a futures that is in contango, and the forward curve never changes.  Do you make or lose money?\n",
    "- Maybe sell contango futures and buy backwardation futures?"
   ]
  },
  {
   "cell_type": "markdown",
   "metadata": {
    "slideshow": {
     "slide_type": "slide"
    }
   },
   "source": [
    "### Illustration\n",
    "\n",
    "- Contract that is 12 months out\n",
    "- Follow the price of the contract as time passes\n",
    "- If the forward curve doesn't change, the futures price will \n",
    "  - fall in a contango market and \n",
    "  - rise in a backwardation market"
   ]
  },
  {
   "cell_type": "code",
   "execution_count": 14,
   "metadata": {
    "slideshow": {
     "slide_type": "skip"
    }
   },
   "outputs": [],
   "source": [
    "import plotly.express as px\n",
    "import pandas as pd\n",
    "import numpy as np\n",
    "\n",
    "x = np.arange(0, 24.25, 0.25)\n",
    "\n",
    "df = None \n",
    "for i in range(49):\n",
    "    y = 40 + 10 * (np.log(1 + x) - np.log(12))\n",
    "    month = (i/4)*np.ones(len(x))\n",
    "    size = np.ones(len(x))\n",
    "    size[48-i] = 10\n",
    "    d = pd.DataFrame(dict(x=x, y=y, month=month, size=size))\n",
    "    df = pd.concat((df, d))\n",
    "fig = px.scatter(df, x=\"x\", y=\"y\", animation_frame=\"month\", size=\"size\")\n",
    "fig.layout.updatemenus[0].buttons[0].args[1][\"frame\"][\"duration\"] = 75\n",
    "fig.update_layout(\n",
    "    font_size=14,\n",
    "    yaxis=dict(\n",
    "        range=(0, 80),\n",
    "        title=\"Futures Price\",\n",
    "        title_font_size=16,\n",
    "    ),\n",
    "    xaxis=dict(\n",
    "        title=\"Months to Maturity\",\n",
    "        title_font_size=16,\n",
    "        tickvals=np.arange(0, 26, 2)\n",
    "    ),\n",
    "    template=\"plotly_dark\"\n",
    ")\n",
    "fig.write_html(\"images/contango_roll.html\")\n"
   ]
  },
  {
   "cell_type": "code",
   "execution_count": 15,
   "metadata": {
    "slideshow": {
     "slide_type": "skip"
    }
   },
   "outputs": [],
   "source": [
    "df = None \n",
    "for i in range(49):\n",
    "    y = 40 - 10 * (np.log(1 + x) - np.log(12))\n",
    "    month = (i/4)*np.ones(len(x))\n",
    "    size = np.ones(len(x))\n",
    "    size[48-i] = 10\n",
    "    d = pd.DataFrame(dict(x=x, y=y, month=month, size=size))\n",
    "    df = pd.concat((df, d))\n",
    "fig = px.scatter(df, x=\"x\", y=\"y\", animation_frame=\"month\", size=\"size\")\n",
    "fig.layout.updatemenus[0].buttons[0].args[1][\"frame\"][\"duration\"] = 75\n",
    "fig.update_layout(\n",
    "    font_size=14,\n",
    "    yaxis=dict(\n",
    "        range=(0, 80),\n",
    "        title=\"Futures Price\",\n",
    "        title_font_size=16,\n",
    "    ),\n",
    "    xaxis=dict(\n",
    "        title=\"Months to Maturity\",\n",
    "        title_font_size=16,\n",
    "        tickvals=np.arange(0, 26, 2)\n",
    "    ),\n",
    "    template=\"plotly_dark\"\n",
    ")\n",
    "fig.write_html(\"images/backwardation_roll.html\")"
   ]
  },
  {
   "cell_type": "markdown",
   "metadata": {
    "slideshow": {
     "slide_type": "slide"
    }
   },
   "source": [
    "[Futures roll in a contango market](images/contango_roll.html)\n",
    "\n",
    "[Futures roll in a backwardation market](images/backwardation_roll.html)"
   ]
  },
  {
   "cell_type": "markdown",
   "metadata": {
    "slideshow": {
     "slide_type": "slide"
    }
   },
   "source": [
    "But maybe the forward curve tends to rise over time in contango markets and fall over time in backwardation markets?"
   ]
  },
  {
   "cell_type": "markdown",
   "metadata": {
    "slideshow": {
     "slide_type": "slide"
    }
   },
   "source": [
    "### Expectations hypothesis\n",
    "\n",
    "- Today's futures price should be related to the spot price people expect the asset to trade at in the future.\n",
    "  - Example: suppose we can buy December corn now at 5.00 per bushel\n",
    "  - If we expect corn to sell for 4.00 per bushel in December, then maybe we should all be selling 5.00 corn now.  Spot-futures convergence implies 1.00 profit if corn is 4.00 in December.\n",
    "  - If there are no expected profits of this sort, then we must expect corn to sell for 5.00 in December.\n",
    "- The expectations hypothesis is that the futures price represents today's expectation of the future spot price."
   ]
  },
  {
   "cell_type": "code",
   "execution_count": 16,
   "metadata": {
    "slideshow": {
     "slide_type": "skip"
    }
   },
   "outputs": [],
   "source": [
    "df = None \n",
    "for i in range(49):\n",
    "    y = 40 + 10 * (np.log(1 + i/4 + x) - np.log(12))\n",
    "    month = (i/4)*np.ones(len(x))\n",
    "    size = np.ones(len(x))\n",
    "    size[48-i] = 10\n",
    "    d = pd.DataFrame(dict(x=x, y=y, month=month, size=size))\n",
    "    df = pd.concat((df, d))\n",
    "fig = px.scatter(df, x=\"x\", y=\"y\", animation_frame=\"month\", size=\"size\")\n",
    "fig.layout.updatemenus[0].buttons[0].args[1][\"frame\"][\"duration\"] = 75\n",
    "fig.update_layout(\n",
    "    font_size=14,\n",
    "    yaxis=dict(\n",
    "        range=(0, 80),\n",
    "        title=\"Futures Price\",\n",
    "        title_font_size=16,\n",
    "    ),\n",
    "    xaxis=dict(\n",
    "        title=\"Months to Maturity\",\n",
    "        title_font_size=16,\n",
    "        tickvals=np.arange(0, 26, 2)\n",
    "    ),\n",
    "    template=\"plotly_dark\"\n",
    ")\n",
    "fig.write_html(\"images/contango_expectations.html\")"
   ]
  },
  {
   "cell_type": "code",
   "execution_count": 17,
   "metadata": {
    "slideshow": {
     "slide_type": "skip"
    }
   },
   "outputs": [],
   "source": [
    "df = None \n",
    "for i in range(49):\n",
    "    y = 40 - 10 * (np.log(1 + i/4 + x) - np.log(12))\n",
    "    month = (i/4)*np.ones(len(x))\n",
    "    size = np.ones(len(x))\n",
    "    size[48-i] = 10\n",
    "    d = pd.DataFrame(dict(x=x, y=y, month=month, size=size))\n",
    "    df = pd.concat((df, d))\n",
    "fig = px.scatter(df, x=\"x\", y=\"y\", animation_frame=\"month\", size=\"size\")\n",
    "fig.layout.updatemenus[0].buttons[0].args[1][\"frame\"][\"duration\"] = 75\n",
    "fig.update_layout(\n",
    "    font_size=14,\n",
    "    yaxis=dict(\n",
    "        range=(0, 80),\n",
    "        title=\"Futures Price\",\n",
    "        title_font_size=16,\n",
    "    ),\n",
    "    xaxis=dict(\n",
    "        title=\"Months to Maturity\",\n",
    "        title_font_size=16,\n",
    "        tickvals=np.arange(0, 26, 2)\n",
    "    ),\n",
    "    template=\"plotly_dark\"\n",
    ")\n",
    "fig.write_html(\"images/backwardation_expectations.html\")"
   ]
  },
  {
   "cell_type": "markdown",
   "metadata": {
    "slideshow": {
     "slide_type": "slide"
    }
   },
   "source": [
    "[Expectations hypothesis in a contango market](images/contango_expectations.html)\n",
    "\n",
    "[Expectations hypothesis in a backwardation market](images/backwardation_expectations.html)"
   ]
  },
  {
   "cell_type": "markdown",
   "metadata": {
    "slideshow": {
     "slide_type": "slide"
    }
   },
   "source": [
    "- But there could be risk premia.\n",
    "- Example: more corn hedging by farmers than by grain processors\n",
    "  - Speculators are needed to buy corn futures from farmers\n",
    "  - Expect compensation for risk\n",
    "  - Implies futures price < expected future spot"
   ]
  },
  {
   "cell_type": "markdown",
   "metadata": {
    "slideshow": {
     "slide_type": "slide"
    }
   },
   "source": [
    "### Currencies\n",
    "\n",
    "- The data indicate that selling contango currency futures and buying backwardation currency futures is profitable on average.\n",
    "  - Long futures $\\sim$ long synthetic futures = borrowing dollars and buying currency\n",
    "  - Short futures $\\sim$ short synthetic futures = borrowing foreign currency and buying dollars\n",
    "- Selling contango futures means selling (borrowing) high interest rate or low interest rate currencies?\n",
    "- Buying backwardation means buying (investing in) high interest rate or low interest rate currencies?"
   ]
  },
  {
   "cell_type": "markdown",
   "metadata": {
    "slideshow": {
     "slide_type": "slide"
    }
   },
   "source": [
    "## Futures-based ETFs"
   ]
  },
  {
   "cell_type": "markdown",
   "metadata": {
    "slideshow": {
     "slide_type": "slide"
    }
   },
   "source": [
    "- You can buy or sell futures through a stock broker by buying ETFs.\n",
    "- Example: USO holds oil futures\n",
    "- To set up a 100 million dollar ETF:\n",
    "  - Raise 100 million cash.  \n",
    "  - Buy (or sell) enough futures contracts so that #contracts $\\times$ futures price = 100 million\n",
    "  - Deposit 10 million as T-bills for margin\n",
    "  - Buy other higher yielding liquid safe assets with other 90 million\n",
    "  - Gain/loss each day = 100 million x (% change in futures price + interest)."
   ]
  },
  {
   "cell_type": "code",
   "execution_count": 18,
   "metadata": {
    "slideshow": {
     "slide_type": "slide"
    }
   },
   "outputs": [],
   "source": [
    "import pandas as pd\n",
    "from pandas_datareader import DataReader as pdr\n",
    "import yfinance as yf\n",
    "import matplotlib.pyplot as plt\n",
    "import seaborn as sns\n",
    "sns.set_style(\"whitegrid\")\n",
    "\n",
    "spot = pdr(\"DCOILWTICO\", \"fred\", start=1990)\n",
    "uso = yf.download(\"USO\", start=1970, progress=False)[\"Adj Close\"]\n",
    "spot = spot.reindex(uso.index)"
   ]
  },
  {
   "cell_type": "markdown",
   "metadata": {
    "slideshow": {
     "slide_type": "slide"
    }
   },
   "source": [
    "### Spot (front month futures) price of oil"
   ]
  },
  {
   "cell_type": "code",
   "execution_count": 19,
   "metadata": {
    "slideshow": {
     "slide_type": "slide"
    }
   },
   "outputs": [
    {
     "data": {
      "image/png": "[encoded data removed]",
      "text/plain": [
       "<Figure size 640x480 with 1 Axes>"
      ]
     },
     "metadata": {
      "slideshow": {
       "slide_type": "slide"
      }
     },
     "output_type": "display_data"
    }
   ],
   "source": [
    "plt.plot(spot)\n",
    "plt.show()"
   ]
  },
  {
   "cell_type": "markdown",
   "metadata": {
    "slideshow": {
     "slide_type": "slide"
    }
   },
   "source": [
    "### Comparing oil prices to USO returns\n",
    "\n",
    "- Calculate what 1 dollar of oil in 2006 is worth now \n",
    "- Calculate what 1 dollar in USO in 2006 would have grown to"
   ]
  },
  {
   "cell_type": "code",
   "execution_count": 20,
   "metadata": {
    "slideshow": {
     "slide_type": "slide"
    }
   },
   "outputs": [
    {
     "data": {
      "image/png": "[encoded data removed]",
      "text/plain": [
       "<Figure size 640x480 with 1 Axes>"
      ]
     },
     "metadata": {
      "slideshow": {
       "slide_type": "slide"
      }
     },
     "output_type": "display_data"
    }
   ],
   "source": [
    "spot = spot/spot.iloc[0]\n",
    "uso = uso/uso.iloc[0]\n",
    "plt.plot(spot, label=\"Spot\")\n",
    "plt.plot(uso, label=\"USO\")\n",
    "plt.ylabel(\"Value per 2006 $\")\n",
    "plt.legend()\n",
    "plt.show()"
   ]
  },
  {
   "cell_type": "markdown",
   "metadata": {
    "slideshow": {
     "slide_type": "slide"
    }
   },
   "source": [
    "\n",
    "\n",
    "\n",
    "\n",
    "\n",
    "\n",
    "\n",
    "\n",
    "# Futures returns vs spot prices\n",
    "\n",
    "## Spot price of crude from EIA\n",
    "\n",
    ". . .\n",
    "\n",
    "```{python}\n",
    "import pandas as pd\n",
    "import plotly.graph_objects as go\n",
    "import plotly.express as px\n",
    "import yfinance as yf\n",
    "import numpy as np\n",
    "```\n",
    "\n",
    "\n",
    "```{python}\n",
    "df = pd.read_excel(\n",
    "    \"files/PET_PRI_SPT_S1_D.xls\", \n",
    "    sheet_name=\"Data 1\",\n",
    "    skiprows=9,\n",
    "    header=None,\n",
    "    parse_dates=[0])\n",
    "df.columns=['date', 'wti', 'brent']\n",
    "```\n",
    "\n",
    "```{python}\n",
    "trace = go.Scatter(\n",
    "  x=df.date,\n",
    "  y=df.wti,\n",
    "  mode=\"lines\",\n",
    "  hovertemplate=\"%{x}<br>$%{y:.2f}\"\n",
    ")\n",
    "fig = go.Figure(trace)\n",
    "\n",
    "fig.update_yaxes(tickformat=\".2f\", title = \"Spot WTI\", tickprefix=\"$\")\n",
    "fig.update_xaxes(title=\"Date\")\n",
    "fig.layout.template = \"simple_white\"\n",
    "fig.update_layout(margin=dict(l=25, r=25, t=40, b=25))\n",
    "fig.update_xaxes(title_font_size=18, showgrid=True)\n",
    "fig.update_yaxes(title_font_size=18, showgrid=True)\n",
    "fig.update_layout(font_size=18, width=1000)\n",
    "fig.show()\n",
    "```\n",
    "\n",
    "## USO\n",
    "\n",
    "- crude oil ETF\n",
    "- holds futures contracts\n",
    "- [Yahoo Finance](https://finance.yahoo.com/quote/USO/holdings?p=USO)\n",
    "\n",
    "## History of USO\n",
    "\n",
    ". . .\n",
    "\n",
    "```{python}\n",
    "uso = yf.download(\"USO\", start=\"1970-01-01\", progress=False).reset_index()\n",
    "uso.Date = pd.to_datetime(uso.Date)\n",
    "```\n",
    "\n",
    "```{python}\n",
    "trace = go.Scatter(\n",
    "  x=uso.Date,\n",
    "  y=uso.Close,\n",
    "  hovertemplate=\"%{x}<br>$%{y:.2f}\"\n",
    ")\n",
    "fig = go.Figure(trace)\n",
    "\n",
    "fig.update_yaxes(tickformat=\".2f\", title=\"USO\", tickprefix=\"$\")\n",
    "fig.update_xaxes(title=\"Date\")\n",
    "fig.layout.template = \"simple_white\"\n",
    "fig.update_layout(margin=dict(l=25, r=25, t=40, b=25))\n",
    "fig.update_xaxes(title_font_size=18, showgrid=True)\n",
    "fig.update_yaxes(title_font_size=18, showgrid=True)\n",
    "fig.update_layout(font_size=18, width=1000)\n",
    "fig.show()\n",
    "```\n",
    "\n",
    "## Normalized histories \n",
    "\n",
    ". . .\n",
    "\n",
    "```{python}\n",
    "uso.Date = [x.strftime(\"%Y-%m-%d\") for x in uso.Date]\n",
    "df.date = df.date.astype(str)\n",
    "\n",
    "df = df.merge(uso, left_on=\"date\", right_on=\"Date\")\n",
    "df[\"spot\"] = df.wti / df.wti.iloc[0]\n",
    "df[\"uso\"] = df.Close / df.Close.iloc[0]\n",
    "```\n",
    "\n",
    "```{python}\n",
    "trace1 = go.Scatter(\n",
    "  x=df.date,\n",
    "  y=df.spot,\n",
    "  name=\"Spot\",\n",
    "  hovertemplate='$%{y:.2f}<extra></extra>'\n",
    ")\n",
    "trace2 = go.Scatter(\n",
    "  x=df.date,\n",
    "  y=df.uso,\n",
    "  name=\"USO\",\n",
    "  hovertemplate='$%{y:.2f}<extra></extra>'\n",
    ")\n",
    "fig = go.Figure()\n",
    "for trace in [trace1, trace2]:\n",
    "  fig.add_trace(trace)\n",
    "fig.update_yaxes(tickformat=\".2f\", title=\"Values Starting from $1\", tickprefix=\"$\")\n",
    "fig.update_xaxes(title=\"Date\")\n",
    "fig.layout.template = \"simple_white\"\n",
    "fig.update_layout(margin=dict(l=25, r=25, t=40, b=25))\n",
    "fig.update_xaxes(title_font_size=18, showgrid=True)\n",
    "fig.update_yaxes(title_font_size=18, showgrid=True)\n",
    "fig.update_layout(font_size=18)\n",
    "fig.update_layout(hovermode=\"x unified\", width=1000)\n",
    "fig.show()\n",
    "```\n",
    "\n",
    "## Forward Curves\n",
    "\n",
    "\n",
    "```{python}\n",
    "df = pd.read_csv(\"files/crude_futures_monthly.csv\")\n",
    "df = df[(df.date>=\"2006-03-01\")&(df.days<=365)]\n",
    "df = df.sort_values(by=[\"date\", \"days\"])\n",
    "import plotly.express as px\n",
    "fig = px.line(\n",
    "  df,\n",
    "  x=\"days\",\n",
    "  y=\"settle\",\n",
    "  animation_frame=\"date\",\n",
    ")\n",
    "fig.layout.updatemenus[0].buttons[0].args[1][\"frame\"][\"duration\"] = 200\n",
    "fig.update_yaxes(range=[0.99*df.settle.min(), 1.01*df.settle.max()])\n",
    "fig.update_xaxes(range=[0, df.days.max()])\n",
    "fig.update_yaxes(tickformat=\".0f\", title=\"WTI Futures Settle\")\n",
    "fig.update_xaxes(title=\"Days to Maturity\")\n",
    "fig.layout.template = \"simple_white\"\n",
    "fig.update_layout(margin=dict(l=25, r=25, t=40, b=25))\n",
    "fig.update_xaxes(title_font_size=18, showgrid=True)\n",
    "fig.update_yaxes(title_font_size=18, showgrid=True)\n",
    "fig.update_layout(font_size=18, width=1000)\n",
    "```\n",
    "\n",
    "# Levered Index ETFs\n",
    "\n",
    "## \n",
    "\n",
    "- Examples: SPXL, SPXS (L=Long, S=Short) are 3x levered\n",
    "- Each day hold futures contracts (long or short) with\n",
    "\n",
    ". . .\n",
    "\n",
    "$$\\text{# contracts}\\times \\text{contract size} \\times  \\text{futures price}$$\n",
    "$$= 3 \\times \\text{fund equity}$$\n",
    "\n",
    "\n",
    "## Daily SPXL returns versus daily SPY returns\n",
    "\n",
    ". . .\n",
    "\n",
    "```{python}\n",
    "df = yf.download((\"SPY\", \"SPXL\", \"SPXS\"), start=\"1970-01-01\", progress=False)[\"Adj Close\"].dropna()\n",
    "rets = df.pct_change().reset_index()\n",
    "df = df.reset_index()\n",
    "```\n",
    "\n",
    "```{python}\n",
    "fig = px.scatter(\n",
    "  rets,\n",
    "  x=\"SPY\",\n",
    "  y=\"SPXL\",\n",
    "  trendline=\"ols\",\n",
    "  hover_name=\"Date\"\n",
    ")\n",
    "fig.update_yaxes(tickformat=\".1%\", title=\"SPXL Return\")\n",
    "fig.update_xaxes(tickformat=\".1%\", title=\"SPY Return\")\n",
    "fig.layout.template = \"simple_white\"\n",
    "fig.update_layout(margin=dict(l=25, r=25, t=40, b=25))\n",
    "fig.update_xaxes(title_font_size=18, showgrid=True)\n",
    "fig.update_yaxes(title_font_size=18, showgrid=True)\n",
    "fig.update_layout(font_size=18, width=1000)\n",
    "fig.show()\n",
    "```\n",
    "\n",
    "## Daily SPXS returns versus daily SPY returns\n",
    "\n",
    ". . .\n",
    "\n",
    "```{python}\n",
    "fig = px.scatter(\n",
    "  rets,\n",
    "  x=\"SPY\",\n",
    "  y=\"SPXS\",\n",
    "  trendline=\"ols\",\n",
    "  hover_name=\"Date\"\n",
    ")\n",
    "fig.update_yaxes(tickformat=\".1%\", title=\"SPXS Return\")\n",
    "fig.update_xaxes(tickformat=\".1%\", title=\"SPY Return\")\n",
    "fig.layout.template = \"simple_white\"\n",
    "fig.update_layout(margin=dict(l=25, r=25, t=40, b=25))\n",
    "fig.update_xaxes(title_font_size=18, showgrid=True)\n",
    "fig.update_yaxes(title_font_size=18, showgrid=True)\n",
    "fig.update_layout(font_size=18, width=1000)\n",
    "fig.show()\n",
    "```\n",
    "\n",
    "\n",
    "## SPXL\n",
    "\n",
    ". . .\n",
    "\n",
    "```{python}\n",
    "trace = go.Scatter(\n",
    "  x=df.Date,\n",
    "  y=df.SPXL,\n",
    "  name=\"SPXL\",\n",
    "  hovertemplate=\"SPXL = $%{y:.2f}<extra></extra>\"\n",
    ")\n",
    "fig = go.Figure(trace)\n",
    "\n",
    "fig.update_yaxes(tickformat=\".0f\", title=\"SPXL Adj Close\", tickprefix=\"$\")\n",
    "fig.update_xaxes(title=\"Date\")\n",
    "fig.layout.template = \"simple_white\"\n",
    "fig.update_layout(margin=dict(l=25, r=25, t=40, b=25))\n",
    "fig.update_xaxes(title_font_size=18, showgrid=True)\n",
    "fig.update_yaxes(title_font_size=18, showgrid=True)\n",
    "fig.update_layout(font_size=18, width=1000, hovermode=\"x unified\", showlegend=False)\n",
    "fig.show()\n",
    "```\n",
    "\n",
    "## SPXS\n",
    "\n",
    ". . .\n",
    "\n",
    "```{python}\n",
    "trace = go.Scatter(\n",
    "  x=df.Date,\n",
    "  y=df.SPXS,\n",
    "  name=\"SPXS\",\n",
    "  hovertemplate=\"SPXS = $%{y:.2f}<extra></extra>\"\n",
    ")\n",
    "fig = go.Figure(trace)\n",
    "\n",
    "fig.update_yaxes(tickformat=\".0f\", title=\"SPXS Adj Close\", tickprefix=\"$\")\n",
    "fig.update_xaxes(title=\"Date\")\n",
    "fig.layout.template = \"simple_white\"\n",
    "fig.update_layout(margin=dict(l=25, r=25, t=40, b=25))\n",
    "fig.update_xaxes(title_font_size=18, showgrid=True)\n",
    "fig.update_yaxes(title_font_size=18, showgrid=True)\n",
    "fig.update_layout(font_size=18, width=1000, hovermode=\"x unified\", showlegend=False)\n",
    "fig.show()\n",
    "```\n",
    "\n",
    "## Cumulative returns\n",
    "\n",
    ". . .\n",
    "\n",
    "```{python}\n",
    "for col in [\"SPY\", \"SPXL\", \"SPXS\"]:\n",
    "  df[col] = df[col] / df[col].iloc[0]\n",
    "\n",
    "traces = []\n",
    "trace = go.Scatter(\n",
    "  x=df.Date,\n",
    "  y=df.SPY,\n",
    "  name=\"SPY\",\n",
    "  hovertemplate=\"SPY = $%{y:.2f}<extra></extra>\"\n",
    ")\n",
    "traces.append(trace)\n",
    "\n",
    "trace = go.Scatter(\n",
    "  x=df.Date,\n",
    "  y=df.SPXL,\n",
    "  name=\"SPXL\",\n",
    "  hovertemplate=\"SPXL = $%{y:.2f}<extra></extra>\"\n",
    ")\n",
    "traces.append(trace)\n",
    "\n",
    "trace = go.Scatter(\n",
    "  x=df.Date,\n",
    "  y=df.SPXS,\n",
    "  name=\"SPXS\",\n",
    "  hovertemplate=\"SPXS = $%{y:.4f}<extra></extra>\"\n",
    ")\n",
    "traces.append(trace)\n",
    "\n",
    "fig = go.Figure()\n",
    "for trace in traces:\n",
    "  fig.add_trace(trace)\n",
    "\n",
    "fig.update_yaxes(tickformat=\".0f\", title=\"Accumulation\", tickprefix=\"$\")\n",
    "fig.update_xaxes(title=\"Date\")\n",
    "fig.layout.template = \"simple_white\"\n",
    "fig.update_layout(margin=dict(l=25, r=25, t=40, b=25))\n",
    "fig.update_xaxes(title_font_size=18, showgrid=True)\n",
    "fig.update_yaxes(title_font_size=18, showgrid=True)\n",
    "fig.update_layout(font_size=18, width=1000, hovermode=\"x unified\")\n",
    "fig.show()\n",
    "```\n",
    "\n",
    "## Cumulative returns (log scale)\n",
    "\n",
    ". . .\n",
    "\n",
    "```{python}\n",
    "traces = []\n",
    "trace = go.Scatter(\n",
    "  x=df.Date,\n",
    "  y=df.SPY,\n",
    "  name=\"SPY\",\n",
    "  hovertemplate=\"SPY = $%{y:.2f}<extra></extra>\"\n",
    ")\n",
    "traces.append(trace)\n",
    "\n",
    "trace = go.Scatter(\n",
    "  x=df.Date,\n",
    "  y=df.SPXL,\n",
    "  name=\"SPXL\",\n",
    "  hovertemplate=\"SPXL = $%{y:.2f}<extra></extra>\"\n",
    ")\n",
    "traces.append(trace)\n",
    "\n",
    "trace = go.Scatter(\n",
    "  x=df.Date,\n",
    "  y=df.SPXS,\n",
    "  name=\"SPXS\",\n",
    "  hovertemplate=\"SPXS = $%{y:.4f}<extra></extra>\"\n",
    ")\n",
    "traces.append(trace)\n",
    "\n",
    "fig = go.Figure()\n",
    "for trace in traces:\n",
    "  fig.add_trace(trace)\n",
    "\n",
    "fig.update_yaxes(tickformat=\".2f\", title=\"Accumulation\", tickprefix=\"$\")\n",
    "fig.update_xaxes(title=\"Date\")\n",
    "fig.layout.template = \"simple_white\"\n",
    "fig.update_layout(margin=dict(l=25, r=25, t=40, b=25))\n",
    "fig.update_xaxes(title_font_size=18, showgrid=True)\n",
    "fig.update_yaxes(title_font_size=18, showgrid=True, type=\"log\")\n",
    "fig.update_layout(font_size=18, width=1000, hovermode=\"x unified\")\n",
    "fig.show()\n",
    "```\n",
    "\n",
    "## Simulated SPY and SPXL returns\n",
    "\n",
    "- simulate 1,000 10-year histories of daily SPY returns\n",
    "- assume daily SPY returns are normally distributed with the historical mean and variance\n",
    "- compute daily SPXL return as 3x SPY return\n",
    "- compound returns to calculate 1,000 (SPY, SPXL) accumulations\n",
    "\n",
    "##\n",
    "\n",
    ". . .\n",
    "\n",
    "```{python}\n",
    "mn = rets.SPY.mean()\n",
    "sd = rets.SPY.std()\n",
    "n = 10*252\n",
    "\n",
    "r = np.random.normal(loc=mn, scale=sd, size=n*1000).reshape(n, 1000)\n",
    "spy = np.prod(1+r, axis=0)\n",
    "spxl = np.prod(1+3*r, axis=0)\n",
    "trace = go.Scatter(\n",
    "    x=spy,\n",
    "    y=spxl,\n",
    "    mode=\"markers\",\n",
    "    hovertemplate=\"SPY = $%{x:.2f}<br>SPXL = $%{y:.2f}<extra></extra>\"\n",
    ")\n",
    "fig = go.Figure(trace)\n",
    "fig.update_yaxes(tickformat=\",.0f\", title=\"Simulated SPXL Accumulation\", tickprefix=\"$\")\n",
    "fig.update_xaxes(tickformat=\".0f\", title=\"Simulated SPY Accumulation\", tickprefix=\"$\")\n",
    "fig.layout.template = \"simple_white\"\n",
    "fig.update_layout(margin=dict(l=25, r=25, t=40, b=25))\n",
    "fig.update_xaxes(title_font_size=18, showgrid=True)\n",
    "fig.update_yaxes(title_font_size=18, showgrid=True)\n",
    "fig.update_layout(font_size=18, width=1000)\n",
    "fig.show()\n",
    "```\n",
    "\n",
    "# Speculating on currencies\n",
    "\n",
    "## Currency speculation with futures\n",
    "\n",
    "- Consider selling currency futures that are in contango\n",
    "- If forward curve doesn't move, forward roll will produce profits\n",
    "- Likewise, buying currency futures in backwardation may be profitable\n",
    "- What may go wrong?\n",
    "  - Spot may rise for contango futures\n",
    "  - Spot may fall for backwardation futures\n",
    "\n",
    "## Currency carry trade\n",
    "\n",
    "- Borrow in low interest rate currencies\n",
    "- Invest in high interest rate currencies\n",
    "- What may go wrong?\n",
    "  - Low interest-rate currencies may appreciate\n",
    "  - High interest-rate currencies may depreciate\n",
    "\n",
    "## Equivalence\n",
    "\n",
    "- Low interest-rate $\\Leftrightarrow$ contango.  Appreciate $\\Leftrightarrow$ spot rises\n",
    "- High interest-rate $\\Leftrightarrow$ backwardation.  Depreciate $\\Leftrightarrow$ spot falls\n",
    "\n",
    "## What do the data show?\n",
    "\n",
    "- Currency carry trade has been profitable on average\n",
    "- Equivalently, selling contango futures and buying backwardation futures has been profitable on average\n",
    "\n",
    "# Futures options\n",
    "\n",
    "## \n",
    "    \n",
    "- A call option on a futures contract gives you the right to acquire a long position in the futures (buy the futures) at the option strike.\n",
    "    \n",
    "- A put option gives you the right to acquire a short position in the futures (sell the futures) at the option strike.\n",
    "\n",
    "- If you've sold an option and it is exercised, you are rolled into the opposite futures position.\n",
    "  - short futures if you sold a call\n",
    "  - long futures if you sold a put\n",
    "\n",
    "##\n",
    "\n",
    "- On the exercise date of a call, daily settlement produces a cash flow of futures_settlement_price - strike to the party who exercised and the opposite cash flow to the party who sold the call.\n",
    "\n",
    "- For a put, it is strike - futures_settlement_price.\n",
    "\n",
    "- Everyone who wants could unwind the futures position by making an offsetting trade on the day of exercise.  \n",
    "\n",
    "## Risk-neutral probability from before\n",
    "\n",
    "- If there were no risk premium, the call value would be the expected value discounted at the risk-free rate:\n",
    "\n",
    ". . .\n",
    "\n",
    "$$C = \\frac{p \\times \\text{\\$}5 + (1-p)\\times \\text{\\$}0}{1.05}$$\n",
    "\n",
    "- where $p=$ prob of positive return.  \n",
    "\n",
    "##\n",
    "\n",
    "- The stock price would also be the discounted expected value:\n",
    "\n",
    ". . .\n",
    "\n",
    "$$\\text{\\$}100 = \\frac{p \\times \\text{\\$}110 + (1-p) \\times \\text{\\$}90}{1.05}$$\n",
    "\n",
    "- - Solve the stock equation for $p$ and substitute into the call option equation.\n",
    "\n",
    "## Risk-neutral probability for futures options\n",
    "\n",
    "- The futures price would be the expected (not discounted, because no cash changes hands upon purchase/sale):\n",
    "\n",
    ". . .\n",
    "\n",
    "$$\\text{\\$}100 = p \\times \\text{\\$}110 + (1-p) \\times \\text{\\$}90$$\n",
    "\n",
    "## Calibrating binomial tree for futures option\n",
    "\n",
    "- Set $T=$ time to maturity in years of a futures option\n",
    "- Set $N=$ number of periods in a binomial model\n",
    "- Set $\\Delta t = T/N=$ period length\n",
    "- Set the up rate of return as $e^{\\sigma\\sqrt{\\Delta t}}-1$ and down rate of return as $e^{-\\sigma\\sqrt{\\Delta t}} - 1$.\n",
    "\n",
    "##\n",
    "\n",
    "- The risk-neutral probability of \"up\" is\n",
    "\n",
    ". . .\n",
    "\n",
    "$$\\frac{1 - e^{-\\sigma \\Delta t}}{e^{\\sigma \\Delta t} - e^{-\\sigma \\Delta t}}$$"
   ]
  }
 ],
 "metadata": {
  "kernelspec": {
   "display_name": "Python 3",
   "language": "python",
   "name": "python3"
  },
  "language_info": {
   "codemirror_mode": {
    "name": "ipython",
    "version": 3
   },
   "file_extension": ".py",
   "mimetype": "text/x-python",
   "name": "python",
   "nbconvert_exporter": "python",
   "pygments_lexer": "ipython3",
   "version": "3.10.11"
  }
 },
 "nbformat": 4,
 "nbformat_minor": 2
}
