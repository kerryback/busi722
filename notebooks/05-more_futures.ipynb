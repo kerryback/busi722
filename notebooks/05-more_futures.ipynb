{
 "cells": [
  {
   "cell_type": "markdown",
   "metadata": {
    "slideshow": {
     "slide_type": "slide"
    }
   },
   "source": [
    "# More Futures\n",
    "\n",
    "### BUSI 722: Data-Driven Finance II\n",
    "### Kerry Back, Rice University"
   ]
  },
  {
   "cell_type": "markdown",
   "metadata": {
    "slideshow": {
     "slide_type": "slide"
    }
   },
   "source": [
    "### Some cash-settled contracts\n",
    "\n",
    "- [S&P 500](https://www.cmegroup.com/markets/equities/sp/e-mini-sandp500.contractSpecs.html)\n",
    "- [Fed Funds](https://www.cmegroup.com/markets/interest-rates/stirs/30-day-federal-fund.contractSpecs.html)\n",
    "- [Crack Spread](https://www.cmegroup.com/markets/energy/refined-products/rbob-crack-spread-swap-futures.contractSpecs.html)"
   ]
  },
  {
   "cell_type": "markdown",
   "metadata": {
    "slideshow": {
     "slide_type": "slide"
    }
   },
   "source": [
    "## Slopes of Forward Curves"
   ]
  },
  {
   "cell_type": "markdown",
   "metadata": {
    "slideshow": {
     "slide_type": "slide"
    }
   },
   "source": [
    "- Forward curve (or futures curve) = futures price as a function of maturity\n",
    "- Sometimes upward sloping (prices are higher at later maturities)\n",
    "- Sometimes downward sloping (prices are lower at later maturities)\n",
    "- Why?\n",
    "- [Histories of forward curves](https://learn-investments.rice-business.org/futures-options/forward-curve)"
   ]
  },
  {
   "cell_type": "markdown",
   "metadata": {
    "slideshow": {
     "slide_type": "slide"
    }
   },
   "source": [
    "### Gold futures\n",
    "\n",
    "- Can create \"synthetic\" gold futures:\n",
    "  - borrow money, buy gold spot and store it\n",
    "  - later pay today's spot price + interest and have gold\n",
    "- Futures price should equal today's spot price + interest\n",
    "  - Anyone can create synthetic futures and sell actual futures if synthetic futures is cheaper\n",
    "  - People storing gold can \"sell\" synthetic futures and buy actual if synthetic is more expensive\n",
    "- [Gold futures prices](https://www.cmegroup.com/markets/metals/precious/gold.quotes.html#venue=globex)"
   ]
  },
  {
   "cell_type": "markdown",
   "metadata": {
    "slideshow": {
     "slide_type": "slide"
    }
   },
   "source": [
    "### Cost of carry and convenience yield\n",
    "\n",
    "- Cost of carry = cost of owning physical = foregone interest + storage costs\n",
    "- Convenience yield = benefit of owning physical = dividends and/or profits from temporary product shortages"
   ]
  },
  {
   "cell_type": "markdown",
   "metadata": {
    "slideshow": {
     "slide_type": "slide"
    }
   },
   "source": [
    "### Contango and backwardation\n",
    "\n",
    "- Contango = upward sloping forward curve (futures > spot)\n",
    "- Cost of carry > convenience yield $\\Rightarrow$ contango (like gold)\n",
    "- Backwardation = downward sloping (spot > futures)\n",
    "- Convenience yield > cost of carry $\\Rightarrow$ backwardation (like peso)"
   ]
  },
  {
   "cell_type": "markdown",
   "metadata": {
    "slideshow": {
     "slide_type": "slide"
    }
   },
   "source": [
    "### Currencies\n",
    "\n",
    "- Cost of carry for currency = U.S. interest rate\n",
    "- Convenience yield for currency = foreign interest rate\n",
    "- Foreign rate > U.S. rate $\\Rightarrow$ backwardation.  See [peso futures](https://www.cmegroup.com/markets/fx/emerging-market/mexican-peso.html#venue=globex).\n",
    "- Foreign rate < U.S. rate $\\Rightarrow$ contango.  See [euro futures](https://www.cmegroup.com/markets/fx/g10/euro-fx.quotes.html#venue=globex)."
   ]
  },
  {
   "cell_type": "markdown",
   "metadata": {
    "slideshow": {
     "slide_type": "slide"
    }
   },
   "source": [
    "### Financials\n",
    "\n",
    "- Cost of carry for financials = U.S. interest rate\n",
    "- Convenience yield = dividends (for stock index futures), coupons (for T-bond futures), ...\n",
    "- Dividends/coupons > interest rates $\\Rightarrow$ backwardation\n",
    "- Dividends/coupons < interest rates $\\Rightarrow$ contango\n",
    "- [S&P 500 futures prices](https://www.cmegroup.com/markets/equities/sp/e-mini-sandp500.quotes.html#venue=globex)"
   ]
  },
  {
   "cell_type": "markdown",
   "metadata": {
    "slideshow": {
     "slide_type": "slide"
    }
   },
   "source": [
    "### Commodities (agriculture, energy)\n",
    "\n",
    "- Commodities can have high cost of carry (storage) and sometimes high convenience yields\n",
    "- Sometimes in contango and sometimes in backwardation\n",
    "- Seasonal commodities can be in neither (cyclical)\n",
    "  - [Natural gas](https://www.cmegroup.com/markets/energy/natural-gas/natural-gas.quotes.html#venue=globex) prices high in winters\n",
    "  - Gasoline prices high in summers\n",
    "  - Agricultural high before harvest and low after harvest"
   ]
  },
  {
   "cell_type": "markdown",
   "metadata": {
    "slideshow": {
     "slide_type": "slide"
    }
   },
   "source": [
    "## Futures roll and expectations hypothesis"
   ]
  },
  {
   "cell_type": "markdown",
   "metadata": {
    "slideshow": {
     "slide_type": "slide"
    }
   },
   "source": [
    "### Futures roll\n",
    "\n",
    "- Think of the forward curve as in terms of time to maturity\n",
    "  - Futures price for 1 month to maturity, 2 months, ...\n",
    "- Suppose you buy a futures that is in contango, and the forward curve never changes.  Do you make or lose money?\n",
    "- Maybe sell contango futures and buy backwardation futures?"
   ]
  },
  {
   "cell_type": "markdown",
   "metadata": {
    "slideshow": {
     "slide_type": "slide"
    }
   },
   "source": [
    "### Illustration\n",
    "\n",
    "- Contract that is 12 months out\n",
    "- Follow the price of the contract as time passes\n",
    "- If the forward curve doesn't change, the futures price will \n",
    "  - fall in a contango market and \n",
    "  - rise in a backwardation market"
   ]
  },
  {
   "cell_type": "code",
   "execution_count": 8,
   "metadata": {
    "slideshow": {
     "slide_type": "skip"
    }
   },
   "outputs": [],
   "source": [
    "import plotly.express as px\n",
    "import pandas as pd\n",
    "import numpy as np\n",
    "\n",
    "x = np.arange(0, 24.25, 0.25)\n",
    "\n",
    "df = None \n",
    "for i in range(49):\n",
    "    y = 40 + 10 * (np.log(1 + x) - np.log(12))\n",
    "    month = (i/4)*np.ones(len(x))\n",
    "    size = np.ones(len(x))\n",
    "    size[48-i] = 10\n",
    "    d = pd.DataFrame(dict(x=x, y=y, month=month, size=size))\n",
    "    df = pd.concat((df, d))\n",
    "fig = px.scatter(df, x=\"x\", y=\"y\", animation_frame=\"month\", size=\"size\")\n",
    "fig.layout.updatemenus[0].buttons[0].args[1][\"frame\"][\"duration\"] = 75\n",
    "fig.update_layout(\n",
    "    font_size=14,\n",
    "    yaxis=dict(\n",
    "        range=(0, 80),\n",
    "        title=\"Futures Price\",\n",
    "        title_font_size=16,\n",
    "    ),\n",
    "    xaxis=dict(\n",
    "        title=\"Months to Maturity\",\n",
    "        title_font_size=16,\n",
    "        tickvals=np.arange(0, 26, 2)\n",
    "    ),\n",
    "    template=\"plotly_dark\"\n",
    ")\n",
    "fig.write_html(\"images/contango_roll.html\")\n"
   ]
  },
  {
   "cell_type": "code",
   "execution_count": 9,
   "metadata": {
    "slideshow": {
     "slide_type": "skip"
    }
   },
   "outputs": [],
   "source": [
    "df = None \n",
    "for i in range(49):\n",
    "    y = 40 - 10 * (np.log(1 + x) - np.log(12))\n",
    "    month = (i/4)*np.ones(len(x))\n",
    "    size = np.ones(len(x))\n",
    "    size[48-i] = 10\n",
    "    d = pd.DataFrame(dict(x=x, y=y, month=month, size=size))\n",
    "    df = pd.concat((df, d))\n",
    "fig = px.scatter(df, x=\"x\", y=\"y\", animation_frame=\"month\", size=\"size\")\n",
    "fig.layout.updatemenus[0].buttons[0].args[1][\"frame\"][\"duration\"] = 75\n",
    "fig.update_layout(\n",
    "    font_size=14,\n",
    "    yaxis=dict(\n",
    "        range=(0, 80),\n",
    "        title=\"Futures Price\",\n",
    "        title_font_size=16,\n",
    "    ),\n",
    "    xaxis=dict(\n",
    "        title=\"Months to Maturity\",\n",
    "        title_font_size=16,\n",
    "        tickvals=np.arange(0, 26, 2)\n",
    "    ),\n",
    "    template=\"plotly_dark\"\n",
    ")\n",
    "fig.write_html(\"images/backwardation_roll.html\")"
   ]
  },
  {
   "cell_type": "markdown",
   "metadata": {
    "slideshow": {
     "slide_type": "slide"
    }
   },
   "source": [
    "[Futures roll in a contango market](images/contango_roll.html)\n",
    "\n",
    "[Futures roll in a backwardation market](images/backwardation_roll.html)"
   ]
  },
  {
   "cell_type": "markdown",
   "metadata": {
    "slideshow": {
     "slide_type": "slide"
    }
   },
   "source": [
    "But maybe the forward curve tends to rise over time in contango markets and fall over time in backwardation markets?"
   ]
  },
  {
   "cell_type": "markdown",
   "metadata": {
    "slideshow": {
     "slide_type": "slide"
    }
   },
   "source": [
    "### Expectations hypothesis\n",
    "\n",
    "- Today's futures price should be related to the spot price people expect the asset to trade at in the future, because you could buy (sell) futures now and sell (buy) spot later.\n",
    "  - Example: suppose we can buy December corn now at 5.00 per bushel\n",
    "  - If we expect corn to sell for 4.00 per bushel in December, then maybe we should all be selling 5.00 corn now.  Spot-futures convergence implies 1.00 profit if corn is 4.00 in December.\n",
    "  - If there are no expected profits of this sort, then we must expect corn to sell for 5.00 in December.\n",
    "- The expectations hypothesis is that the futures price represents today's expectation of the future spot price."
   ]
  },
  {
   "cell_type": "code",
   "execution_count": 10,
   "metadata": {
    "slideshow": {
     "slide_type": "skip"
    }
   },
   "outputs": [],
   "source": [
    "df = None \n",
    "for i in range(49):\n",
    "    y = 40 + 10 * (np.log(1 + i/4 + x) - np.log(12))\n",
    "    month = (i/4)*np.ones(len(x))\n",
    "    size = np.ones(len(x))\n",
    "    size[48-i] = 10\n",
    "    d = pd.DataFrame(dict(x=x, y=y, month=month, size=size))\n",
    "    df = pd.concat((df, d))\n",
    "fig = px.scatter(df, x=\"x\", y=\"y\", animation_frame=\"month\", size=\"size\")\n",
    "fig.layout.updatemenus[0].buttons[0].args[1][\"frame\"][\"duration\"] = 300\n",
    "fig.update_layout(\n",
    "    font_size=14,\n",
    "    yaxis=dict(\n",
    "        range=(0, 80),\n",
    "        title=\"Futures Price\",\n",
    "        title_font_size=16,\n",
    "    ),\n",
    "    xaxis=dict(\n",
    "        title=\"Months to Maturity\",\n",
    "        title_font_size=16,\n",
    "        tickvals=np.arange(0, 26, 2)\n",
    "    ),\n",
    "    template=\"plotly_dark\"\n",
    ")\n",
    "fig.write_html(\"images/contango_expectations.html\")"
   ]
  },
  {
   "cell_type": "code",
   "execution_count": 11,
   "metadata": {
    "slideshow": {
     "slide_type": "skip"
    }
   },
   "outputs": [],
   "source": [
    "df = None \n",
    "for i in range(49):\n",
    "    y = 40 - 10 * (np.log(1 + i/4 + x) - np.log(12))\n",
    "    month = (i/4)*np.ones(len(x))\n",
    "    size = np.ones(len(x))\n",
    "    size[48-i] = 10\n",
    "    d = pd.DataFrame(dict(x=x, y=y, month=month, size=size))\n",
    "    df = pd.concat((df, d))\n",
    "fig = px.scatter(df, x=\"x\", y=\"y\", animation_frame=\"month\", size=\"size\")\n",
    "fig.layout.updatemenus[0].buttons[0].args[1][\"frame\"][\"duration\"] = 300\n",
    "fig.update_layout(\n",
    "    font_size=14,\n",
    "    yaxis=dict(\n",
    "        range=(0, 80),\n",
    "        title=\"Futures Price\",\n",
    "        title_font_size=16,\n",
    "    ),\n",
    "    xaxis=dict(\n",
    "        title=\"Months to Maturity\",\n",
    "        title_font_size=16,\n",
    "        tickvals=np.arange(0, 26, 2)\n",
    "    ),\n",
    "    template=\"plotly_dark\"\n",
    ")\n",
    "fig.write_html(\"images/backwardation_expectations.html\")"
   ]
  },
  {
   "cell_type": "markdown",
   "metadata": {
    "slideshow": {
     "slide_type": "slide"
    }
   },
   "source": [
    "[Expectations hypothesis in a contango market](images/contango_expectations.html)\n",
    "\n",
    "[Expectations hypothesis in a backwardation market](images/backwardation_expectations.html)"
   ]
  },
  {
   "cell_type": "markdown",
   "metadata": {
    "slideshow": {
     "slide_type": "slide"
    }
   },
   "source": [
    "- But there could be risk premia.\n",
    "- Example: more corn hedging by farmers than by grain processors\n",
    "  - Speculators are needed to buy corn futures from farmers\n",
    "  - Expect compensation for risk\n",
    "  - Implies futures price < expected future spot"
   ]
  },
  {
   "cell_type": "markdown",
   "metadata": {
    "slideshow": {
     "slide_type": "slide"
    }
   },
   "source": [
    "### Currencies\n",
    "\n",
    "- The data indicate that selling contango currency futures and buying backwardation currency futures is profitable on average.\n",
    "  - Long futures $\\sim$ long synthetic futures = borrowing dollars and buying currency\n",
    "  - Short futures $\\sim$ short synthetic futures = borrowing foreign currency and buying dollars\n",
    "- Selling contango futures means selling (borrowing) high interest rate or low interest rate currencies?\n",
    "- Buying backwardation means buying (investing in) high interest rate or low interest rate currencies?"
   ]
  },
  {
   "cell_type": "markdown",
   "metadata": {
    "slideshow": {
     "slide_type": "slide"
    }
   },
   "source": [
    "## Futures-based ETFs"
   ]
  },
  {
   "cell_type": "markdown",
   "metadata": {
    "slideshow": {
     "slide_type": "slide"
    }
   },
   "source": [
    "- You can buy or sell futures through a stock broker by buying ETFs.\n",
    "- Example: USO holds oil futures\n",
    "- To set up a 100 million dollar ETF:\n",
    "  - Raise 100 million cash.  \n",
    "  - Buy (or sell) enough futures contracts so that #contracts $\\times$ futures price = 100 million\n",
    "  - Deposit 10 million as T-bills for margin\n",
    "  - Buy other higher yielding liquid safe assets with other 90 million\n",
    "  - Gain/loss each day = 100 million x (% change in futures price + interest)."
   ]
  },
  {
   "cell_type": "code",
   "execution_count": 12,
   "metadata": {
    "slideshow": {
     "slide_type": "slide"
    }
   },
   "outputs": [],
   "source": [
    "import pandas as pd\n",
    "from pandas_datareader import DataReader as pdr\n",
    "import yfinance as yf\n",
    "import matplotlib.pyplot as plt\n",
    "import seaborn as sns\n",
    "sns.set_style(\"whitegrid\")\n",
    "\n",
    "spot = pdr(\"DCOILWTICO\", \"fred\", start=1990)\n",
    "uso = yf.download(\"USO\", start=1970, progress=False)[\"Adj Close\"]\n",
    "spot = spot.reindex(uso.index)"
   ]
  },
  {
   "cell_type": "markdown",
   "metadata": {
    "slideshow": {
     "slide_type": "slide"
    }
   },
   "source": [
    "### Spot (front month futures) price of oil"
   ]
  },
  {
   "cell_type": "code",
   "execution_count": 13,
   "metadata": {
    "slideshow": {
     "slide_type": "slide"
    }
   },
   "outputs": [
    {
     "data": {
      "image/png": "[encoded data removed]",
      "text/plain": [
       "<Figure size 640x480 with 1 Axes>"
      ]
     },
     "metadata": {"slideshow": {"slide_type": "slide"}},
     "output_type": "display_data"
    }
   ],
   "source": [
    "plt.plot(spot)\n",
    "plt.show()"
   ]
  },
  {
   "cell_type": "markdown",
   "metadata": {
    "slideshow": {
     "slide_type": "slide"
    }
   },
   "source": [
    "### Comparing oil prices to USO returns\n",
    "\n",
    "- Calculate what 1 dollar of oil in 2006 is worth now \n",
    "- Calculate what 1 dollar in USO in 2006 would have grown to"
   ]
  },
  {
   "cell_type": "code",
   "execution_count": 14,
   "metadata": {
    "slideshow": {
     "slide_type": "slide"
    }
   },
   "outputs": [
    {
     "data": {
      "image/png": "[encoded data removed]",
      "text/plain": [
       "<Figure size 640x480 with 1 Axes>"
      ]
     },
     "metadata": {"slideshow": {"slide_type": "slide"}},
     "output_type": "display_data"
    }
   ],
   "source": [
    "spot = spot/spot.iloc[0]\n",
    "uso = uso/uso.iloc[0]\n",
    "plt.plot(spot, label=\"Spot\")\n",
    "plt.plot(uso, label=\"USO\")\n",
    "plt.ylabel(\"Value per 2006 $\")\n",
    "plt.legend()\n",
    "plt.show()"
   ]
  }
 ],
 "metadata": {
  "kernelspec": {
   "display_name": "Python 3",
   "language": "python",
   "name": "python3"
  },
  "language_info": {
   "codemirror_mode": {
    "name": "ipython",
    "version": 3
   },
   "file_extension": ".py",
   "mimetype": "text/x-python",
   "name": "python",
   "nbconvert_exporter": "python",
   "pygments_lexer": "ipython3",
   "version": "3.10.11"
  }
 },
 "nbformat": 4,
 "nbformat_minor": 2
}
