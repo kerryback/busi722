{
 "cells": [
  {
   "cell_type": "markdown",
   "metadata": {
    "slideshow": {
     "slide_type": "slide"
    }
   },
   "source": [
    "# Introduction to Futures\n",
    "\n",
    "### BUSI 722: Data-Driven Finance II\n",
    "### Kerry Back, Rice University"
   ]
  },
  {
   "cell_type": "markdown",
   "metadata": {
    "slideshow": {
     "slide_type": "slide"
    }
   },
   "source": [
    "- A forward contract is a contract to deliver something and to be paid at a later date.\n",
    "- A futures contract is like a forward contract, but it is traded on an exchange. Main exchanges are the Chicago Mercantile Exchange (CME) and the Intercontinental Exchange (ICE).\n",
    "- Like options, a clearinghouse steps between buyers and sellers and becomes the counterparty to both sides.\n",
    "- Unlike options, the buyer does not pay the seller when a futures contract is traded.\n",
    "- Both have to post collateral (margin) to ensure they can uphold their future obligations.  Generally less than 10\\% of the contract value."
   ]
  },
  {
   "cell_type": "markdown",
   "metadata": {
    "slideshow": {
     "slide_type": "slide"
    }
   },
   "source": [
    "### Types of futures\n",
    "\n",
    "- Agricultural (corn, wheat, ...)\n",
    "- Energy (crude, natural gas, ...)\n",
    "- Metals (gold, silver, ...)\n",
    "- Currencies (euro, yen, ...)\n",
    "- Financials (S&P 500, Treasury bonds, ...)"
   ]
  },
  {
   "cell_type": "markdown",
   "metadata": {
    "slideshow": {
     "slide_type": "slide"
    }
   },
   "source": [
    "### Examples of contracts\n",
    " \n",
    "- CME gold: 100 troy ounces\n",
    "- CME natural gas: 10,000 MMBtu delivered to Henry Hub, LA\n",
    "- CME gasoline: 42,000 gallons delivered to NY harbor\n",
    "- CME heating oil (ULSD) : 42,000 gallons delivered to NY harbor\n",
    "- [CME WTI Crude](https://www.cmegroup.com/markets/energy/crude-oil/light-sweet-crude.html): 1,000 barrels delivered to Cushing, OK"
   ]
  },
  {
   "cell_type": "markdown",
   "metadata": {
    "slideshow": {
     "slide_type": "slide"
    }
   },
   "source": [
    "### Exiting through trade\n",
    "\n",
    "- Like options, positions are usually cancelled by making offsetting trades.\n",
    "- Example: buy a contract at 70.  Later sell when price is at 80.  \n",
    "  - Deliver/receive obligations cancel.\n",
    "  - Buy at 70 and sell at 80 produces a cash gain of 10.  \n"
   ]
  },
  {
   "cell_type": "markdown",
   "metadata": {
    "slideshow": {
     "slide_type": "slide"
    }
   },
   "source": [
    "### Daily Settlement (marking to market)\n",
    "\n",
    "- Gains and losses are realized daily.\n",
    "- Why?  To protect the clearinghouse.  \n",
    "- Any default will be for no more than the loss on a single day, because cash was transferred to cover prior losses."
   ]
  },
  {
   "cell_type": "markdown",
   "metadata": {
    "slideshow": {
     "slide_type": "slide"
    }
   },
   "source": [
    "### Example \n",
    "\n",
    "- Suppose you bought 1 CME WTI contract for Dec, 2022 delivery on Jan 2, 2020.  \n",
    "- You bought it at 51.80.  \n",
    "- The contract closed (settled) that day at 51.97.\n",
    "- You made 1,000 barrels $\\times$ 0.17/barrel = 170 on Jan 2.  You receive that money at the end of the day.\n",
    "- You are now obligated to pay 51.97 upon delivery in December.\n",
    "- Deducting the 0.17 cash you already received, the net price is still 51.80."
   ]
  },
  {
   "cell_type": "markdown",
   "metadata": {
    "slideshow": {
     "slide_type": "slide"
    }
   },
   "source": [
    "The settlement prices for subsequent days were\n",
    "\n",
    "<table>\n",
    "    <tr>\n",
    "<td> Jan 3 </td> <td> 51.72 </td>\n",
    "</tr><tr>\n",
    "<td> Jan 6 </td> <td> 51.81 </td>\n",
    "</tr><tr>\n",
    "<td> Jan 7 </td> <td> 52.13 </td>\n",
    "</tr><tr>\n",
    "<td> Jan 8 </td> <td> 51.31 </td>\n",
    "</tr>\n",
    "</table>\n",
    "    \n",
    "Suppose you sold 1 contract on Jan 9 at 51.50.  "
   ]
  },
  {
   "cell_type": "markdown",
   "metadata": {
    "slideshow": {
     "slide_type": "slide"
    }
   },
   "source": [
    "Here are the daily cash flows per barrel\n",
    "\n",
    "<table>\n",
    "    <tr>\n",
    "    <tr><th>Day </th><th> Price </th><th> Gain/Loss </th>\n",
    "    </tr><tr>\n",
    "    <td> Jan 2 </td><td> 51.80 </td><td>  </td>\n",
    "    </tr><tr>\n",
    "    <td> Jan 2 </td><td> 51.97 </td><td>  + 0.17 </td>\n",
    "     </tr><tr>\n",
    "    <td>Jan 3</td> <td> 51.72 </td><td> - 0.25 </td>\n",
    "    </tr><tr>\n",
    "<td> Jan 6 </td> <td> 51.81 </td><td> + 0.09 </td>\n",
    "</tr><tr>\n",
    "<td> Jan 7 </td> <td> 52.13 </td><td> + 0.32 </td>\n",
    "</tr><tr>\n",
    "<td> Jan 8 </td> <td> 51.31 </td><td>- 0.82 </td>\n",
    "</tr><tr>\n",
    "<td> Jan 9 </td> <td> 51.50 </td><td> +0.19 </td>\n",
    "</tr><tr>\n",
    "<td> TOTAL </td> <td>  </td><td>- 0.30 </td>\n",
    "</tr>\n",
    "</table>\n"
   ]
  },
  {
   "cell_type": "markdown",
   "metadata": {
    "slideshow": {
     "slide_type": "slide"
    }
   },
   "source": [
    "### Cash settled contracts\n",
    "\n",
    "- Some contracts (mostly financials) do not have delivery provisions.  Instead, the gain/loss on the last day is calculated from the market price of the underlying.\n",
    "- Example: S&P 500 contract is cash settled based on the prices of the 500 stocks (i.e., the S&P 500 index)."
   ]
  },
  {
   "cell_type": "markdown",
   "metadata": {
    "slideshow": {
     "slide_type": "slide"
    }
   },
   "source": [
    "### Convergence to spot\n",
    "\n",
    "- Spot price means price for \"immediate\" delivery.\n",
    "- Spot and futures are usually different.\n",
    "  - Example: The price for a bushel of corn in six months is usually not quite the same as the price of a bushel of corn today.\n",
    "- However, as the maturity date of the futures approaches, the futures price and spot price must converge.\n",
    "  - Because trading a futures near its maturity is the same as trading spot."
   ]
  },
  {
   "cell_type": "markdown",
   "metadata": {
    "slideshow": {
     "slide_type": "slide"
    }
   },
   "source": [
    "### Hedging with futures\n",
    "\n",
    "- Example: grain processor will need to buy corn in December.\n",
    "- Buys corn in January on futures market at 5.00 per bushel.\n",
    "- If the spot price of corn is 4.00 per bushel in December,\n",
    "  - Processor will probably sell the futures contract, taking a 1.00 loss\n",
    "  - Buy corn spot at 4.00\n",
    "  - Net cost is 5.00\n",
    "- If the spot price of corn is 6.00 per bushel in December, then ..."
   ]
  },
  {
   "cell_type": "markdown",
   "metadata": {
    "slideshow": {
     "slide_type": "slide"
    }
   },
   "source": [
    "### Does marking to market matter for hedgers?\n",
    "\n",
    "- It can matter.  Consider a wheat farmer who sells futures at 6.00 per bushel.\n",
    "- Suppose the futures rises to 8.00 before harvest time.  What are the cash flows?"
   ]
  },
  {
   "cell_type": "markdown",
   "metadata": {
    "slideshow": {
     "slide_type": "slide"
    }
   },
   "source": [
    "### What if quantities are uncertain?\n",
    "\n",
    "- In the previous example, suppose wheat futures rose because of a drought.\n",
    "- Suppose the farmer hedged by selling futures but then ends up with a smaller crop than anticipated. \n",
    "- What are the consequences?"
   ]
  },
  {
   "cell_type": "markdown",
   "metadata": {
    "slideshow": {
     "slide_type": "slide"
    }
   },
   "source": [
    "### Hedging with futures vs options\n",
    "\n",
    "- What option could a grain processor buy to cap the price of corn?\n",
    "- Calculate the net cost, including the option premium. under various scenarios for the price of corn.\n",
    "- How does marking to market and quantity uncertainty affect the choice between futures and options?"
   ]
  },
  {
   "cell_type": "markdown",
   "metadata": {
    "slideshow": {
     "slide_type": "slide"
    }
   },
   "source": [
    "### Options on futures\n",
    "\n",
    "- You can buy an option on corn over the counter (directly from a grain trader) but not on an exchange.  However, you can buy an option on corn futures on the CME.  Same for energy, metals, ...\n",
    "- Exercising a call option on a futures rolls you into a long futures contract.  Exercising a put rolls you into a short futures contract.\n",
    "- Example.  You are long a call option on crude with a **strike of 70**.  The crude **futures is at 80**.  \n",
    "  - You do not pay the strike to exercise.\n",
    "  - Exercising gives you a long futures contract as if you bought the contract at 70.\n",
    "  - It is immediately marked to market.  So **you get 10 cash** from the marking to market.  And, you have a contract to pay 80 for crude.\n",
    "  - You could sell a futures contract in the market at 80.  This will cancel the delivery/receipt obligations."
   ]
  },
  {
   "cell_type": "markdown",
   "metadata": {
    "slideshow": {
     "slide_type": "slide"
    }
   },
   "source": [
    "### Hedging with futures or futures options\n",
    "\n",
    "- A farmer wants to insure against the price of wheat falling.\n",
    "- The futures price is 6.00 per bushel.\n",
    "- A put on the futures with a strike of 6.00 has a premium of 1.00.  The call expires at the same time as the futures.\n",
    "- Compare the outcomes for (a) futures, (b) put on futures, and (c) no hedge if the spot price of wheat at the option/futures maturity is 4.00, 5.00, 6.00, 7.00, or 8.00 per bushel."
   ]
  }
 ],
 "metadata": {
  "kernelspec": {
   "display_name": "Python 3",
   "language": "python",
   "name": "python3"
  },
  "language_info": {
   "codemirror_mode": {
    "name": "ipython",
    "version": 3
   },
   "file_extension": ".py",
   "mimetype": "text/x-python",
   "name": "python",
   "nbconvert_exporter": "python",
   "pygments_lexer": "ipython3",
   "version": "3.10.8"
  }
 },
 "nbformat": 4,
 "nbformat_minor": 2
}
