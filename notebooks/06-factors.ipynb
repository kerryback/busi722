{
 "cells": [
  {
   "cell_type": "markdown",
   "metadata": {
    "slideshow": {
     "slide_type": "slide"
    }
   },
   "source": [
    "# Factor Investing\n",
    "\n",
    "### BUSI 722: Data-Driven Finance II\n",
    "### Kerry Back, Rice University"
   ]
  },
  {
   "cell_type": "markdown",
   "metadata": {
    "slideshow": {
     "slide_type": "slide"
    }
   },
   "source": [
    "### Overview\n",
    "\n",
    "- Introduction to factors\n",
    "- SQL Database\n",
    "- Examples of constructing features\n",
    "- Sorts"
   ]
  },
  {
   "cell_type": "markdown",
   "metadata": {
    "slideshow": {
     "slide_type": "slide"
    }
   },
   "source": [
    "## Introduction to factors"
   ]
  },
  {
   "cell_type": "markdown",
   "metadata": {
    "slideshow": {
     "slide_type": "slide"
    }
   },
   "source": [
    "- [Factor investing at BlackRock](https://www.blackrock.com/us/individual/investment-ideas/what-is-factor-investing)\n",
    "\n",
    "- [Factor investing at AQR](https://www.aqr.com/Learning-Center/Systematic-Equities/Systematic-Equities-A-Closer-Look?gclid=Cj0KCQiA_8OPBhDtARIsAKQu0gZS3uj9A0fdCN5eB_P-uUfY0VWr2uY9MW503bgPnO7DbQeVr2_WlxkaAlwhEALw_wcB)"
   ]
  },
  {
   "cell_type": "markdown",
   "metadata": {
    "slideshow": {
     "slide_type": "slide"
    }
   },
   "source": [
    "### Some factors (features)\n",
    "\n",
    "- Value \n",
    "  - Price to book\n",
    "  - Price to earnings\n",
    "- Momentum / reversal \n",
    "  - Last month or week return (short-term reversal)\n",
    "  - Last six-months or year return excluding most recent month (momentum)\n",
    "  - Last five-year return excluding most recent year (long-term reversal)"
   ]
  },
  {
   "cell_type": "markdown",
   "metadata": {
    "slideshow": {
     "slide_type": "slide"
    }
   },
   "source": [
    "- Volatility\n",
    "  - Standard deviation\n",
    "  - Standard deviation of CAPM residual \n",
    "  - Standard deviation of Fama-French residual\n",
    "- Volume (liquidity) \n",
    "- Profitability \n",
    "  - Return on equity (quarterly or annual) \n",
    "  - Operating profitability (Revenue - COGS - SG&A - Taxes) / assets\n",
    "- Asset growth \n",
    "- Accruals (net income - operating cash flow)"
   ]
  },
  {
   "cell_type": "markdown",
   "metadata": {
    "slideshow": {
     "slide_type": "slide"
    }
   },
   "source": [
    "- Dividend announcements and yields \n",
    "- Earnings announcements \n",
    "- Sentiment (text analysis)\n",
    "- Short interest \n",
    "- Corporate insider (director/executive/large shareholder) trades"
   ]
  },
  {
   "cell_type": "markdown",
   "metadata": {
    "slideshow": {
     "slide_type": "slide"
    }
   },
   "source": [
    "### Some data from Ken French's data library\n",
    "\n",
    "- Monthly returns of value-weighted portfolios constructed from sorts on characteristics\n",
    "- Either (i) one characteristic at a time or (ii) size and another characteristic\n",
    "- [One at a time](https://learn-investments.rice-business.org/factor-investing/quintiles)\n",
    "- [Size and another](https://learn-investments.rice-business.org/factor-investing/two-way-sorts)"
   ]
  },
  {
   "cell_type": "markdown",
   "metadata": {
    "slideshow": {
     "slide_type": "slide"
    }
   },
   "source": [
    "## SQL database for this course"
   ]
  },
  {
   "cell_type": "markdown",
   "metadata": {
    "slideshow": {
     "slide_type": "slide"
    }
   },
   "source": [
    "- Annual and quarterly reports, prices, volume\n",
    "- On Rice server.  Must be on campus or on [Rice VPN](https://kb.rice.edu/page.php?id=82263).\n",
    "- Data is downloaded daily from Nasdaq Data Link.\n",
    "- Use either pyodbc or pymssql (pymssql is deprecated).  For Macs, need to install [Microsoft's ODBC Driver](https://learn.microsoft.com/en-us/sql/connect/odbc/linux-mac/install-microsoft-odbc-driver-sql-server-macos?view=sql-server-ver16).  There have been issues with Macs."
   ]
  },
  {
   "cell_type": "markdown",
   "metadata": {
    "slideshow": {
     "slide_type": "slide"
    }
   },
   "source": [
    "### Establish a connection\n",
    "\n",
    "Can always use this code to connect (I hope)."
   ]
  },
  {
   "cell_type": "code",
   "execution_count": 104,
   "metadata": {
    "slideshow": {
     "slide_type": "slide"
    }
   },
   "outputs": [],
   "source": [
    "from sqlalchemy import create_engine\n",
    "\n",
    "server = 'fs.rice.edu'\n",
    "database = 'stocks'\n",
    "username = 'stocks'\n",
    "password = '6LAZH1'\n",
    "driver = 'SQL+Server'\n",
    "string = f\"mssql+pyodbc://{username}:{password}@{server}/{database}\" \n",
    "try: \n",
    "    conn = create_engine(string + \"?driver='SQL+Server'\").connect()\n",
    "except:\n",
    "    try:\n",
    "        conn = create_engine(string + \"?driver='ODBC+Driver+18+for+SQL+Server'\").connect()\n",
    "    except:\n",
    "        import pymssql\n",
    "        string = f\"mssql+pymssql://{username}:{password}@{server}/{database}\"   \n",
    "        conn = create_engine(string).connect() "
   ]
  },
  {
   "cell_type": "markdown",
   "metadata": {
    "slideshow": {
     "slide_type": "slide"
    }
   },
   "source": [
    "### Overview of tables in the database"
   ]
  },
  {
   "cell_type": "code",
   "execution_count": 105,
   "metadata": {
    "slideshow": {
     "slide_type": "slide"
    }
   },
   "outputs": [
    {
     "data": {
      "text/html": [
       "<div>\n",
       "<style scoped>\n",
       "    .dataframe tbody tr th:only-of-type {\n",
       "        vertical-align: middle;\n",
       "    }\n",
       "\n",
       "    .dataframe tbody tr th {\n",
       "        vertical-align: top;\n",
       "    }\n",
       "\n",
       "    .dataframe thead th {\n",
       "        text-align: right;\n",
       "    }\n",
       "</style>\n",
       "<table border=\"1\" class=\"dataframe\">\n",
       "  <thead>\n",
       "    <tr style=\"text-align: right;\">\n",
       "      <th></th>\n",
       "      <th>TABLE_CATALOG</th>\n",
       "      <th>TABLE_SCHEMA</th>\n",
       "      <th>TABLE_NAME</th>\n",
       "      <th>TABLE_TYPE</th>\n",
       "    </tr>\n",
       "  </thead>\n",
       "  <tbody>\n",
       "    <tr>\n",
       "      <th>0</th>\n",
       "      <td>stocks</td>\n",
       "      <td>dbo</td>\n",
       "      <td>sf1</td>\n",
       "      <td>BASE TABLE</td>\n",
       "    </tr>\n",
       "    <tr>\n",
       "      <th>1</th>\n",
       "      <td>stocks</td>\n",
       "      <td>dbo</td>\n",
       "      <td>sep_weekly</td>\n",
       "      <td>BASE TABLE</td>\n",
       "    </tr>\n",
       "    <tr>\n",
       "      <th>2</th>\n",
       "      <td>stocks</td>\n",
       "      <td>dbo</td>\n",
       "      <td>weekly</td>\n",
       "      <td>BASE TABLE</td>\n",
       "    </tr>\n",
       "    <tr>\n",
       "      <th>3</th>\n",
       "      <td>stocks</td>\n",
       "      <td>dbo</td>\n",
       "      <td>today</td>\n",
       "      <td>BASE TABLE</td>\n",
       "    </tr>\n",
       "    <tr>\n",
       "      <th>4</th>\n",
       "      <td>stocks</td>\n",
       "      <td>dbo</td>\n",
       "      <td>ghz</td>\n",
       "      <td>BASE TABLE</td>\n",
       "    </tr>\n",
       "    <tr>\n",
       "      <th>5</th>\n",
       "      <td>stocks</td>\n",
       "      <td>dbo</td>\n",
       "      <td>indicators</td>\n",
       "      <td>BASE TABLE</td>\n",
       "    </tr>\n",
       "    <tr>\n",
       "      <th>6</th>\n",
       "      <td>stocks</td>\n",
       "      <td>dbo</td>\n",
       "      <td>tickers</td>\n",
       "      <td>BASE TABLE</td>\n",
       "    </tr>\n",
       "  </tbody>\n",
       "</table>\n",
       "</div>"
      ],
      "text/plain": [
       "  TABLE_CATALOG TABLE_SCHEMA  TABLE_NAME  TABLE_TYPE\n",
       "0        stocks          dbo         sf1  BASE TABLE\n",
       "1        stocks          dbo  sep_weekly  BASE TABLE\n",
       "2        stocks          dbo      weekly  BASE TABLE\n",
       "3        stocks          dbo       today  BASE TABLE\n",
       "4        stocks          dbo         ghz  BASE TABLE\n",
       "5        stocks          dbo  indicators  BASE TABLE\n",
       "6        stocks          dbo     tickers  BASE TABLE"
      ]
     },
     "execution_count": 105,
     "metadata": {
      "slideshow": {
       "slide_type": "slide"
      }
     },
     "output_type": "execute_result"
    }
   ],
   "source": [
    "import pandas as pd \n",
    "pd.read_sql(\"select * from information_schema.tables\", conn)"
   ]
  },
  {
   "cell_type": "markdown",
   "metadata": {
    "slideshow": {
     "slide_type": "slide"
    }
   },
   "source": [
    "### tickers table \n",
    "\n",
    "tickers has one row for each ticker, with general company information"
   ]
  },
  {
   "cell_type": "code",
   "execution_count": 106,
   "metadata": {
    "slideshow": {
     "slide_type": "slide"
    }
   },
   "outputs": [
    {
     "data": {
      "text/html": [
       "<div>\n",
       "<style scoped>\n",
       "    .dataframe tbody tr th:only-of-type {\n",
       "        vertical-align: middle;\n",
       "    }\n",
       "\n",
       "    .dataframe tbody tr th {\n",
       "        vertical-align: top;\n",
       "    }\n",
       "\n",
       "    .dataframe thead th {\n",
       "        text-align: right;\n",
       "    }\n",
       "</style>\n",
       "<table border=\"1\" class=\"dataframe\">\n",
       "  <thead>\n",
       "    <tr style=\"text-align: right;\">\n",
       "      <th></th>\n",
       "      <th>permaticker</th>\n",
       "      <th>siccode</th>\n",
       "      <th>lastupdated</th>\n",
       "      <th>firstadded</th>\n",
       "      <th>firstpricedate</th>\n",
       "      <th>lastpricedate</th>\n",
       "      <th>firstquarter</th>\n",
       "      <th>lastquarter</th>\n",
       "      <th>isdelisted</th>\n",
       "      <th>ticker</th>\n",
       "      <th>...</th>\n",
       "      <th>famaindustry</th>\n",
       "      <th>sector</th>\n",
       "      <th>industry</th>\n",
       "      <th>scalemarketcap</th>\n",
       "      <th>scalerevenue</th>\n",
       "      <th>relatedtickers</th>\n",
       "      <th>currency</th>\n",
       "      <th>location</th>\n",
       "      <th>secfilings</th>\n",
       "      <th>companysite</th>\n",
       "    </tr>\n",
       "  </thead>\n",
       "  <tbody>\n",
       "    <tr>\n",
       "      <th>0</th>\n",
       "      <td>196290</td>\n",
       "      <td>3826</td>\n",
       "      <td>2023-12-20</td>\n",
       "      <td>2014-09-26</td>\n",
       "      <td>1999-11-18</td>\n",
       "      <td>2024-01-30</td>\n",
       "      <td>1997-06-30</td>\n",
       "      <td>2023-09-30</td>\n",
       "      <td>N</td>\n",
       "      <td>A</td>\n",
       "      <td>...</td>\n",
       "      <td>Measuring and Control Equipment</td>\n",
       "      <td>Healthcare</td>\n",
       "      <td>Diagnostics &amp; Research</td>\n",
       "      <td>5 - Large</td>\n",
       "      <td>5 - Large</td>\n",
       "      <td>None</td>\n",
       "      <td>USD</td>\n",
       "      <td>California; U.S.A</td>\n",
       "      <td>https://www.sec.gov/cgi-bin/browse-edgar?actio...</td>\n",
       "      <td>https://www.agilent.com</td>\n",
       "    </tr>\n",
       "    <tr>\n",
       "      <th>1</th>\n",
       "      <td>124392</td>\n",
       "      <td>3334</td>\n",
       "      <td>2023-10-26</td>\n",
       "      <td>2016-11-01</td>\n",
       "      <td>2016-11-01</td>\n",
       "      <td>2024-01-30</td>\n",
       "      <td>2014-12-31</td>\n",
       "      <td>2023-09-30</td>\n",
       "      <td>N</td>\n",
       "      <td>AA</td>\n",
       "      <td>...</td>\n",
       "      <td>Steel Works Etc</td>\n",
       "      <td>Basic Materials</td>\n",
       "      <td>Aluminum</td>\n",
       "      <td>5 - Large</td>\n",
       "      <td>5 - Large</td>\n",
       "      <td>None</td>\n",
       "      <td>USD</td>\n",
       "      <td>Pennsylvania; U.S.A</td>\n",
       "      <td>https://www.sec.gov/cgi-bin/browse-edgar?actio...</td>\n",
       "      <td>http://www.alcoa.com</td>\n",
       "    </tr>\n",
       "    <tr>\n",
       "      <th>2</th>\n",
       "      <td>122827</td>\n",
       "      <td>6022</td>\n",
       "      <td>2019-07-29</td>\n",
       "      <td>2017-09-09</td>\n",
       "      <td>1998-09-25</td>\n",
       "      <td>2003-01-28</td>\n",
       "      <td>1997-09-30</td>\n",
       "      <td>2002-09-30</td>\n",
       "      <td>Y</td>\n",
       "      <td>AAAB</td>\n",
       "      <td>...</td>\n",
       "      <td>Banking</td>\n",
       "      <td>Financial Services</td>\n",
       "      <td>Banks - Regional</td>\n",
       "      <td>2 - Micro</td>\n",
       "      <td>1 - Nano</td>\n",
       "      <td>None</td>\n",
       "      <td>USD</td>\n",
       "      <td>Florida; U.S.A</td>\n",
       "      <td>https://www.sec.gov/cgi-bin/browse-edgar?actio...</td>\n",
       "      <td>None</td>\n",
       "    </tr>\n",
       "  </tbody>\n",
       "</table>\n",
       "<p>3 rows × 26 columns</p>\n",
       "</div>"
      ],
      "text/plain": [
       "   permaticker  siccode lastupdated  firstadded firstpricedate lastpricedate  \\\n",
       "0       196290     3826  2023-12-20  2014-09-26     1999-11-18    2024-01-30   \n",
       "1       124392     3334  2023-10-26  2016-11-01     2016-11-01    2024-01-30   \n",
       "2       122827     6022  2019-07-29  2017-09-09     1998-09-25    2003-01-28   \n",
       "\n",
       "  firstquarter lastquarter isdelisted ticker  ...  \\\n",
       "0   1997-06-30  2023-09-30          N      A  ...   \n",
       "1   2014-12-31  2023-09-30          N     AA  ...   \n",
       "2   1997-09-30  2002-09-30          Y   AAAB  ...   \n",
       "\n",
       "                      famaindustry              sector  \\\n",
       "0  Measuring and Control Equipment          Healthcare   \n",
       "1                  Steel Works Etc     Basic Materials   \n",
       "2                          Banking  Financial Services   \n",
       "\n",
       "                 industry scalemarketcap scalerevenue relatedtickers currency  \\\n",
       "0  Diagnostics & Research      5 - Large    5 - Large           None      USD   \n",
       "1                Aluminum      5 - Large    5 - Large           None      USD   \n",
       "2        Banks - Regional      2 - Micro     1 - Nano           None      USD   \n",
       "\n",
       "              location                                         secfilings  \\\n",
       "0    California; U.S.A  https://www.sec.gov/cgi-bin/browse-edgar?actio...   \n",
       "1  Pennsylvania; U.S.A  https://www.sec.gov/cgi-bin/browse-edgar?actio...   \n",
       "2       Florida; U.S.A  https://www.sec.gov/cgi-bin/browse-edgar?actio...   \n",
       "\n",
       "               companysite  \n",
       "0  https://www.agilent.com  \n",
       "1     http://www.alcoa.com  \n",
       "2                     None  \n",
       "\n",
       "[3 rows x 26 columns]"
      ]
     },
     "execution_count": 106,
     "metadata": {
      "slideshow": {
       "slide_type": "slide"
      }
     },
     "output_type": "execute_result"
    }
   ],
   "source": [
    "tickers = pd.read_sql(\"select top 3 * from tickers\", conn)\n",
    "tickers"
   ]
  },
  {
   "cell_type": "code",
   "execution_count": 107,
   "metadata": {
    "slideshow": {
     "slide_type": "slide"
    }
   },
   "outputs": [
    {
     "name": "stdout",
     "output_type": "stream",
     "text": [
      "permaticker\n",
      "siccode\n",
      "lastupdated\n",
      "firstadded\n",
      "firstpricedate\n",
      "lastpricedate\n",
      "firstquarter\n",
      "lastquarter\n",
      "isdelisted\n",
      "ticker\n",
      "name\n",
      "exchange\n",
      "cusips\n",
      "sicsector\n",
      "sicindustry\n",
      "famasector\n",
      "famaindustry\n",
      "sector\n",
      "industry\n",
      "scalemarketcap\n",
      "scalerevenue\n",
      "relatedtickers\n",
      "currency\n",
      "location\n",
      "secfilings\n",
      "companysite\n"
     ]
    }
   ],
   "source": [
    "for col in tickers.columns: print(col)"
   ]
  },
  {
   "cell_type": "markdown",
   "metadata": {
    "slideshow": {
     "slide_type": "slide"
    }
   },
   "source": [
    "### indicators\n",
    "\n",
    "indicators has one row for each variable in the other tables with definitions"
   ]
  },
  {
   "cell_type": "code",
   "execution_count": 108,
   "metadata": {
    "slideshow": {
     "slide_type": "slide"
    }
   },
   "outputs": [
    {
     "data": {
      "text/html": [
       "<div>\n",
       "<style scoped>\n",
       "    .dataframe tbody tr th:only-of-type {\n",
       "        vertical-align: middle;\n",
       "    }\n",
       "\n",
       "    .dataframe tbody tr th {\n",
       "        vertical-align: top;\n",
       "    }\n",
       "\n",
       "    .dataframe thead th {\n",
       "        text-align: right;\n",
       "    }\n",
       "</style>\n",
       "<table border=\"1\" class=\"dataframe\">\n",
       "  <thead>\n",
       "    <tr style=\"text-align: right;\">\n",
       "      <th></th>\n",
       "      <th>tbl</th>\n",
       "      <th>indicator</th>\n",
       "      <th>isfilter</th>\n",
       "      <th>isprimarykey</th>\n",
       "      <th>title</th>\n",
       "      <th>description</th>\n",
       "      <th>unittype</th>\n",
       "    </tr>\n",
       "  </thead>\n",
       "  <tbody>\n",
       "    <tr>\n",
       "      <th>0</th>\n",
       "      <td>SF1</td>\n",
       "      <td>revenue</td>\n",
       "      <td>N</td>\n",
       "      <td>N</td>\n",
       "      <td>Revenues</td>\n",
       "      <td>[Income Statement] The amount of Revenue recog...</td>\n",
       "      <td>currency</td>\n",
       "    </tr>\n",
       "    <tr>\n",
       "      <th>1</th>\n",
       "      <td>SF1</td>\n",
       "      <td>cor</td>\n",
       "      <td>N</td>\n",
       "      <td>N</td>\n",
       "      <td>Cost of Revenue</td>\n",
       "      <td>[Income Statement] The aggregate cost of goods...</td>\n",
       "      <td>currency</td>\n",
       "    </tr>\n",
       "    <tr>\n",
       "      <th>2</th>\n",
       "      <td>SF1</td>\n",
       "      <td>sgna</td>\n",
       "      <td>N</td>\n",
       "      <td>N</td>\n",
       "      <td>Selling General and Administrative Expense</td>\n",
       "      <td>[Income Statement] A component of [OpEx] repre...</td>\n",
       "      <td>currency</td>\n",
       "    </tr>\n",
       "    <tr>\n",
       "      <th>3</th>\n",
       "      <td>SF1</td>\n",
       "      <td>rnd</td>\n",
       "      <td>N</td>\n",
       "      <td>N</td>\n",
       "      <td>Research and Development Expense</td>\n",
       "      <td>[Income Statement] A component of [OpEx] repre...</td>\n",
       "      <td>currency</td>\n",
       "    </tr>\n",
       "    <tr>\n",
       "      <th>4</th>\n",
       "      <td>SF1</td>\n",
       "      <td>opex</td>\n",
       "      <td>N</td>\n",
       "      <td>N</td>\n",
       "      <td>Operating Expenses</td>\n",
       "      <td>[Income Statement] Operating expenses represen...</td>\n",
       "      <td>currency</td>\n",
       "    </tr>\n",
       "  </tbody>\n",
       "</table>\n",
       "</div>"
      ],
      "text/plain": [
       "   tbl indicator isfilter isprimarykey  \\\n",
       "0  SF1   revenue        N            N   \n",
       "1  SF1       cor        N            N   \n",
       "2  SF1      sgna        N            N   \n",
       "3  SF1       rnd        N            N   \n",
       "4  SF1      opex        N            N   \n",
       "\n",
       "                                        title  \\\n",
       "0                                    Revenues   \n",
       "1                             Cost of Revenue   \n",
       "2  Selling General and Administrative Expense   \n",
       "3            Research and Development Expense   \n",
       "4                          Operating Expenses   \n",
       "\n",
       "                                         description  unittype  \n",
       "0  [Income Statement] The amount of Revenue recog...  currency  \n",
       "1  [Income Statement] The aggregate cost of goods...  currency  \n",
       "2  [Income Statement] A component of [OpEx] repre...  currency  \n",
       "3  [Income Statement] A component of [OpEx] repre...  currency  \n",
       "4  [Income Statement] Operating expenses represen...  currency  "
      ]
     },
     "execution_count": 108,
     "metadata": {
      "slideshow": {
       "slide_type": "slide"
      }
     },
     "output_type": "execute_result"
    }
   ],
   "source": [
    "indicators = pd.read_sql(\"select * from indicators\", conn)\n",
    "indicators.head()"
   ]
  },
  {
   "cell_type": "code",
   "execution_count": 109,
   "metadata": {
    "slideshow": {
     "slide_type": "slide"
    }
   },
   "outputs": [],
   "source": [
    "indicators.to_excel(\"indicators.xlsx\")"
   ]
  },
  {
   "cell_type": "code",
   "execution_count": 110,
   "metadata": {
    "slideshow": {
     "slide_type": "slide"
    }
   },
   "outputs": [
    {
     "name": "stdout",
     "output_type": "stream",
     "text": [
      "tbl\n",
      "indicator\n",
      "isfilter\n",
      "isprimarykey\n",
      "title\n",
      "description\n",
      "unittype\n"
     ]
    }
   ],
   "source": [
    "for col in indicators.columns: print(col)"
   ]
  },
  {
   "cell_type": "markdown",
   "metadata": {
    "slideshow": {
     "slide_type": "slide"
    }
   },
   "source": [
    "### sf1 \n",
    "\n",
    "sf1 has annual and quarterly reports for all NYSE/Nasdaq stocks since 2000\n",
    "  - ARQ = as reported quarterly\n",
    "  - ARY = as reported yearly\n",
    "  - MRQ = modified (includes restatements) quarterly\n",
    "  - MRY = modified (includes restatements) yearly"
   ]
  },
  {
   "cell_type": "code",
   "execution_count": 111,
   "metadata": {
    "slideshow": {
     "slide_type": "slide"
    }
   },
   "outputs": [
    {
     "data": {
      "text/html": [
       "<div>\n",
       "<style scoped>\n",
       "    .dataframe tbody tr th:only-of-type {\n",
       "        vertical-align: middle;\n",
       "    }\n",
       "\n",
       "    .dataframe tbody tr th {\n",
       "        vertical-align: top;\n",
       "    }\n",
       "\n",
       "    .dataframe thead th {\n",
       "        text-align: right;\n",
       "    }\n",
       "</style>\n",
       "<table border=\"1\" class=\"dataframe\">\n",
       "  <thead>\n",
       "    <tr style=\"text-align: right;\">\n",
       "      <th></th>\n",
       "      <th>ticker</th>\n",
       "      <th>dimension</th>\n",
       "      <th>calendardate</th>\n",
       "      <th>datekey</th>\n",
       "      <th>reportperiod</th>\n",
       "      <th>lastupdated</th>\n",
       "      <th>accoci</th>\n",
       "      <th>assets</th>\n",
       "      <th>assetsavg</th>\n",
       "      <th>assetsc</th>\n",
       "      <th>...</th>\n",
       "      <th>sharesbas</th>\n",
       "      <th>shareswa</th>\n",
       "      <th>shareswadil</th>\n",
       "      <th>sps</th>\n",
       "      <th>tangibles</th>\n",
       "      <th>taxassets</th>\n",
       "      <th>taxexp</th>\n",
       "      <th>taxliabilities</th>\n",
       "      <th>tbvps</th>\n",
       "      <th>workingcapital</th>\n",
       "    </tr>\n",
       "  </thead>\n",
       "  <tbody>\n",
       "    <tr>\n",
       "      <th>0</th>\n",
       "      <td>MET</td>\n",
       "      <td>ARQ</td>\n",
       "      <td>2011-03-31</td>\n",
       "      <td>2011-05-10</td>\n",
       "      <td>2011-03-31</td>\n",
       "      <td>2023-11-02</td>\n",
       "      <td>1.115000e+09</td>\n",
       "      <td>7.513410e+11</td>\n",
       "      <td>None</td>\n",
       "      <td>None</td>\n",
       "      <td>...</td>\n",
       "      <td>1.057040e+09</td>\n",
       "      <td>1.057040e+09</td>\n",
       "      <td>None</td>\n",
       "      <td>15.053</td>\n",
       "      <td>7.393950e+11</td>\n",
       "      <td>0.0</td>\n",
       "      <td>4.280000e+08</td>\n",
       "      <td>2.351000e+09</td>\n",
       "      <td>699.495</td>\n",
       "      <td>None</td>\n",
       "    </tr>\n",
       "    <tr>\n",
       "      <th>1</th>\n",
       "      <td>MET</td>\n",
       "      <td>ARQ</td>\n",
       "      <td>2011-06-30</td>\n",
       "      <td>2011-08-05</td>\n",
       "      <td>2011-06-30</td>\n",
       "      <td>2023-11-02</td>\n",
       "      <td>3.356000e+09</td>\n",
       "      <td>7.714830e+11</td>\n",
       "      <td>None</td>\n",
       "      <td>None</td>\n",
       "      <td>...</td>\n",
       "      <td>1.057494e+09</td>\n",
       "      <td>1.057494e+09</td>\n",
       "      <td>None</td>\n",
       "      <td>16.218</td>\n",
       "      <td>7.594470e+11</td>\n",
       "      <td>0.0</td>\n",
       "      <td>5.190000e+08</td>\n",
       "      <td>3.897000e+09</td>\n",
       "      <td>718.158</td>\n",
       "      <td>None</td>\n",
       "    </tr>\n",
       "    <tr>\n",
       "      <th>2</th>\n",
       "      <td>MET</td>\n",
       "      <td>ARQ</td>\n",
       "      <td>2011-09-30</td>\n",
       "      <td>2011-11-04</td>\n",
       "      <td>2011-09-30</td>\n",
       "      <td>2023-11-02</td>\n",
       "      <td>6.813000e+09</td>\n",
       "      <td>7.852300e+11</td>\n",
       "      <td>None</td>\n",
       "      <td>None</td>\n",
       "      <td>...</td>\n",
       "      <td>1.057634e+09</td>\n",
       "      <td>1.057634e+09</td>\n",
       "      <td>None</td>\n",
       "      <td>19.343</td>\n",
       "      <td>7.732240e+11</td>\n",
       "      <td>0.0</td>\n",
       "      <td>1.734000e+09</td>\n",
       "      <td>7.599000e+09</td>\n",
       "      <td>731.088</td>\n",
       "      <td>None</td>\n",
       "    </tr>\n",
       "  </tbody>\n",
       "</table>\n",
       "<p>3 rows × 111 columns</p>\n",
       "</div>"
      ],
      "text/plain": [
       "  ticker dimension calendardate     datekey reportperiod lastupdated  \\\n",
       "0    MET       ARQ   2011-03-31  2011-05-10   2011-03-31  2023-11-02   \n",
       "1    MET       ARQ   2011-06-30  2011-08-05   2011-06-30  2023-11-02   \n",
       "2    MET       ARQ   2011-09-30  2011-11-04   2011-09-30  2023-11-02   \n",
       "\n",
       "         accoci        assets assetsavg assetsc  ...     sharesbas  \\\n",
       "0  1.115000e+09  7.513410e+11      None    None  ...  1.057040e+09   \n",
       "1  3.356000e+09  7.714830e+11      None    None  ...  1.057494e+09   \n",
       "2  6.813000e+09  7.852300e+11      None    None  ...  1.057634e+09   \n",
       "\n",
       "       shareswa  shareswadil     sps     tangibles  taxassets        taxexp  \\\n",
       "0  1.057040e+09         None  15.053  7.393950e+11        0.0  4.280000e+08   \n",
       "1  1.057494e+09         None  16.218  7.594470e+11        0.0  5.190000e+08   \n",
       "2  1.057634e+09         None  19.343  7.732240e+11        0.0  1.734000e+09   \n",
       "\n",
       "   taxliabilities    tbvps  workingcapital  \n",
       "0    2.351000e+09  699.495            None  \n",
       "1    3.897000e+09  718.158            None  \n",
       "2    7.599000e+09  731.088            None  \n",
       "\n",
       "[3 rows x 111 columns]"
      ]
     },
     "execution_count": 111,
     "metadata": {
      "slideshow": {
       "slide_type": "slide"
      }
     },
     "output_type": "execute_result"
    }
   ],
   "source": [
    "sf1 = pd.read_sql(\"select top 3 * from sf1\", conn)\n",
    "sf1"
   ]
  },
  {
   "cell_type": "code",
   "execution_count": 112,
   "metadata": {
    "slideshow": {
     "slide_type": "slide"
    }
   },
   "outputs": [
    {
     "name": "stdout",
     "output_type": "stream",
     "text": [
      "ticker\n",
      "dimension\n",
      "calendardate\n",
      "datekey\n",
      "reportperiod\n",
      "lastupdated\n",
      "accoci\n",
      "assets\n",
      "assetsavg\n",
      "assetsc\n",
      "assetsnc\n",
      "assetturnover\n",
      "bvps\n",
      "capex\n",
      "cashneq\n",
      "cashnequsd\n",
      "cor\n",
      "consolinc\n",
      "currentratio\n",
      "de\n",
      "debt\n",
      "debtc\n",
      "debtnc\n",
      "debtusd\n",
      "deferredrev\n",
      "depamor\n",
      "deposits\n",
      "divyield\n",
      "dps\n",
      "ebit\n",
      "ebitda\n",
      "ebitdamargin\n",
      "ebitdausd\n",
      "ebitusd\n",
      "ebt\n",
      "eps\n",
      "epsdil\n",
      "epsusd\n",
      "equity\n",
      "equityavg\n",
      "equityusd\n",
      "ev\n",
      "evebit\n",
      "evebitda\n",
      "fcf\n",
      "fcfps\n",
      "fxusd\n",
      "gp\n",
      "grossmargin\n",
      "intangibles\n",
      "intexp\n",
      "invcap\n",
      "invcapavg\n",
      "inventory\n",
      "investments\n",
      "investmentsc\n",
      "investmentsnc\n",
      "liabilities\n",
      "liabilitiesc\n",
      "liabilitiesnc\n",
      "marketcap\n",
      "ncf\n",
      "ncfbus\n",
      "ncfcommon\n",
      "ncfdebt\n",
      "ncfdiv\n",
      "ncff\n",
      "ncfi\n",
      "ncfinv\n",
      "ncfo\n",
      "ncfx\n",
      "netinc\n",
      "netinccmn\n",
      "netinccmnusd\n",
      "netincdis\n",
      "netincnci\n",
      "netmargin\n",
      "opex\n",
      "opinc\n",
      "payables\n",
      "payoutratio\n",
      "pb\n",
      "pe\n",
      "pe1\n",
      "ppnenet\n",
      "prefdivis\n",
      "price\n",
      "ps\n",
      "ps1\n",
      "receivables\n",
      "retearn\n",
      "revenue\n",
      "revenueusd\n",
      "rnd\n",
      "roa\n",
      "roe\n",
      "roic\n",
      "ros\n",
      "sbcomp\n",
      "sgna\n",
      "sharefactor\n",
      "sharesbas\n",
      "shareswa\n",
      "shareswadil\n",
      "sps\n",
      "tangibles\n",
      "taxassets\n",
      "taxexp\n",
      "taxliabilities\n",
      "tbvps\n",
      "workingcapital\n"
     ]
    }
   ],
   "source": [
    "for col in sf1.columns: print(col)"
   ]
  },
  {
   "cell_type": "markdown",
   "metadata": {
    "slideshow": {
     "slide_type": "slide"
    }
   },
   "source": [
    "### sep_weekly \n",
    "\n",
    "sep_weekly has weekly open (opn), high, low, closeadj, closeunad, and average daily volume"
   ]
  },
  {
   "cell_type": "code",
   "execution_count": 113,
   "metadata": {
    "slideshow": {
     "slide_type": "slide"
    }
   },
   "outputs": [],
   "source": [
    "sep_weekly = pd.read_sql(\"select top 3 * from sep_weekly\", conn)"
   ]
  },
  {
   "cell_type": "markdown",
   "metadata": {
    "slideshow": {
     "slide_type": "slide"
    }
   },
   "source": [
    "### weekly \n",
    "\n",
    "weekly has end-of-week enterprise value, enterprise value to ebit, enterprise value to ebitda, marketcap, price to book, price to earnings, and price to sales"
   ]
  },
  {
   "cell_type": "code",
   "execution_count": 114,
   "metadata": {
    "slideshow": {
     "slide_type": "slide"
    }
   },
   "outputs": [
    {
     "data": {
      "text/html": [
       "<div>\n",
       "<style scoped>\n",
       "    .dataframe tbody tr th:only-of-type {\n",
       "        vertical-align: middle;\n",
       "    }\n",
       "\n",
       "    .dataframe tbody tr th {\n",
       "        vertical-align: top;\n",
       "    }\n",
       "\n",
       "    .dataframe thead th {\n",
       "        text-align: right;\n",
       "    }\n",
       "</style>\n",
       "<table border=\"1\" class=\"dataframe\">\n",
       "  <thead>\n",
       "    <tr style=\"text-align: right;\">\n",
       "      <th></th>\n",
       "      <th>ticker</th>\n",
       "      <th>date</th>\n",
       "      <th>lastupdated</th>\n",
       "      <th>ev</th>\n",
       "      <th>evebit</th>\n",
       "      <th>evebitda</th>\n",
       "      <th>marketcap</th>\n",
       "      <th>pb</th>\n",
       "      <th>pe</th>\n",
       "      <th>ps</th>\n",
       "    </tr>\n",
       "  </thead>\n",
       "  <tbody>\n",
       "    <tr>\n",
       "      <th>0</th>\n",
       "      <td>A</td>\n",
       "      <td>2000-01-07</td>\n",
       "      <td>2019-03-28</td>\n",
       "      <td>32040.0</td>\n",
       "      <td>47.9</td>\n",
       "      <td>28.9</td>\n",
       "      <td>32040.0</td>\n",
       "      <td>10.0</td>\n",
       "      <td>62.6</td>\n",
       "      <td>4.7</td>\n",
       "    </tr>\n",
       "    <tr>\n",
       "      <th>1</th>\n",
       "      <td>A</td>\n",
       "      <td>2000-01-14</td>\n",
       "      <td>2019-03-28</td>\n",
       "      <td>30678.3</td>\n",
       "      <td>45.9</td>\n",
       "      <td>27.7</td>\n",
       "      <td>30678.3</td>\n",
       "      <td>9.5</td>\n",
       "      <td>59.9</td>\n",
       "      <td>4.5</td>\n",
       "    </tr>\n",
       "    <tr>\n",
       "      <th>2</th>\n",
       "      <td>A</td>\n",
       "      <td>2000-01-21</td>\n",
       "      <td>2019-03-28</td>\n",
       "      <td>31817.5</td>\n",
       "      <td>47.6</td>\n",
       "      <td>28.7</td>\n",
       "      <td>31817.5</td>\n",
       "      <td>9.9</td>\n",
       "      <td>62.1</td>\n",
       "      <td>4.7</td>\n",
       "    </tr>\n",
       "  </tbody>\n",
       "</table>\n",
       "</div>"
      ],
      "text/plain": [
       "  ticker        date lastupdated       ev  evebit  evebitda  marketcap    pb  \\\n",
       "0      A  2000-01-07  2019-03-28  32040.0    47.9      28.9    32040.0  10.0   \n",
       "1      A  2000-01-14  2019-03-28  30678.3    45.9      27.7    30678.3   9.5   \n",
       "2      A  2000-01-21  2019-03-28  31817.5    47.6      28.7    31817.5   9.9   \n",
       "\n",
       "     pe   ps  \n",
       "0  62.6  4.7  \n",
       "1  59.9  4.5  \n",
       "2  62.1  4.7  "
      ]
     },
     "execution_count": 114,
     "metadata": {
      "slideshow": {
       "slide_type": "slide"
      }
     },
     "output_type": "execute_result"
    }
   ],
   "source": [
    "pd.read_sql(\"select top 3 * from weekly\", conn)"
   ]
  },
  {
   "cell_type": "markdown",
   "metadata": {
    "slideshow": {
     "slide_type": "slide"
    }
   },
   "source": [
    "## Examples of constructing features"
   ]
  },
  {
   "cell_type": "markdown",
   "metadata": {
    "slideshow": {
     "slide_type": "slide"
    }
   },
   "source": [
    "- Momentum, price-to-book, marketcap, ROE, asset growth\n",
    "- Tables\n",
    "  - sep_weekly: closeadj $\\rightarrow$ returns and momentum, closeunadj $\\rightarrow$ exclude penny stocks\n",
    "  - weekly: price-to-book and marketcap\n",
    "  - sf1: assets $\\rightarrow$ asset growth, netinc and equity $\\rightarrow$ roe\n",
    "- We will limit the date range to 2010 on for speed.\n",
    "- Rarely, there are strange data entries - two rows for the same ticker/date.  We'll keep the last updated row in this case."
   ]
  },
  {
   "cell_type": "markdown",
   "metadata": {
    "slideshow": {
     "slide_type": "slide"
    }
   },
   "source": [
    "### sep_weekly"
   ]
  },
  {
   "cell_type": "code",
   "execution_count": 115,
   "metadata": {
    "slideshow": {
     "slide_type": "slide"
    }
   },
   "outputs": [],
   "source": [
    "sep_weekly = pd.read_sql(\n",
    "    \"\"\" \n",
    "    select date, ticker, closeadj, closeunadj, lastupdated from sep_weekly \n",
    "    where date >= '2010-01-01'\n",
    "    order by ticker, date, lastupdated    \n",
    "    \"\"\",\n",
    "    conn,\n",
    ")\n",
    "sep_weekly = sep_weekly.groupby([\"ticker\", \"date\"]).last()\n",
    "sep_weekly = sep_weekly.drop(columns=[\"lastupdated\"])\n",
    "\n",
    "ret = sep_weekly.groupby(\"ticker\", group_keys=False).closeadj.pct_change()\n",
    "ret.name = \"ret\"\n",
    "\n",
    "price = sep_weekly.closeunadj\n",
    "price.name = \"price\""
   ]
  },
  {
   "cell_type": "markdown",
   "metadata": {
    "slideshow": {
     "slide_type": "slide"
    }
   },
   "source": [
    "### Momentum\n",
    "\n",
    "- What people have found in equities and other markets (see \"Value and Momentum Everywhere\" by Asness and other AQR people) is\n",
    "  - long-term reversals (5 year returns reverse somewhat)\n",
    "  - medium-term momentum (1 year or 6 month returns continue)\n",
    "  - short-term reversals (1 month or 1 week returns reverse)\n",
    "- The conventional definition of momentum in academic work (including the Asness paper) is last year's return excluding the most recent month\n",
    "  - In other words, the return over the first 11 of the previous 12 months."
   ]
  },
  {
   "cell_type": "markdown",
   "metadata": {
    "slideshow": {
     "slide_type": "slide"
    }
   },
   "source": [
    "### Calculating momentum\n",
    "\n",
    "- Each week, we want to look back one year and compound the returns, excluding the most recent month.\n",
    "- Count the weeks in the prior year as 1, 2, ..., 52.\n",
    "- We want to calculate $(1+r_1)\\cdots (1+r_{48})$.\n",
    "- We can do this as\n",
    "$$\\frac{(1+r_1)\\cdots (1+r_{52})}{(1+r_{49})\\cdots (1+r_{52})}$$\n",
    "- In other words,\n",
    "$$\\frac{1 + \\text{last year's return}}{1+\\text{last month's return}}$$"
   ]
  },
  {
   "cell_type": "code",
   "execution_count": 116,
   "metadata": {
    "slideshow": {
     "slide_type": "slide"
    }
   },
   "outputs": [],
   "source": [
    "ret_annual = sep_weekly.groupby(\"ticker\", group_keys=False).closeadj.pct_change(52)\n",
    "ret_monthly = sep_weekly.groupby(\"ticker\", group_keys=False).closeadj.pct_change(4)\n",
    "mom = (1 + ret_annual) / (1 + ret_monthly) - 1\n",
    "mom.name = \"mom\""
   ]
  },
  {
   "cell_type": "markdown",
   "metadata": {
    "slideshow": {
     "slide_type": "slide"
    }
   },
   "source": [
    "### Value\n",
    "\n",
    "- Value means cheap relative to quality.  Value investing has a very long tradition.\n",
    "- Conventional measures are price-to-earnings (PE) and price-to-book (PB).\n",
    "- Low PE or low PB stocks are value stocks.  High PE or PB stocks are \"growth stocks\" or \"glamour stocks.\"\n",
    "- We'll get PB, but PE is also worth exploring (also price-to-sales, price-to-clicks, ...)"
   ]
  },
  {
   "cell_type": "markdown",
   "metadata": {
    "slideshow": {
     "slide_type": "slide"
    }
   },
   "source": [
    "### weekly"
   ]
  },
  {
   "cell_type": "code",
   "execution_count": 117,
   "metadata": {
    "slideshow": {
     "slide_type": "slide"
    }
   },
   "outputs": [],
   "source": [
    "weekly = pd.read_sql(\n",
    "    \"\"\" \n",
    "    select date, ticker, pb, marketcap, lastupdated from weekly \n",
    "    where date>='2010-01-01'\n",
    "    order by ticker, date, lastupdated    \n",
    "    \"\"\",\n",
    "    conn,\n",
    ")\n",
    "weekly = weekly.groupby([\"ticker\", \"date\"]).last()\n",
    "weekly = weekly.drop(columns=[\"lastupdated\"])\n",
    "\n",
    "pb = weekly.pb\n",
    "pb.name = \"pb\" \n",
    "marketcap = weekly.marketcap \n",
    "marketcap.name = \"marketcap\""
   ]
  },
  {
   "cell_type": "markdown",
   "metadata": {
    "slideshow": {
     "slide_type": "slide"
    }
   },
   "source": [
    "### Asset growth and ROE\n",
    "\n",
    "- Fast growing firms in terms of % change in assets have historically been poor investments.\n",
    "- Get total assets from sf1 (dimension=ARY) and compute % change year to year.\n",
    "- High ROE firms have historically been good investments.  Define ROE as net income / lagged book equity."
   ]
  },
  {
   "cell_type": "markdown",
   "metadata": {
    "slideshow": {
     "slide_type": "slide"
    }
   },
   "source": [
    "### Combining data of different frequencies \n",
    "\n",
    "- sf1 data is quarterly or annual.  date is date of posting on SEC website.\n",
    "- Other data is weekly = Fridays.\n",
    "- Convert sf1 dates to Fridays.  "
   ]
  },
  {
   "cell_type": "markdown",
   "metadata": {
    "slideshow": {
     "slide_type": "slide"
    }
   },
   "source": [
    "### sf1"
   ]
  },
  {
   "cell_type": "code",
   "execution_count": 118,
   "metadata": {
    "slideshow": {
     "slide_type": "slide"
    }
   },
   "outputs": [],
   "source": [
    "sf1 = pd.read_sql(\n",
    "    \"\"\" \n",
    "    select datekey as date, ticker, assets, netinc, equity, lastupdated from sf1\n",
    "    where datekey>='2010-01-01' and dimension='ARY' and assets>0 and equity>0\n",
    "    order by ticker, datekey, lastupdated    \n",
    "    \"\"\",\n",
    "    conn,\n",
    ")\n",
    "sf1 = sf1.groupby([\"ticker\", \"date\"]).last()\n",
    "sf1 = sf1.drop(columns=[\"lastupdated\"])\n",
    "\n",
    "# change dates to Fridays\n",
    "from datetime import timedelta \n",
    "sf1 = sf1.reset_index()\n",
    "sf1.date =sf1.date.map(\n",
    "    lambda x: x + timedelta(4 - x.weekday())\n",
    ")\n",
    "sf1 = sf1.set_index([\"ticker\", \"date\"])\n",
    "sf1 = sf1[~sf1.index.duplicated()]\n",
    "\n",
    "assets = sf1.assets\n",
    "assets.name = \"assets\" \n",
    "netinc = sf1.netinc \n",
    "netinc.name = \"netinc\" \n",
    "equity = sf1.equity\n",
    "equity.name = \"equity\""
   ]
  },
  {
   "cell_type": "markdown",
   "metadata": {
    "slideshow": {
     "slide_type": "slide"
    }
   },
   "source": [
    "## Sorts"
   ]
  },
  {
   "cell_type": "markdown",
   "metadata": {
    "slideshow": {
     "slide_type": "slide"
    }
   },
   "source": [
    "### Returns of portfolios based on sorts \n",
    "\n",
    "- Merge a feature or multiple features with returns.\n",
    "- Shift returns backwards.\n",
    "    - Return on each Friday is return ending on close of that Friday.\n",
    "    - Features are also known by Friday close.\n",
    "    - We want to use features to predict future returns, so shift returns backwards, so the following week's return is aligned with features.\n",
    "- Exclude penny stocks (e.g., price >= 5).\n",
    "- Sort each week into groups based on feature(s) - e.g., deciles.\n",
    "- Compute average (following week) return in each decile.  This is the return of the portfolio that is equally weighted (same $ investment in each stock)."
   ]
  },
  {
   "cell_type": "markdown",
   "metadata": {
    "slideshow": {
     "slide_type": "slide"
    }
   },
   "source": [
    "### Sorting on momentum"
   ]
  },
  {
   "cell_type": "code",
   "execution_count": 119,
   "metadata": {
    "slideshow": {
     "slide_type": "slide"
    }
   },
   "outputs": [
    {
     "data": {
      "text/html": [
       "<div>\n",
       "<style scoped>\n",
       "    .dataframe tbody tr th:only-of-type {\n",
       "        vertical-align: middle;\n",
       "    }\n",
       "\n",
       "    .dataframe tbody tr th {\n",
       "        vertical-align: top;\n",
       "    }\n",
       "\n",
       "    .dataframe thead th {\n",
       "        text-align: right;\n",
       "    }\n",
       "</style>\n",
       "<table border=\"1\" class=\"dataframe\">\n",
       "  <thead>\n",
       "    <tr style=\"text-align: right;\">\n",
       "      <th>mom10</th>\n",
       "      <th>1</th>\n",
       "      <th>2</th>\n",
       "      <th>3</th>\n",
       "      <th>4</th>\n",
       "      <th>5</th>\n",
       "      <th>6</th>\n",
       "      <th>7</th>\n",
       "      <th>8</th>\n",
       "      <th>9</th>\n",
       "      <th>10</th>\n",
       "    </tr>\n",
       "    <tr>\n",
       "      <th>date</th>\n",
       "      <th></th>\n",
       "      <th></th>\n",
       "      <th></th>\n",
       "      <th></th>\n",
       "      <th></th>\n",
       "      <th></th>\n",
       "      <th></th>\n",
       "      <th></th>\n",
       "      <th></th>\n",
       "      <th></th>\n",
       "    </tr>\n",
       "  </thead>\n",
       "  <tbody>\n",
       "    <tr>\n",
       "      <th>2010-12-31</th>\n",
       "      <td>0.016544</td>\n",
       "      <td>0.014900</td>\n",
       "      <td>0.008000</td>\n",
       "      <td>0.008447</td>\n",
       "      <td>0.005864</td>\n",
       "      <td>0.005382</td>\n",
       "      <td>0.008048</td>\n",
       "      <td>0.015140</td>\n",
       "      <td>0.008667</td>\n",
       "      <td>0.016340</td>\n",
       "    </tr>\n",
       "    <tr>\n",
       "      <th>2011-01-07</th>\n",
       "      <td>-0.002317</td>\n",
       "      <td>-0.002727</td>\n",
       "      <td>-0.001495</td>\n",
       "      <td>-0.005026</td>\n",
       "      <td>-0.005653</td>\n",
       "      <td>-0.005736</td>\n",
       "      <td>-0.001783</td>\n",
       "      <td>-0.005401</td>\n",
       "      <td>-0.000301</td>\n",
       "      <td>0.004876</td>\n",
       "    </tr>\n",
       "    <tr>\n",
       "      <th>2011-01-14</th>\n",
       "      <td>0.016414</td>\n",
       "      <td>0.018445</td>\n",
       "      <td>0.015778</td>\n",
       "      <td>0.014730</td>\n",
       "      <td>0.012619</td>\n",
       "      <td>0.011439</td>\n",
       "      <td>0.012473</td>\n",
       "      <td>0.014187</td>\n",
       "      <td>0.014875</td>\n",
       "      <td>0.011677</td>\n",
       "    </tr>\n",
       "    <tr>\n",
       "      <th>2011-01-21</th>\n",
       "      <td>-0.023235</td>\n",
       "      <td>-0.016761</td>\n",
       "      <td>-0.016063</td>\n",
       "      <td>-0.008631</td>\n",
       "      <td>-0.012379</td>\n",
       "      <td>-0.011164</td>\n",
       "      <td>-0.015339</td>\n",
       "      <td>-0.014652</td>\n",
       "      <td>-0.022201</td>\n",
       "      <td>-0.038894</td>\n",
       "    </tr>\n",
       "    <tr>\n",
       "      <th>2011-01-28</th>\n",
       "      <td>-0.006885</td>\n",
       "      <td>-0.002044</td>\n",
       "      <td>0.001404</td>\n",
       "      <td>-0.000768</td>\n",
       "      <td>0.001841</td>\n",
       "      <td>0.002883</td>\n",
       "      <td>0.005465</td>\n",
       "      <td>0.008136</td>\n",
       "      <td>0.010907</td>\n",
       "      <td>0.010893</td>\n",
       "    </tr>\n",
       "  </tbody>\n",
       "</table>\n",
       "</div>"
      ],
      "text/plain": [
       "mom10              1         2         3         4         5         6  \\\n",
       "date                                                                     \n",
       "2010-12-31  0.016544  0.014900  0.008000  0.008447  0.005864  0.005382   \n",
       "2011-01-07 -0.002317 -0.002727 -0.001495 -0.005026 -0.005653 -0.005736   \n",
       "2011-01-14  0.016414  0.018445  0.015778  0.014730  0.012619  0.011439   \n",
       "2011-01-21 -0.023235 -0.016761 -0.016063 -0.008631 -0.012379 -0.011164   \n",
       "2011-01-28 -0.006885 -0.002044  0.001404 -0.000768  0.001841  0.002883   \n",
       "\n",
       "mom10              7         8         9        10  \n",
       "date                                                \n",
       "2010-12-31  0.008048  0.015140  0.008667  0.016340  \n",
       "2011-01-07 -0.001783 -0.005401 -0.000301  0.004876  \n",
       "2011-01-14  0.012473  0.014187  0.014875  0.011677  \n",
       "2011-01-21 -0.015339 -0.014652 -0.022201 -0.038894  \n",
       "2011-01-28  0.005465  0.008136  0.010907  0.010893  "
      ]
     },
     "execution_count": 119,
     "metadata": {
      "slideshow": {
       "slide_type": "slide"
      }
     },
     "output_type": "execute_result"
    }
   ],
   "source": [
    "df = pd.concat((ret, mom, price), axis=1)\n",
    "df[\"ret\"] = df.groupby(\"ticker\", group_keys=False).ret.shift(-1)\n",
    "df = df[df.price >= 5]\n",
    "df = df.dropna()\n",
    "\n",
    "df[\"mom10\"] = df.groupby(\"date\", group_keys=False).mom.apply(\n",
    "    lambda x: pd.qcut(x, 10, labels=range(1, 11))\n",
    ")\n",
    "mom10 = df.groupby(\n",
    "    [\"date\", \"mom10\"], \n",
    "    observed=True,\n",
    "    group_keys=True\n",
    ").ret.mean().unstack()\n",
    "\n",
    "mom10.head()"
   ]
  },
  {
   "cell_type": "code",
   "execution_count": 120,
   "metadata": {
    "slideshow": {
     "slide_type": "slide"
    }
   },
   "outputs": [
    {
     "data": {
      "text/plain": [
       "mom10\n",
       "1      3.83\n",
       "2      8.82\n",
       "3     10.68\n",
       "4     11.91\n",
       "5     13.25\n",
       "6     12.76\n",
       "7     11.34\n",
       "8     11.34\n",
       "9     13.91\n",
       "10    14.47\n",
       "dtype: float64"
      ]
     },
     "execution_count": 120,
     "metadata": {
      "slideshow": {
       "slide_type": "slide"
      }
     },
     "output_type": "execute_result"
    }
   ],
   "source": [
    "(100 * 52 * mom10.mean()).round(2)"
   ]
  },
  {
   "cell_type": "markdown",
   "metadata": {
    "slideshow": {
     "slide_type": "slide"
    }
   },
   "source": [
    "### Does size matter?\n",
    "\n",
    "Repeat for small caps, defined as not in the top 1,000 by marketcap."
   ]
  },
  {
   "cell_type": "code",
   "execution_count": 121,
   "metadata": {
    "slideshow": {
     "slide_type": "slide"
    }
   },
   "outputs": [
    {
     "data": {
      "text/plain": [
       "mom10\n",
       "1      2.02\n",
       "2      7.71\n",
       "3     10.56\n",
       "4     10.37\n",
       "5     12.59\n",
       "6     12.99\n",
       "7     11.68\n",
       "8     10.90\n",
       "9     13.44\n",
       "10    14.58\n",
       "dtype: float64"
      ]
     },
     "execution_count": 121,
     "metadata": {
      "slideshow": {
       "slide_type": "slide"
      }
     },
     "output_type": "execute_result"
    }
   ],
   "source": [
    "df = pd.concat((ret, mom, price, marketcap), axis=1)\n",
    "df[\"ret\"] = df.groupby(\"ticker\", group_keys=False).ret.shift(-1)\n",
    "df = df[df.price >= 5]\n",
    "df[\"rnk\"] = df.groupby(\"date\", group_keys=False).marketcap.rank(ascending=False)\n",
    "df = df[df.rnk>1000]\n",
    "df = df.dropna()\n",
    "\n",
    "df[\"mom10\"] = df.groupby(\"date\", group_keys=False).mom.apply(\n",
    "    lambda x: pd.qcut(x, 10, labels=range(1, 11))\n",
    ")\n",
    "mom10 = df.groupby(\n",
    "    [\"date\", \"mom10\"], \n",
    "    observed=True,\n",
    "    group_keys=True\n",
    ").ret.mean().unstack()\n",
    "\n",
    "(100 * 52 * mom10.mean()).round(2)"
   ]
  },
  {
   "cell_type": "markdown",
   "metadata": {
    "slideshow": {
     "slide_type": "slide"
    }
   },
   "source": [
    "### Exercise\n",
    "\n",
    "- Sort into deciles based on marketcap (using all stocks, not just small caps).\n",
    "- Compute equally weighted portfolio returns."
   ]
  },
  {
   "cell_type": "markdown",
   "metadata": {
    "slideshow": {
     "slide_type": "slide"
    }
   },
   "source": [
    "### Double sort on momentum and price-to-book\n",
    "\n",
    "- Sort into quintiles on mom and pb separately\n",
    "- Intersect the quintiles to get 25 groups each week\n",
    "- Compute equally weighted portfolio returns"
   ]
  },
  {
   "cell_type": "code",
   "execution_count": 122,
   "metadata": {
    "slideshow": {
     "slide_type": "slide"
    }
   },
   "outputs": [
    {
     "data": {
      "text/html": [
       "<div>\n",
       "<style scoped>\n",
       "    .dataframe tbody tr th:only-of-type {\n",
       "        vertical-align: middle;\n",
       "    }\n",
       "\n",
       "    .dataframe tbody tr th {\n",
       "        vertical-align: top;\n",
       "    }\n",
       "\n",
       "    .dataframe thead th {\n",
       "        text-align: right;\n",
       "    }\n",
       "</style>\n",
       "<table border=\"1\" class=\"dataframe\">\n",
       "  <thead>\n",
       "    <tr style=\"text-align: right;\">\n",
       "      <th>mom5</th>\n",
       "      <th>1</th>\n",
       "      <th>2</th>\n",
       "      <th>3</th>\n",
       "      <th>4</th>\n",
       "      <th>5</th>\n",
       "    </tr>\n",
       "    <tr>\n",
       "      <th>pb5</th>\n",
       "      <th></th>\n",
       "      <th></th>\n",
       "      <th></th>\n",
       "      <th></th>\n",
       "      <th></th>\n",
       "    </tr>\n",
       "  </thead>\n",
       "  <tbody>\n",
       "    <tr>\n",
       "      <th>1</th>\n",
       "      <td>4.20</td>\n",
       "      <td>13.23</td>\n",
       "      <td>16.01</td>\n",
       "      <td>13.85</td>\n",
       "      <td>15.04</td>\n",
       "    </tr>\n",
       "    <tr>\n",
       "      <th>2</th>\n",
       "      <td>7.47</td>\n",
       "      <td>10.68</td>\n",
       "      <td>10.72</td>\n",
       "      <td>10.71</td>\n",
       "      <td>12.76</td>\n",
       "    </tr>\n",
       "    <tr>\n",
       "      <th>3</th>\n",
       "      <td>8.19</td>\n",
       "      <td>10.27</td>\n",
       "      <td>11.47</td>\n",
       "      <td>11.12</td>\n",
       "      <td>14.55</td>\n",
       "    </tr>\n",
       "    <tr>\n",
       "      <th>4</th>\n",
       "      <td>7.42</td>\n",
       "      <td>11.34</td>\n",
       "      <td>13.33</td>\n",
       "      <td>11.56</td>\n",
       "      <td>11.82</td>\n",
       "    </tr>\n",
       "    <tr>\n",
       "      <th>5</th>\n",
       "      <td>2.63</td>\n",
       "      <td>10.90</td>\n",
       "      <td>12.64</td>\n",
       "      <td>12.29</td>\n",
       "      <td>15.23</td>\n",
       "    </tr>\n",
       "  </tbody>\n",
       "</table>\n",
       "</div>"
      ],
      "text/plain": [
       "mom5     1      2      3      4      5\n",
       "pb5                                   \n",
       "1     4.20  13.23  16.01  13.85  15.04\n",
       "2     7.47  10.68  10.72  10.71  12.76\n",
       "3     8.19  10.27  11.47  11.12  14.55\n",
       "4     7.42  11.34  13.33  11.56  11.82\n",
       "5     2.63  10.90  12.64  12.29  15.23"
      ]
     },
     "execution_count": 122,
     "metadata": {
      "slideshow": {
       "slide_type": "slide"
      }
     },
     "output_type": "execute_result"
    }
   ],
   "source": [
    "df = pd.concat((ret, mom, pb, price), axis=1)\n",
    "df[\"ret\"] = df.groupby(\"ticker\", group_keys=False).ret.shift(-1)\n",
    "df = df[df.price >= 5]\n",
    "df = df.dropna()\n",
    "\n",
    "df[\"mom5\"] = df.groupby(\"date\", group_keys=False).mom.apply(\n",
    "    lambda x: pd.qcut(x, 5, labels=range(1, 6))\n",
    ")\n",
    "df[\"pb5\"] = df.groupby(\"date\", group_keys=False).pb.apply(\n",
    "    lambda x: pd.qcut(x, 5, labels=range(1, 6))\n",
    ")\n",
    "\n",
    "mom5_pb5 = df.groupby(\n",
    "    [\"date\", \"mom5\", \"pb5\"], \n",
    "    observed=True,\n",
    "    group_keys=True\n",
    ").ret.mean().unstack(level=[\"pb5\", \"mom5\"])\n",
    "\n",
    "(100 * 52 * mom5_pb5.mean()).round(2).unstack()"
   ]
  },
  {
   "cell_type": "markdown",
   "metadata": {
    "slideshow": {
     "slide_type": "slide"
    }
   },
   "source": [
    "### Exercise \n",
    "\n",
    "Intersect quintile sorts on momentum and marketcap and compute mean portfolio returns."
   ]
  },
  {
   "cell_type": "markdown",
   "metadata": {
    "slideshow": {
     "slide_type": "slide"
    }
   },
   "source": [
    "### Sorting on ROE\n",
    "\n",
    "- Compute roe = netinc / lagged equity\n",
    "- Merge with returns and prices\n",
    "- Forward fill roe into weeks.  Each week will show the most recently reported roe.  roe will change only once per year when a new annual report comes out.\n",
    "- roe will be missing until a firm has filed two annual reports.  So we start the data in 2012 (2 years after 2010)."
   ]
  },
  {
   "cell_type": "code",
   "execution_count": 123,
   "metadata": {
    "slideshow": {
     "slide_type": "slide"
    }
   },
   "outputs": [
    {
     "data": {
      "text/plain": [
       "roe10\n",
       "1      6.78\n",
       "2     10.69\n",
       "3     11.34\n",
       "4     12.54\n",
       "5     12.78\n",
       "6     13.17\n",
       "7     13.42\n",
       "8     13.98\n",
       "9     14.71\n",
       "10    13.21\n",
       "dtype: float64"
      ]
     },
     "execution_count": 123,
     "metadata": {
      "slideshow": {
       "slide_type": "slide"
      }
     },
     "output_type": "execute_result"
    }
   ],
   "source": [
    "equity = equity.groupby(\"ticker\", group_keys=False).shift() \n",
    "roe = netinc / equity \n",
    "roe.name = \"roe\"\n",
    "\n",
    "df = pd.concat((ret, roe, price), axis=1)\n",
    "df[\"ret\"] = df.groupby(\"ticker\", group_keys=False).ret.shift(-1)\n",
    "\n",
    "## forward fill\n",
    "df[\"roe\"] = df.groupby(\"ticker\", group_keys=False).roe.ffill()\n",
    "\n",
    "df = df[df.price >= 5]\n",
    "df = df[df.index.get_level_values(\"date\").astype(str) >= \"2012-01-01\"]\n",
    "df = df.dropna()\n",
    "\n",
    "df[\"roe10\"] = df.groupby(\"date\", group_keys=False).roe.apply(\n",
    "    lambda x: pd.qcut(x, 10, labels=range(1, 11))\n",
    ")\n",
    "roe10 = df.groupby(\n",
    "    [\"date\", \"roe10\"], \n",
    "    observed=True,\n",
    "    group_keys=True\n",
    ").ret.mean().unstack()\n",
    "\n",
    "(100 * 52 * roe10.mean()).round(2)"
   ]
  },
  {
   "cell_type": "markdown",
   "metadata": {
    "slideshow": {
     "slide_type": "slide"
    }
   },
   "source": [
    "### Sorting on asset growth\n",
    "\n",
    "- % change in assets \n",
    "- Forward fill and subset to date >= 2012-01-01 as for roe"
   ]
  },
  {
   "cell_type": "code",
   "execution_count": 124,
   "metadata": {
    "slideshow": {
     "slide_type": "slide"
    }
   },
   "outputs": [
    {
     "data": {
      "text/plain": [
       "assetgr10\n",
       "1     11.65\n",
       "2     12.88\n",
       "3     11.04\n",
       "4     12.78\n",
       "5     13.88\n",
       "6     13.69\n",
       "7     13.94\n",
       "8     13.58\n",
       "9     12.21\n",
       "10     7.01\n",
       "dtype: float64"
      ]
     },
     "execution_count": 124,
     "metadata": {
      "slideshow": {
       "slide_type": "slide"
      }
     },
     "output_type": "execute_result"
    }
   ],
   "source": [
    "assetgr = assets.groupby(\"ticker\", group_keys=False).pct_change()\n",
    "assetgr.name = \"assetgr\"\n",
    "\n",
    "df = pd.concat((ret, assetgr, price), axis=1)\n",
    "df[\"ret\"] = df.groupby(\"ticker\", group_keys=False).ret.shift(-1)\n",
    "\n",
    "## forward fill\n",
    "df[\"assetgr\"] = df.groupby(\"ticker\", group_keys=False).assetgr.ffill()\n",
    "\n",
    "df = df[df.price >= 5]\n",
    "df = df[df.index.get_level_values(\"date\").astype(str) >= \"2012-01-01\"]\n",
    "df = df.dropna()\n",
    "\n",
    "df[\"assetgr10\"] = df.groupby(\"date\", group_keys=False).assetgr.apply(\n",
    "    lambda x: pd.qcut(x, 10, labels=range(1, 11))\n",
    ")\n",
    "assetgr10 = df.groupby(\n",
    "    [\"date\", \"assetgr10\"], \n",
    "    observed=True,\n",
    "    group_keys=True\n",
    ").ret.mean().unstack()\n",
    "\n",
    "(100 * 52 * assetgr10.mean()).round(2)"
   ]
  }
 ],
 "metadata": {
  "kernelspec": {
   "display_name": "Python 3",
   "language": "python",
   "name": "python3"
  },
  "language_info": {
   "codemirror_mode": {
    "name": "ipython",
    "version": 3
   },
   "file_extension": ".py",
   "mimetype": "text/x-python",
   "name": "python",
   "nbconvert_exporter": "python",
   "pygments_lexer": "ipython3",
   "version": "3.10.11"
  }
 },
 "nbformat": 4,
 "nbformat_minor": 2
}
