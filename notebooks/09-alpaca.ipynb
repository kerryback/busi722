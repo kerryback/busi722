{
 "cells": [
  {
   "cell_type": "markdown",
   "metadata": {"slideshow": {"slide_type": "slide"}},
   "source": [
    "# Alpaca\n",
    "\n",
    "### BUSI 722: Data-Driven Finance II\n",
    "### Kerry Back, Rice University"
   ]
  },
  {
   "cell_type": "markdown",
   "metadata": {"slideshow": {"slide_type": "slide"}},
   "source": [
    "## Outline\n",
    "\n",
    "1. Create connection\n",
    "2. View account information\n",
    "3. View market information\n",
    "4. Make trades\n",
    "\n",
    "Note: log on to alpaca at https://alpaca.markets/ to get key and secret key"
   ]
  },
  {
   "cell_type": "code",
   "execution_count": 1,
   "metadata": {"slideshow": {"slide_type": "slide"}},
   "outputs": [],
   "source": [
    "import pandas as pd\n",
    "\n",
    "from alpaca.trading.client import TradingClient\n",
    "from alpaca.trading.requests import MarketOrderRequest\n",
    "from alpaca.trading.enums import OrderSide, TimeInForce\n",
    "from alpaca.trading.requests import GetAssetsRequest\n",
    "from alpaca.data import StockHistoricalDataClient\n",
    "from alpaca.data.requests import StockLatestQuoteRequest\n",
    "from alpaca.trading.enums import AssetClass"
   ]
  },
  {
   "cell_type": "markdown",
   "metadata": {"slideshow": {"slide_type": "slide"}},
   "source": [
    "## 1. Create Connection\n",
    "\n",
    "- Substitute your key and your secret key."
   ]
  },
  {
   "cell_type": "code",
   "execution_count": 2,
   "metadata": {"slideshow": {"slide_type": "slide"}},
   "outputs": [],
   "source": [
    "with open(\"keys.txt\", \"r\") as f:\n",
    "    keys = f.readlines()\n",
    "    key, secret_key = [x.strip() for x in keys]\n",
    "    \n",
    "trading_client = TradingClient(key, secret_key, paper=True)"
   ]
  },
  {
   "cell_type": "markdown",
   "metadata": {"slideshow": {"slide_type": "slide"}},
   "source": [
    "## 2. Account Information"
   ]
  },
  {
   "cell_type": "code",
   "execution_count": 3,
   "metadata": {"slideshow": {"slide_type": "slide"}},
   "outputs": [
    {
     "data": {
      "text/plain": [
       "{   'account_blocked': False,\n",
       "    'account_number': 'PA3J0LUAM1VV',\n",
       "    'accrued_fees': '0',\n",
       "    'buying_power': '194450.95',\n",
       "    'cash': '95929.6',\n",
       "    'created_at': datetime.datetime(2024, 2, 11, 16, 46, 29, 12993, tzinfo=datetime.timezone.utc),\n",
       "    'crypto_status': <AccountStatus.ACTIVE: 'ACTIVE'>,\n",
       "    'currency': 'USD',\n",
       "    'daytrade_count': 0,\n",
       "    'daytrading_buying_power': '0',\n",
       "    'equity': '99994.55',\n",
       "    'id': UUID('8955151d-0998-4e09-bae8-6f8ed3979f47'),\n",
       "    'initial_margin': '2953.23',\n",
       "    'last_equity': '99945.2',\n",
       "    'last_maintenance_margin': '1759.8',\n",
       "    'long_market_value': '4985.7',\n",
       "    'maintenance_margin': '1771.94',\n",
       "    'multiplier': '2',\n",
       "    'non_marginable_buying_power': '95041.32',\n",
       "    'pattern_day_trader': False,\n",
       "    'pending_transfer_in': '0',\n",
       "    'pending_transfer_out': None,\n",
       "    'portfolio_value': '99994.55',\n",
       "    'regt_buying_power': '194450.95',\n",
       "    'short_market_value': '-920.75',\n",
       "    'shorting_enabled': True,\n",
       "    'sma': '100003.65',\n",
       "    'status': <AccountStatus.ACTIVE: 'ACTIVE'>,\n",
       "    'trade_suspended_by_user': False,\n",
       "    'trading_blocked': False,\n",
       "    'transfers_blocked': False}"
      ]
     },
     "execution_count": 3,
     "metadata": {"slideshow": {"slide_type": "slide"}},
     "output_type": "execute_result"
    }
   ],
   "source": [
    "account = trading_client.get_account()\n",
    "account"
   ]
  },
  {
   "cell_type": "markdown",
   "metadata": {"slideshow": {"slide_type": "slide"}},
   "source": [
    "### Examples of retrieving account details"
   ]
  },
  {
   "cell_type": "code",
   "execution_count": 4,
   "metadata": {"slideshow": {"slide_type": "slide"}},
   "outputs": [
    {
     "name": "stdout",
     "output_type": "stream",
     "text": [
      "Account balance is 99994.55\n",
      "Yesterday's account balance was 99945.2\n",
      "Buying power is 194450.95\n",
      "Cash balance is 95929.6\n"
     ]
    }
   ],
   "source": [
    "print(\"Account balance is\", account.equity)\n",
    "print(\"Yesterday's account balance was\", account.last_equity)\n",
    "print(\"Buying power is\", account.buying_power)\n",
    "print(\"Cash balance is\", account.cash)"
   ]
  },
  {
   "cell_type": "markdown",
   "metadata": {"slideshow": {"slide_type": "slide"}},
   "source": [
    "### Open positions"
   ]
  },
  {
   "cell_type": "code",
   "execution_count": 5,
   "metadata": {"slideshow": {"slide_type": "slide"}},
   "outputs": [
    {
     "data": {
      "text/html": [
       "<div>\n",
       "<style scoped>\n",
       "    .dataframe tbody tr th:only-of-type {\n",
       "        vertical-align: middle;\n",
       "    }\n",
       "\n",
       "    .dataframe tbody tr th {\n",
       "        vertical-align: top;\n",
       "    }\n",
       "\n",
       "    .dataframe thead th {\n",
       "        text-align: right;\n",
       "    }\n",
       "</style>\n",
       "<table border=\"1\" class=\"dataframe\">\n",
       "  <thead>\n",
       "    <tr style=\"text-align: right;\">\n",
       "      <th></th>\n",
       "      <th>quantity</th>\n",
       "      <th>mkt_value</th>\n",
       "      <th>cost_basis</th>\n",
       "    </tr>\n",
       "  </thead>\n",
       "  <tbody>\n",
       "    <tr>\n",
       "      <th>AAPL</th>\n",
       "      <td>-5.0</td>\n",
       "      <td>-920.75</td>\n",
       "      <td>-942.39</td>\n",
       "    </tr>\n",
       "    <tr>\n",
       "      <th>SPY</th>\n",
       "      <td>10.0</td>\n",
       "      <td>4985.70</td>\n",
       "      <td>5012.77</td>\n",
       "    </tr>\n",
       "  </tbody>\n",
       "</table>\n",
       "</div>"
      ],
      "text/plain": [
       "      quantity  mkt_value  cost_basis\n",
       "AAPL      -5.0    -920.75     -942.39\n",
       "SPY       10.0    4985.70     5012.77"
      ]
     },
     "execution_count": 5,
     "metadata": {"slideshow": {"slide_type": "slide"}},
     "output_type": "execute_result"
    }
   ],
   "source": [
    "positions = trading_client.get_all_positions()\n",
    "quantity = {x.symbol: float(x.qty) for x in positions}\n",
    "mkt_value = {x.symbol: float(x.market_value) for x in positions}\n",
    "cost_basis = {x.symbol: float(x.cost_basis) for x in positions}\n",
    "\n",
    "positions = pd.DataFrame(\n",
    "    [quantity, mkt_value, cost_basis], index=[\"quantity\", \"mkt_value\", \"cost_basis\"]\n",
    ")\n",
    "positions.T"
   ]
  },
  {
   "cell_type": "markdown",
   "metadata": {"slideshow": {"slide_type": "slide"}},
   "source": [
    "## 3. Market Information"
   ]
  },
  {
   "cell_type": "markdown",
   "metadata": {"slideshow": {"slide_type": "slide"}},
   "source": [
    "### Information about a particular asset"
   ]
  },
  {
   "cell_type": "code",
   "execution_count": 6,
   "metadata": {"slideshow": {"slide_type": "slide"}},
   "outputs": [
    {
     "data": {
      "text/plain": [
       "{   'asset_class': <AssetClass.US_EQUITY: 'us_equity'>,\n",
       "    'easy_to_borrow': True,\n",
       "    'exchange': <AssetExchange.ARCA: 'ARCA'>,\n",
       "    'fractionable': True,\n",
       "    'id': UUID('b28f4066-5c6d-479b-a2af-85dc1a8f16fb'),\n",
       "    'maintenance_margin_requirement': 30.0,\n",
       "    'marginable': True,\n",
       "    'min_order_size': None,\n",
       "    'min_trade_increment': None,\n",
       "    'name': 'SPDR S&P 500 ETF Trust',\n",
       "    'price_increment': None,\n",
       "    'shortable': True,\n",
       "    'status': <AssetStatus.ACTIVE: 'active'>,\n",
       "    'symbol': 'SPY',\n",
       "    'tradable': True}"
      ]
     },
     "execution_count": 6,
     "metadata": {"slideshow": {"slide_type": "slide"}},
     "output_type": "execute_result"
    }
   ],
   "source": [
    "symbol = 'SPY'\n",
    "trading_client.get_asset(symbol)"
   ]
  },
  {
   "cell_type": "markdown",
   "metadata": {"slideshow": {"slide_type": "slide"}},
   "source": [
    "### Quotes"
   ]
  },
  {
   "cell_type": "code",
   "execution_count": 7,
   "metadata": {"slideshow": {"slide_type": "slide"}},
   "outputs": [
    {
     "data": {
      "text/plain": [
       "{'AAPL': {   'ask_exchange': 'V',\n",
       "     'ask_price': 185.52,\n",
       "     'ask_size': 1.0,\n",
       "     'bid_exchange': 'V',\n",
       "     'bid_price': 180.5,\n",
       "     'bid_size': 1.0,\n",
       "     'conditions': ['R'],\n",
       "     'symbol': 'AAPL',\n",
       "     'tape': 'C',\n",
       "     'timestamp': datetime.datetime(2024, 2, 14, 20, 59, 59, 996783, tzinfo=datetime.timezone.utc)},\n",
       " 'SPY': {   'ask_exchange': 'V',\n",
       "     'ask_price': 502.09,\n",
       "     'ask_size': 10.0,\n",
       "     'bid_exchange': 'V',\n",
       "     'bid_price': 498.57,\n",
       "     'bid_size': 1.0,\n",
       "     'conditions': ['R'],\n",
       "     'symbol': 'SPY',\n",
       "     'tape': 'B',\n",
       "     'timestamp': datetime.datetime(2024, 2, 14, 21, 59, 55, 17822, tzinfo=datetime.timezone.utc)},\n",
       " 'IBM': {   'ask_exchange': ' ',\n",
       "     'ask_price': 0.0,\n",
       "     'ask_size': 0.0,\n",
       "     'bid_exchange': 'V',\n",
       "     'bid_price': 183.67,\n",
       "     'bid_size': 1.0,\n",
       "     'conditions': ['R'],\n",
       "     'symbol': 'IBM',\n",
       "     'tape': 'A',\n",
       "     'timestamp': datetime.datetime(2024, 2, 14, 20, 59, 57, 191941, tzinfo=datetime.timezone.utc)}}"
      ]
     },
     "execution_count": 7,
     "metadata": {"slideshow": {"slide_type": "slide"}},
     "output_type": "execute_result"
    }
   ],
   "source": [
    "lst = ['SPY','AAPL','IBM']\n",
    "\n",
    "data_client = StockHistoricalDataClient(key, secret_key)\n",
    "params = StockLatestQuoteRequest(symbol_or_symbols=lst)\n",
    "quotes = data_client.get_stock_latest_quote(params)\n",
    "quotes"
   ]
  },
  {
   "cell_type": "markdown",
   "metadata": {"slideshow": {"slide_type": "slide"}},
   "source": [
    "### List of all US equities (including OTC)"
   ]
  },
  {
   "cell_type": "code",
   "execution_count": 8,
   "metadata": {"slideshow": {"slide_type": "slide"}},
   "outputs": [
    {
     "name": "stdout",
     "output_type": "stream",
     "text": [
      "There are 31,618 US equities.\n",
      "First stock in list is\n"
     ]
    },
    {
     "data": {
      "text/plain": [
       "{   'asset_class': <AssetClass.US_EQUITY: 'us_equity'>,\n",
       "    'easy_to_borrow': False,\n",
       "    'exchange': <AssetExchange.NASDAQ: 'NASDAQ'>,\n",
       "    'fractionable': False,\n",
       "    'id': UUID('345a9d38-1c90-4b33-806a-c5271ca795ea'),\n",
       "    'maintenance_margin_requirement': 100.0,\n",
       "    'marginable': False,\n",
       "    'min_order_size': None,\n",
       "    'min_trade_increment': None,\n",
       "    'name': 'LG Display Co. Rights (expiration 03/01/24)',\n",
       "    'price_increment': None,\n",
       "    'shortable': False,\n",
       "    'status': <AssetStatus.INACTIVE: 'inactive'>,\n",
       "    'symbol': '501RGT013',\n",
       "    'tradable': False}"
      ]
     },
     "execution_count": 8,
     "metadata": {"slideshow": {"slide_type": "slide"}},
     "output_type": "execute_result"
    }
   ],
   "source": [
    "search_params = GetAssetsRequest(asset_class=AssetClass.US_EQUITY)\n",
    "assets = trading_client.get_all_assets(search_params)\n",
    "\n",
    "print(f\"There are {len(assets):,} US equities.\")\n",
    "print(\"First stock in list is\")\n",
    "assets[0]"
   ]
  },
  {
   "cell_type": "markdown",
   "metadata": {"slideshow": {"slide_type": "slide"}},
   "source": [
    "### Tradable and shortable stocks"
   ]
  },
  {
   "cell_type": "code",
   "execution_count": 9,
   "metadata": {"slideshow": {"slide_type": "slide"}},
   "outputs": [
    {
     "name": "stdout",
     "output_type": "stream",
     "text": [
      "Number of tradable stocks is 11,336\n",
      "Number of shortable stocks is 5,093\n"
     ]
    }
   ],
   "source": [
    "tradable = [x.symbol for x in assets if x.tradable]\n",
    "shortable = [x.symbol for x in assets if x.shortable]\n",
    "\n",
    "print(f\"Number of tradable stocks is {len(tradable):,}\")\n",
    "print(f\"Number of shortable stocks is {len(shortable):,}\")"
   ]
  },
  {
   "cell_type": "markdown",
   "metadata": {"slideshow": {"slide_type": "slide"}},
   "source": [
    "### Tradable exchanges"
   ]
  },
  {
   "cell_type": "code",
   "execution_count": 10,
   "metadata": {"slideshow": {"slide_type": "slide"}},
   "outputs": [
    {
     "data": {
      "text/plain": [
       "{'AMEX', 'ARCA', 'BATS', 'NASDAQ', 'NYSE', 'OTC'}"
      ]
     },
     "execution_count": 10,
     "metadata": {"slideshow": {"slide_type": "slide"}},
     "output_type": "execute_result"
    }
   ],
   "source": [
    "set([x.exchange[:] for x in assets])"
   ]
  },
  {
   "cell_type": "markdown",
   "metadata": {"slideshow": {"slide_type": "slide"}},
   "source": [
    "## 4. Trading"
   ]
  },
  {
   "cell_type": "code",
   "execution_count": 11,
   "metadata": {"slideshow": {"slide_type": "slide"}},
   "outputs": [],
   "source": [
    "order = MarketOrderRequest(\n",
    "    symbol=\"SPY\",\n",
    "    qty=10,\n",
    "    side=OrderSide.BUY,\n",
    "    time_in_force=TimeInForce.DAY\n",
    "    )\n",
    "_ = trading_client.submit_order(order)"
   ]
  },
  {
   "cell_type": "code",
   "execution_count": 12,
   "metadata": {"slideshow": {"slide_type": "slide"}},
   "outputs": [],
   "source": [
    "order = MarketOrderRequest(\n",
    "    symbol=\"AAPL\",\n",
    "    qty=5,\n",
    "    side=OrderSide.SELL,\n",
    "    time_in_force=TimeInForce.DAY\n",
    "    )\n",
    "_ = trading_client.submit_order(order)"
   ]
  }
 ],
 "metadata": {
  "kernelspec": {
   "display_name": "Python 3",
   "language": "python",
   "name": "python3"
  },
  "language_info": {
   "codemirror_mode": {
    "name": "ipython",
    "version": 3
   },
   "file_extension": ".py",
   "mimetype": "text/x-python",
   "name": "python",
   "nbconvert_exporter": "python",
   "pygments_lexer": "ipython3",
   "version": "3.10.11"
  },
  "orig_nbformat": 4,
  "vscode": {
   "interpreter": {
    "hash": "a98f34b6005ae2330f135078450db511ef8910ecc790235ef0560aa88aa6ce12"
   }
  }
 },
 "nbformat": 4,
 "nbformat_minor": 2
}
