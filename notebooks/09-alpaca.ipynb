{
 "cells": [
  {
   "cell_type": "markdown",
   "metadata": {},
   "source": [
    "# Alpaca\n",
    "\n",
    "### BUSI 722: Data-Driven Finance II\n",
    "### Kerry Back, Rice University"
   ]
  },
  {
   "cell_type": "markdown",
   "metadata": {},
   "source": [
    "## Outline\n",
    "\n",
    "1. Create connection\n",
    "2. View account information\n",
    "3. View market information\n",
    "4. Make trades\n",
    "\n",
    "Note: log on to alpaca at https://alpaca.markets/ to get key and secret key"
   ]
  },
  {
   "cell_type": "code",
   "execution_count": 43,
   "metadata": {},
   "outputs": [],
   "source": [
    "from alpaca.trading.client import TradingClient\n",
    "from alpaca.trading.requests import MarketOrderRequest\n",
    "from alpaca.trading.enums import OrderSide, TimeInForce\n",
    "from alpaca.trading.requests import GetAssetsRequest\n",
    "from alpaca.data import StockHistoricalDataClient\n",
    "from alpaca.data.requests import StockLatestQuoteRequest\n",
    "from alpaca.trading.enums import AssetClass\n",
    "import pandas as pd"
   ]
  },
  {
   "cell_type": "markdown",
   "metadata": {},
   "source": [
    "## 1. Create Connection"
   ]
  },
  {
   "cell_type": "code",
   "execution_count": 44,
   "metadata": {},
   "outputs": [],
   "source": [
    "KEY = \"PKWPSIEQ8SCBOXYJHZ0G\"\n",
    "SECRET_KEY = \"g6IrUta5cx8yzJnIPrx2CPG2vvzjCvPqDvZgqyDM\"\n",
    "trading_client = TradingClient(KEY, SECRET_KEY, paper=True)"
   ]
  },
  {
   "cell_type": "markdown",
   "metadata": {},
   "source": [
    "## 2. Account Information"
   ]
  },
  {
   "cell_type": "code",
   "execution_count": 45,
   "metadata": {},
   "outputs": [
    {
     "data": {
      "text/plain": [
       "{   'account_blocked': False,\n",
       "    'account_number': 'PA3J0LUAM1VV',\n",
       "    'accrued_fees': '0',\n",
       "    'buying_power': '200000',\n",
       "    'cash': '100000',\n",
       "    'created_at': datetime.datetime(2024, 2, 11, 16, 46, 29, 12993, tzinfo=datetime.timezone.utc),\n",
       "    'crypto_status': <AccountStatus.ACTIVE: 'ACTIVE'>,\n",
       "    'currency': 'USD',\n",
       "    'daytrade_count': 0,\n",
       "    'daytrading_buying_power': '0',\n",
       "    'equity': '100000',\n",
       "    'id': UUID('8955151d-0998-4e09-bae8-6f8ed3979f47'),\n",
       "    'initial_margin': '0',\n",
       "    'last_equity': '100000',\n",
       "    'last_maintenance_margin': '0',\n",
       "    'long_market_value': '0',\n",
       "    'maintenance_margin': '0',\n",
       "    'multiplier': '2',\n",
       "    'non_marginable_buying_power': '100000',\n",
       "    'pattern_day_trader': False,\n",
       "    'pending_transfer_in': '0',\n",
       "    'pending_transfer_out': None,\n",
       "    'portfolio_value': '100000',\n",
       "    'regt_buying_power': '200000',\n",
       "    'short_market_value': '0',\n",
       "    'shorting_enabled': True,\n",
       "    'sma': '0',\n",
       "    'status': <AccountStatus.ACTIVE: 'ACTIVE'>,\n",
       "    'trade_suspended_by_user': False,\n",
       "    'trading_blocked': False,\n",
       "    'transfers_blocked': False}"
      ]
     },
     "execution_count": 45,
     "metadata": {},
     "output_type": "execute_result"
    }
   ],
   "source": [
    "account = trading_client.get_account()\n",
    "account"
   ]
  },
  {
   "cell_type": "markdown",
   "metadata": {},
   "source": [
    "### Examples of retrieving account details"
   ]
  },
  {
   "cell_type": "code",
   "execution_count": 58,
   "metadata": {},
   "outputs": [
    {
     "name": "stdout",
     "output_type": "stream",
     "text": [
      "Account balance is 100000\n",
      "Yesterday's account balance was 100000\n",
      "Buying power is 194019.67\n",
      "Cash balance is 100000\n"
     ]
    }
   ],
   "source": [
    "print(\"Account balance is\", account.equity)\n",
    "print(\"Yesterday's account balance was\", account.last_equity)\n",
    "print(\"Buying power is\", account.buying_power)\n",
    "print(\"Cash balance is\", account.cash)"
   ]
  },
  {
   "cell_type": "markdown",
   "metadata": {},
   "source": [
    "### Open positions"
   ]
  },
  {
   "cell_type": "code",
   "execution_count": 47,
   "metadata": {},
   "outputs": [
    {
     "data": {
      "text/html": [
       "<div>\n",
       "<style scoped>\n",
       "    .dataframe tbody tr th:only-of-type {\n",
       "        vertical-align: middle;\n",
       "    }\n",
       "\n",
       "    .dataframe tbody tr th {\n",
       "        vertical-align: top;\n",
       "    }\n",
       "\n",
       "    .dataframe thead th {\n",
       "        text-align: right;\n",
       "    }\n",
       "</style>\n",
       "<table border=\"1\" class=\"dataframe\">\n",
       "  <thead>\n",
       "    <tr style=\"text-align: right;\">\n",
       "      <th></th>\n",
       "      <th>quantity</th>\n",
       "      <th>mkt_value</th>\n",
       "      <th>cost_basis</th>\n",
       "    </tr>\n",
       "  </thead>\n",
       "  <tbody>\n",
       "  </tbody>\n",
       "</table>\n",
       "</div>"
      ],
      "text/plain": [
       "Empty DataFrame\n",
       "Columns: [quantity, mkt_value, cost_basis]\n",
       "Index: []"
      ]
     },
     "execution_count": 47,
     "metadata": {},
     "output_type": "execute_result"
    }
   ],
   "source": [
    "positions = trading_client.get_all_positions()\n",
    "symbol = [x.symbol for x in positions]\n",
    "quantity = [float(x.qty) for x in positions]\n",
    "mkt_value = [float(x.market_value) for x in positions]\n",
    "cost_basis = [float(x.cost_basis) for x in positions]\n",
    "\n",
    "positions = pd.DataFrame(\n",
    "    dict(quantity=quantity, mkt_value=mkt_value, cost_basis=cost_basis),\n",
    "    index=symbol\n",
    ")\n",
    "positions"
   ]
  },
  {
   "cell_type": "markdown",
   "metadata": {},
   "source": [
    "## 3. Market Information"
   ]
  },
  {
   "cell_type": "markdown",
   "metadata": {},
   "source": [
    "### Information about a particular asset"
   ]
  },
  {
   "cell_type": "code",
   "execution_count": 48,
   "metadata": {},
   "outputs": [
    {
     "name": "stdout",
     "output_type": "stream",
     "text": [
      "We can trade SPY.\n"
     ]
    },
    {
     "data": {
      "text/plain": [
       "{   'asset_class': <AssetClass.US_EQUITY: 'us_equity'>,\n",
       "    'easy_to_borrow': True,\n",
       "    'exchange': <AssetExchange.ARCA: 'ARCA'>,\n",
       "    'fractionable': True,\n",
       "    'id': UUID('b28f4066-5c6d-479b-a2af-85dc1a8f16fb'),\n",
       "    'maintenance_margin_requirement': 30.0,\n",
       "    'marginable': True,\n",
       "    'min_order_size': None,\n",
       "    'min_trade_increment': None,\n",
       "    'name': 'SPDR S&P 500 ETF Trust',\n",
       "    'price_increment': None,\n",
       "    'shortable': True,\n",
       "    'status': <AssetStatus.ACTIVE: 'active'>,\n",
       "    'symbol': 'SPY',\n",
       "    'tradable': True}"
      ]
     },
     "execution_count": 48,
     "metadata": {},
     "output_type": "execute_result"
    }
   ],
   "source": [
    "SYMBOL = 'SPY'\n",
    "\n",
    "asset_info = trading_client.get_asset(SYMBOL)\n",
    "if asset_info.tradable:\n",
    "    print(f'We can trade {SYMBOL}.')\n",
    "asset_info"
   ]
  },
  {
   "cell_type": "markdown",
   "metadata": {},
   "source": [
    "### Quotes"
   ]
  },
  {
   "cell_type": "code",
   "execution_count": 49,
   "metadata": {},
   "outputs": [
    {
     "data": {
      "text/plain": [
       "{'SPY': {   'ask_exchange': 'V',\n",
       "     'ask_price': 503.9,\n",
       "     'ask_size': 10.0,\n",
       "     'bid_exchange': 'V',\n",
       "     'bid_price': 497.87,\n",
       "     'bid_size': 10.0,\n",
       "     'conditions': ['R'],\n",
       "     'symbol': 'SPY',\n",
       "     'tape': 'B',\n",
       "     'timestamp': datetime.datetime(2024, 2, 9, 21, 59, 0, 970892, tzinfo=datetime.timezone.utc)},\n",
       " 'IBM': {   'ask_exchange': ' ',\n",
       "     'ask_price': 0.0,\n",
       "     'ask_size': 0.0,\n",
       "     'bid_exchange': 'V',\n",
       "     'bid_price': 186.31,\n",
       "     'bid_size': 1.0,\n",
       "     'conditions': ['?'],\n",
       "     'symbol': 'IBM',\n",
       "     'tape': 'A',\n",
       "     'timestamp': datetime.datetime(2024, 2, 9, 20, 59, 59, 511101, tzinfo=datetime.timezone.utc)},\n",
       " 'AAPL': {   'ask_exchange': 'V',\n",
       "     'ask_price': 199.0,\n",
       "     'ask_size': 1.0,\n",
       "     'bid_exchange': 'V',\n",
       "     'bid_price': 185.0,\n",
       "     'bid_size': 5.0,\n",
       "     'conditions': ['R'],\n",
       "     'symbol': 'AAPL',\n",
       "     'tape': 'C',\n",
       "     'timestamp': datetime.datetime(2024, 2, 9, 20, 59, 59, 204964, tzinfo=datetime.timezone.utc)}}"
      ]
     },
     "execution_count": 49,
     "metadata": {},
     "output_type": "execute_result"
    }
   ],
   "source": [
    "lst = ['SPY','AAPL','IBM']\n",
    "\n",
    "data_client = StockHistoricalDataClient(KEY, SECRET_KEY)\n",
    "params = StockLatestQuoteRequest(symbol_or_symbols=lst)\n",
    "quotes = data_client.get_stock_latest_quote(params)\n",
    "quotes"
   ]
  },
  {
   "cell_type": "markdown",
   "metadata": {},
   "source": [
    "### List of all US equities (including OTC)"
   ]
  },
  {
   "cell_type": "code",
   "execution_count": 50,
   "metadata": {},
   "outputs": [
    {
     "name": "stdout",
     "output_type": "stream",
     "text": [
      "There are 31,628 US equities.\n",
      "First stock in list is\n"
     ]
    },
    {
     "data": {
      "text/plain": [
       "{   'asset_class': <AssetClass.US_EQUITY: 'us_equity'>,\n",
       "    'easy_to_borrow': False,\n",
       "    'exchange': <AssetExchange.OTC: 'OTC'>,\n",
       "    'fractionable': False,\n",
       "    'id': UUID('574cbb96-9a53-45c8-a350-2367321145a4'),\n",
       "    'maintenance_margin_requirement': 100.0,\n",
       "    'marginable': False,\n",
       "    'min_order_size': None,\n",
       "    'min_trade_increment': None,\n",
       "    'name': 'RSE ARCHIVE LLC MEMBERSHIP INT SER - 91JORDAN 1991 JORDAN GAME '\n",
       "            'WORN UNIFORM',\n",
       "    'price_increment': None,\n",
       "    'shortable': False,\n",
       "    'status': <AssetStatus.INACTIVE: 'inactive'>,\n",
       "    'symbol': 'AHLFS',\n",
       "    'tradable': False}"
      ]
     },
     "execution_count": 50,
     "metadata": {},
     "output_type": "execute_result"
    }
   ],
   "source": [
    "search_params = GetAssetsRequest(asset_class=AssetClass.US_EQUITY)\n",
    "assets = trading_client.get_all_assets(search_params)\n",
    "\n",
    "print(f\"There are {len(assets):,} US equities.\")\n",
    "print(\"First stock in list is\")\n",
    "assets[0]"
   ]
  },
  {
   "cell_type": "markdown",
   "metadata": {},
   "source": [
    "### Tradable and shortable stocks"
   ]
  },
  {
   "cell_type": "code",
   "execution_count": 51,
   "metadata": {},
   "outputs": [
    {
     "name": "stdout",
     "output_type": "stream",
     "text": [
      "Number of tradable stocks is 11,344\n",
      "Number of shortable stocks is 4,943\n"
     ]
    },
    {
     "data": {
      "text/plain": [
       "ALLK      True\n",
       "ADMA      True\n",
       "SVIIU    False\n",
       "SVIIW    False\n",
       "SVIX      True\n",
       "dtype: bool"
      ]
     },
     "execution_count": 51,
     "metadata": {},
     "output_type": "execute_result"
    }
   ],
   "source": [
    "assets = [x for x in assets if x.tradable]\n",
    "symbols = [x.symbol for x in assets]\n",
    "shortable = [x.shortable for x in assets]\n",
    "shortable = pd.Series(shortable, index=symbols)\n",
    "\n",
    "print(f\"Number of tradable stocks is {len(assets):,}\")\n",
    "print(f\"Number of shortable stocks is {shortable.sum():,}\")\n",
    "shortable.head()"
   ]
  },
  {
   "cell_type": "markdown",
   "metadata": {},
   "source": [
    "### Tradable exchanges"
   ]
  },
  {
   "cell_type": "code",
   "execution_count": 52,
   "metadata": {},
   "outputs": [
    {
     "data": {
      "text/plain": [
       "{'AMEX', 'ARCA', 'BATS', 'NASDAQ', 'NYSE', 'OTC'}"
      ]
     },
     "execution_count": 52,
     "metadata": {},
     "output_type": "execute_result"
    }
   ],
   "source": [
    "set([x.exchange[:] for x in assets])"
   ]
  },
  {
   "cell_type": "markdown",
   "metadata": {},
   "source": [
    "## 4. Trading"
   ]
  },
  {
   "cell_type": "code",
   "execution_count": 53,
   "metadata": {},
   "outputs": [],
   "source": [
    "order = MarketOrderRequest(\n",
    "    symbol=\"SPY\",\n",
    "    qty=10,\n",
    "    side=OrderSide.BUY,\n",
    "    time_in_force=TimeInForce.DAY\n",
    "    )\n",
    "_ = trading_client.submit_order(order)"
   ]
  },
  {
   "cell_type": "code",
   "execution_count": 54,
   "metadata": {},
   "outputs": [],
   "source": [
    "order = MarketOrderRequest(\n",
    "    symbol=\"AAPL\",\n",
    "    qty=5,\n",
    "    side=OrderSide.SELL,\n",
    "    time_in_force=TimeInForce.DAY\n",
    "    )\n",
    "_ = trading_client.submit_order(order)"
   ]
  }
 ],
 "metadata": {
  "kernelspec": {
   "display_name": "Python 3",
   "language": "python",
   "name": "python3"
  },
  "language_info": {
   "codemirror_mode": {
    "name": "ipython",
    "version": 3
   },
   "file_extension": ".py",
   "mimetype": "text/x-python",
   "name": "python",
   "nbconvert_exporter": "python",
   "pygments_lexer": "ipython3",
   "version": "3.10.11"
  },
  "orig_nbformat": 4,
  "vscode": {
   "interpreter": {
    "hash": "a98f34b6005ae2330f135078450db511ef8910ecc790235ef0560aa88aa6ce12"
   }
  }
 },
 "nbformat": 4,
 "nbformat_minor": 2
}
