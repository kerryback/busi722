{
 "cells": [
  {
   "cell_type": "markdown",
   "metadata": {
    "slideshow": {
     "slide_type": "slide"
    }
   },
   "source": [
    "# Option Valuation\n",
    "\n",
    "### BUSI 722: Data-Driven Finance II\n",
    "### Kerry Back, Rice University"
   ]
  },
  {
   "cell_type": "markdown",
   "metadata": {
    "slideshow": {
     "slide_type": "slide"
    }
   },
   "source": [
    "### Comparison pricing\n",
    "\n",
    "- How do you decide if a house is fairly priced?\n",
    "- An analogue to price / square foot for valuing companies is price-to-earnings.\n",
    "- For valuing an option, we could use other options or we can just start with the underlying price.\n",
    "- Option value = intrinsic value + adjustment for time and uncertainty."
   ]
  },
  {
   "cell_type": "markdown",
   "metadata": {
    "slideshow": {
     "slide_type": "slide"
    }
   },
   "source": [
    "### Replication\n",
    "\n",
    "- If we could create the option value at maturity by dynamically trading the underlying, then the value of the option should be the cost of the underlying portfolio.\n",
    "- Call $\\sim$ long underlying with leverage, so value of call = cost of underlying minus amount borrowed\n",
    "- Put $\\sim$ short underlying not fully collateralized, so value of put = implicit collateral"
   ]
  },
  {
   "cell_type": "markdown",
   "metadata": {
    "slideshow": {
     "slide_type": "slide"
    }
   },
   "source": [
    "### Call Option\n",
    "\n",
    "- Consider a call option with a strike of 105.  \n",
    "- It ends with a value of 5 if the stock goes to 110 and a value of 0 if the stock goes to 90.\n",
    "- We want to find its value at the beginning.\n",
    "\n",
    "![](images/binomial_call_oneperiod.jpg)"
   ]
  },
  {
   "cell_type": "markdown",
   "metadata": {
    "slideshow": {
     "slide_type": "slide"
    }
   },
   "source": [
    "### Delta\n",
    "\n",
    "- Define $\\Delta$ as the difference in the option values divided by the difference in the stock values.\n",
    "- This is $(5-0)/(110-90) = 1/4$.  \n",
    "- Here is the value of 1/4 share of the stock.\n",
    " \n",
    "![](images/binomial_deltashares_oneperiod.jpg)"
   ]
  },
  {
   "cell_type": "markdown",
   "metadata": {
    "slideshow": {
     "slide_type": "slide"
    }
   },
   "source": [
    "### Debt\n",
    "\n",
    "- Consider borrowing the PV of the bottom value from the previous figure.\n",
    "- Suppose the interest rate is 5%.  The PV of 22.50 is 21.43. Here is how the debt evolves.\n",
    "\n",
    "![](images/binomial_liability_oneperiod.jpg)"
   ]
  },
  {
   "cell_type": "markdown",
   "metadata": {
    "slideshow": {
     "slide_type": "slide"
    }
   },
   "source": [
    "### Buy $\\Delta$ shares on margin\n",
    "\n",
    "The value of delta shares less the value of the debt is:\n",
    "\n",
    "![](images/binomial_call_complete_oneperiod.jpg)"
   ]
  },
  {
   "cell_type": "markdown",
   "metadata": {
    "slideshow": {
     "slide_type": "slide"
    }
   },
   "source": [
    "### Conclusion\n",
    "\n",
    "- In this simple example, we can get the call option payoff at maturity by investing 3.57, borrowing 21.43, and buying 1/4 share.\n",
    "- The value of the call must be 3.57."
   ]
  },
  {
   "cell_type": "markdown",
   "metadata": {
    "slideshow": {
     "slide_type": "slide"
    }
   },
   "source": [
    "## Risk-neutral probability"
   ]
  },
  {
   "cell_type": "markdown",
   "metadata": {
    "slideshow": {
     "slide_type": "slide"
    }
   },
   "source": [
    "- If there were no risk premium, the call value would be the expected value discounted at the risk-free rate:\n",
    "\n",
    "$$C = \\frac{p \\times \\text{\\$}5 + (1-p)\\times \\text{\\$}0}{1.05}$$\n",
    "\n",
    "- where $p=$ up probability.  The stock price would also be the discounted expected value:\n",
    "\n",
    "$$\\text{\\$}100 = \\frac{p \\times \\text{\\$}110 + (1-p) \\times \\text{\\$}90}{1.05} \\quad \\Leftrightarrow \\quad  S = \\frac{p(1+r_u)S + (1-p)(1+r_d)S}{1+r_f} $$\n",
    "\n",
    "- Solve the stock equation for $p$:\n",
    "\n",
    "$$p = \\frac{r_f - r_d}{r_u - r_d} = \\frac{0.05 - (-0.1)}{0.1 - (-0.1)} = \\frac{.15}{.2} = 0.75$$"
   ]
  },
  {
   "cell_type": "markdown",
   "metadata": {
    "slideshow": {
     "slide_type": "slide"
    }
   },
   "source": [
    "- Substitute into the call option equation.  Obtain\n",
    "\n",
    "$$C = \\frac{0.75 \\times \\text{\\$}5 + 0.25\\times \\text{\\$}0}{1.05} = \\text{\\$}3.57$$\n",
    "\n",
    "- Why does this work? Delta hedge argument didn't depend on risk preferences, so we can act as if investors don't require risk premia."
   ]
  },
  {
   "cell_type": "markdown",
   "metadata": {
    "slideshow": {
     "slide_type": "slide"
    }
   },
   "source": [
    "## Risk-neutral probability in two-period example"
   ]
  },
  {
   "cell_type": "markdown",
   "metadata": {
    "slideshow": {
     "slide_type": "slide"
    }
   },
   "source": [
    "### Stock dynamics\n",
    "\n",
    "- A $100 stock goes up by 5% or down by (1/1.05-1) = -4.76% in each of two periods.\n",
    "- Interest rate is 3% per period\n",
    "\n",
    "![](images/binomial_two_period.jpg)"
   ]
  },
  {
   "cell_type": "markdown",
   "metadata": {
    "slideshow": {
     "slide_type": "slide"
    }
   },
   "source": [
    "### Risk-neutral probability\n",
    "\n",
    "The risk-neutral probability of \"up\" is\n",
    "\n",
    "$$ p = \\frac{r_f - r_d}{r_u - r_d} = \\frac{0.03 - (-0.0476)}{0.05 - (-0.0476)} = 0.795$$"
   ]
  },
  {
   "cell_type": "markdown",
   "metadata": {
    "slideshow": {
     "slide_type": "slide"
    }
   },
   "source": [
    "### Call option with strike = 105\n",
    "\n",
    "The call evolves as\n",
    "\n",
    "![](images/call_two_period_1.jpg)"
   ]
  },
  {
   "cell_type": "markdown",
   "metadata": {
    "slideshow": {
     "slide_type": "slide"
    }
   },
   "source": [
    "Discounting the expected call value (using prob of up = 0.795) at the risk-free rate yields\n",
    "\n",
    "![](images/call_two_period_2.jpg)"
   ]
  },
  {
   "cell_type": "markdown",
   "metadata": {
    "slideshow": {
     "slide_type": "slide"
    }
   },
   "source": [
    "### Exercise\n",
    "\n",
    "Price a call with a strike of 95."
   ]
  },
  {
   "cell_type": "markdown",
   "metadata": {
    "slideshow": {
     "slide_type": "slide"
    }
   },
   "source": [
    "## Calibration"
   ]
  },
  {
   "cell_type": "markdown",
   "metadata": {
    "slideshow": {
     "slide_type": "slide"
    }
   },
   "source": [
    "- Estimate $\\sigma=$ std dev of annual stock return\n",
    "- Find $r_f =$ annualized continuously compounded interest rate = log(1+annual rate)\n",
    "- $T=$ time to maturity of an option in years\n",
    "- $N=$ number of periods in a binomial model"
   ]
  },
  {
   "cell_type": "markdown",
   "metadata": {
    "slideshow": {
     "slide_type": "slide"
    }
   },
   "source": [
    "- $\\Delta t = T/N=$ period length\n",
    "- Set the up rate of return as $u = e^{\\sigma\\sqrt{\\Delta t}}-1$ and set $d=1/(1+u)-1$ as in the two-period example\n",
    "- Set the 1-period interest rate as $r=e^{r_f \\Delta t}-1$\n",
    "- The risk-neutral probability of \"up\" is\n",
    "\n",
    "$$p = \\frac{r-d}{u-d} = \\frac{e^{r_f \\Delta t} - e^{-\\sigma \\Delta t}}{e^{\\sigma \\Delta t} - e^{-\\sigma \\Delta t}}$$"
   ]
  },
  {
   "cell_type": "markdown",
   "metadata": {
    "slideshow": {
     "slide_type": "slide"
    }
   },
   "source": [
    "### Exercise\n",
    "\n",
    "Price a six-month call option using a two-period model.\n",
    "\n",
    "- $\\sigma = 0.4$\n",
    "- $r_f = 0.05$\n",
    "- $T = 0.5$\n",
    "- $N = 2$\n",
    "- $S = 100$\n",
    "- $K = 95$"
   ]
  },
  {
   "cell_type": "markdown",
   "metadata": {
    "slideshow": {
     "slide_type": "slide"
    }
   },
   "source": [
    "## Black-Scholes formulas"
   ]
  },
  {
   "cell_type": "markdown",
   "metadata": {
    "slideshow": {
     "slide_type": "slide"
    }
   },
   "source": [
    "- As $N \\rightarrow \\infty$ the distribution of the stock price at date $T$ converges to lognormal, meaning that the log stock price has a normal distribution.\n",
    "- The values of European options converge to the Black-Scholes formulas.\n",
    "- More about American options (and dividends) coming."
   ]
  },
  {
   "cell_type": "markdown",
   "metadata": {
    "slideshow": {
     "slide_type": "slide"
    }
   },
   "source": [
    "### Black-Scholes call formula"
   ]
  },
  {
   "cell_type": "code",
   "execution_count": 13,
   "metadata": {
    "slideshow": {
     "slide_type": "slide"
    }
   },
   "outputs": [],
   "source": [
    "import numpy as np \n",
    "from scipy.stats import norm \n",
    "\n",
    "def BS_call(S, K, T, sigma, r, q=0):\n",
    "    d1 = np.log(S/K) + (r-q+0.5*sigma**2)*T\n",
    "    d1 /= sigma*np.sqrt(T)\n",
    "    d2 = d1 - sigma*np.sqrt(T)\n",
    "    N1 = norm.cdf(d1)\n",
    "    N2 = norm.cdf(d2)\n",
    "    return np.exp(-q*T)*S*N1 - np.exp(-r*T)*K*N2"
   ]
  },
  {
   "cell_type": "markdown",
   "metadata": {
    "slideshow": {
     "slide_type": "slide"
    }
   },
   "source": [
    "### Black-Scholes put formula"
   ]
  },
  {
   "cell_type": "code",
   "execution_count": 14,
   "metadata": {
    "slideshow": {
     "slide_type": "slide"
    }
   },
   "outputs": [],
   "source": [
    "def BS_put(S, K, T, sigma, r, q=0):\n",
    "    d1 = np.log(S/K) + (r-q+0.5*sigma**2)*T\n",
    "    d1 /= sigma*np.sqrt(T)\n",
    "    d2 = d1 - sigma*np.sqrt(T)\n",
    "    N1 = norm.cdf(-d1)\n",
    "    N2 = norm.cdf(-d2)\n",
    "    return np.exp(-r*T)*K*N2 - np.exp(-q*T)*S*N1"
   ]
  },
  {
   "cell_type": "markdown",
   "metadata": {
    "slideshow": {
     "slide_type": "slide"
    }
   },
   "source": [
    "### Example"
   ]
  },
  {
   "cell_type": "code",
   "execution_count": 15,
   "metadata": {
    "slideshow": {
     "slide_type": "slide"
    }
   },
   "outputs": [
    {
     "name": "stdout",
     "output_type": "stream",
     "text": [
      "Value of call option is $14.89\n",
      "Value of put option is $7.55\n"
     ]
    }
   ],
   "source": [
    "S, K, T, sigma, r = 100, 95, 0.5, 0.4, 0.05\n",
    "print(f\"Value of call option is ${BS_call(S, K, T, sigma, r):.2f}\")\n",
    "print(f\"Value of put option is ${BS_put(S, K, T, sigma, r):.2f}\")"
   ]
  },
  {
   "cell_type": "markdown",
   "metadata": {
    "slideshow": {
     "slide_type": "slide"
    }
   },
   "source": [
    "## Dividends and early exercise"
   ]
  },
  {
   "cell_type": "markdown",
   "metadata": {
    "slideshow": {
     "slide_type": "slide"
    }
   },
   "source": [
    "### Dividends\n",
    "\n",
    "- To use binomial model, build a tree for \"stock minus PV of future dividends,\" the future being until the option maturity.\n",
    "- Try to set tree nodes near ex-dividend dates\n",
    "- Everything else as before.  As time passes, dividends get paid and \"stock minus PV of future dividends\" becomes \"stock.\""
   ]
  },
  {
   "cell_type": "markdown",
   "metadata": {
    "slideshow": {
     "slide_type": "slide"
    }
   },
   "source": [
    "### Early exercise\n",
    "\n",
    "- It may be optimal to exercise an American put at any time (though just after ex-dividend date is better than just before).\n",
    "- It may be optimal to exercise an American call just before a dividend is paid.\n",
    "- To use binomial model, replace \"discounted risk-neutral expectation of option value\" with max of discounted risk-neutral expectation and intrinsic value."
   ]
  }
 ],
 "metadata": {
  "kernelspec": {
   "display_name": "Python 3",
   "language": "python",
   "name": "python3"
  },
  "language_info": {
   "codemirror_mode": {
    "name": "ipython",
    "version": 3
   },
   "file_extension": ".py",
   "mimetype": "text/x-python",
   "name": "python",
   "nbconvert_exporter": "python",
   "pygments_lexer": "ipython3",
   "version": "3.10.11"
  }
 },
 "nbformat": 4,
 "nbformat_minor": 2
}
