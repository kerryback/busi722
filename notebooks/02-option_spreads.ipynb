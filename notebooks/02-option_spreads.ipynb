{
 "cells": [
  {
   "cell_type": "markdown",
   "metadata": {
    "slideshow": {
     "slide_type": "slide"
    }
   },
   "source": [
    "# Option Spreads\n",
    "\n",
    "### BUSI 722: Data-Driven Finance II\n",
    "### Kerry Back, Rice University"
   ]
  },
  {
   "cell_type": "markdown",
   "metadata": {"slideshow": {"slide_type": "slide"}},
   "source": [
    "## Hedging Short Positions"
   ]
  },
  {
   "cell_type": "markdown",
   "metadata": {
    "slideshow": {
     "slide_type": "slide"
    }
   },
   "source": [
    "### Protective call \n",
    "\n",
    "- If you are short an asset, you can protect against the price spiking by buying a call.  \n",
    "- Your liability cannot exceed the call strike, because the call option can be exercised at the strike, and the asset you acquire can be used to cover the short.\n",
    "- Usually use an out-of-the-money call."
   ]
  },
  {
   "cell_type": "markdown",
   "metadata": {
    "slideshow": {
     "slide_type": "slide"
    }
   },
   "source": [
    "### Collaring a short position\n",
    "\n",
    "- Buy an out-of-the-money call for protection\n",
    "- Sell an out-of-the-money put to help pay for it\n",
    "- Example: short a stock trading at 60, buy an 80 call, sell a 40 put\n",
    "- Giving up some potential gain to limit your maximum loss"
   ]
  },
  {
   "cell_type": "markdown",
   "metadata": {"slideshow": {"slide_type": "slide"}},
   "source": [
    "## Spreads for investing/speculating"
   ]
  },
  {
   "cell_type": "markdown",
   "metadata": {
    "slideshow": {
     "slide_type": "slide"
    }
   },
   "source": [
    "### Basics\n",
    "\n",
    "- Buy a call to speculate on price rising\n",
    "- Buy a put to speculate on price falling\n",
    "- Out-of-the-money options provide higher potential returns"
   ]
  },
  {
   "cell_type": "markdown",
   "metadata": {
    "slideshow": {
     "slide_type": "slide"
    }
   },
   "source": [
    "### Bull spread\n",
    "\n",
    "- Buy a call to speculate on price rising\n",
    "- Sell a further-out-of-the-money call to help pay for the first call\n",
    "- Reduces potential gain but risk less money"
   ]
  },
  {
   "cell_type": "markdown",
   "metadata": {
    "slideshow": {
     "slide_type": "slide"
    }
   },
   "source": [
    "### Bear spread\n",
    "\n",
    "- Buy a put to speculate on price falling\n",
    "- Sell a further-out-of-the-money put to help pay for the first put\n",
    "- Reduces potential gain but risk less money"
   ]
  },
  {
   "cell_type": "markdown",
   "metadata": {
    "slideshow": {
     "slide_type": "slide"
    }
   },
   "source": [
    "### Straddles and strangles\n",
    "\n",
    "- Straddle = call and put with the same strike\n",
    "- Win if underlying moves enough in either direction\n",
    "- Betting on volatility instead of making a directional bet\n",
    "- Strangle = make the put strike lower and the call strike higher\n",
    "  - Less effective bet but cheaper"
   ]
  },
  {
   "cell_type": "markdown",
   "metadata": {
    "slideshow": {
     "slide_type": "slide"
    }
   },
   "source": [
    "### Butterflies and condors\n",
    "\n",
    "- Empirically, selling straddles and strangles is profitable on average, but there is a lot of risk\n",
    "- Can buy insurance against the risk by buying options\n",
    "- A short straddle or strangle has both upside and downside risk\n",
    "  - Insure the downside by buying a put (with a lower strike)\n",
    "  - Insure the upside by buying a call (with a higher strike)\n",
    "- Straddle (strangle) w/ insurance = butterfly (condor)"
   ]
  },
  {
   "cell_type": "markdown",
   "metadata": {"slideshow": {"slide_type": "slide"}},
   "source": [
    "## Put-Call Parity and its Implications"
   ]
  },
  {
   "cell_type": "markdown",
   "metadata": {
    "slideshow": {
     "slide_type": "slide"
    }
   },
   "source": [
    "### Underlying + Put = Cash + Call\n",
    "\n",
    "- Protective put portfolio is same as call with cash, for European options\n",
    "- Cash = PV of strike\n",
    "- Stock ends up $\\Rightarrow$ \n",
    "  - With put, keep underlying\n",
    "  - With call, exercise to get underlying\n",
    "- Stock ends down $\\Rightarrow$\n",
    "  - With put, exercise to get cash\n",
    "  - With call, keep cash"
   ]
  },
  {
   "cell_type": "markdown",
   "metadata": {
    "slideshow": {
     "slide_type": "slide"
    }
   },
   "source": [
    "### Implication 1: Prices of puts and calls\n",
    "\n",
    "- Put-call parity implies that underlying price + put premium should equal PV of strike plus call premium\n",
    "- Equivalently, put premium = call premium + PV of strike - underlying price\n",
    "- Equivalently, call premium = put premium - PV of strike + underlying price\n",
    "- Actually, this is true only for European options on stocks that don't pay dividends before the option maturity."
   ]
  },
  {
   "cell_type": "markdown",
   "metadata": {
    "slideshow": {
     "slide_type": "slide"
    }
   },
   "source": [
    "### Implication 2: Calls are better alive than dead\n",
    "\n",
    "- Never optimal to exercise American calls on non-dividend paying stocks prior to maturity\n",
    "- If you exercise, you get underlying price - strike\n",
    "- If you hold, value is \n",
    "  - underlying price + put value - PV of strike\n",
    "  - $>$ underlying price - PV of strike\n",
    "  - $>$ underlying price - strike"
   ]
  },
  {
   "cell_type": "markdown",
   "metadata": {
    "slideshow": {
     "slide_type": "slide"
    }
   },
   "source": [
    "### Can be optimal to exercise American puts early\n",
    "\n",
    "- Exercise when underlying is very low\n",
    "- When it becomes clear that exercise will be optimal, might as well exercise early to get strike and earn a return on it.\n",
    "- Still better to close position by selling rather than exercising.  \n",
    "- Optimality of exercise means that put premium can fall to strike - underlying price."
   ]
  },
  {
   "cell_type": "markdown",
   "metadata": {
    "slideshow": {
     "slide_type": "slide"
    }
   },
   "source": [
    "### Implication 3: Two ways to make bets\n",
    "\n",
    "- Anything you can do with a call, you can also do with a put and the underlying and cash\n",
    "- And vice versa\n",
    "- Example: bear spread with cash = collared long position\n",
    "- Example: make a butterfly spread entirely with calls"
   ]
  }
 ],
 "metadata": {
  "kernelspec": {
   "display_name": "Python 3",
   "language": "python",
   "name": "python3"
  },
  "language_info": {
   "codemirror_mode": {
    "name": "ipython",
    "version": 3
   },
   "file_extension": ".py",
   "mimetype": "text/x-python",
   "name": "python",
   "nbconvert_exporter": "python",
   "pygments_lexer": "ipython3",
   "version": "3.10.8"
  }
 },
 "nbformat": 4,
 "nbformat_minor": 2
}
